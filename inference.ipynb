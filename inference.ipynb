{
 "cells": [
  {
   "cell_type": "markdown",
   "id": "e4079f41",
   "metadata": {},
   "source": [
    "## Summary"
   ]
  },
  {
   "cell_type": "markdown",
   "id": "aa715249",
   "metadata": {},
   "source": [
    "### Tóm tắt dự án\n",
    "\n",
    "Dự án này xây dựng hệ thống phân loại response dựa trên **Student–Teacher Framework**:\n",
    "\n",
    "- **Student**: gồm nhiều mô hình nhị phân (binary classification) để phân loại response theo các tiêu chí nhỏ (ví dụ: yes/no, known/unknown, support/contradictory).\n",
    "- **Teacher**: là mô hình 3 nhãn tổng quát (no, intrinsic, extrinsic).\n",
    "\n",
    "Cơ chế hoạt động:\n",
    "\n",
    "- Nếu các mô hình Student đồng thuận với nhau → sử dụng kết quả của Student.\n",
    "- Nếu các mô hình Student không đồng thuận → sử dụng kết quả của Teacher.\n",
    "\n",
    "Cách tiếp cận này giúp tăng độ chính xác bằng cách tận dụng ưu điểm của cả Student (chi tiết, chuyên biệt) và Teacher (tổng quát, ổn định)."
   ]
  },
  {
   "cell_type": "markdown",
   "id": "d759b9d3",
   "metadata": {},
   "source": [
    "### Ánh xạ nhãn Student → Teacher\n",
    "\n",
    "Mỗi Student chịu trách nhiệm phân loại ở một khía cạnh nhỏ, sau đó ánh xạ về nhãn cuối cùng của Teacher (3 nhãn: **no, intrinsic, extrinsic**):\n",
    "\n",
    "- **Student 1 (yes/no):**\n",
    "\n",
    "  - `yes` → **extrinsic** hoặc **intrinsic**\n",
    "  - `no` → **no**\n",
    "\n",
    "- **Student 2 (known/unknown):**\n",
    "\n",
    "  - `known` → **no** hoặc **intrinsic**\n",
    "  - `unknown` → **extrinsic**\n",
    "\n",
    "- **Student 3 (support/contradictory):**\n",
    "  - `support` → **no** hoặc **extrinsic**\n",
    "  - `contradictory` → **intrinsic**\n",
    "\n",
    "Hệ thống sẽ:\n",
    "\n",
    "- Ưu tiên kết quả khi **các Student đồng thuận**.\n",
    "- Nếu **Student mâu thuẫn nhau**, kết quả sẽ được lấy từ **Teacher model**."
   ]
  },
  {
   "cell_type": "markdown",
   "id": "51bc55e1",
   "metadata": {
    "papermill": {
     "duration": 0.007786,
     "end_time": "2025-10-07T00:36:42.953830",
     "exception": false,
     "start_time": "2025-10-07T00:36:42.946044",
     "status": "completed"
    },
    "tags": []
   },
   "source": [
    "## Global variables"
   ]
  },
  {
   "cell_type": "code",
   "execution_count": 1,
   "id": "66607d4b",
   "metadata": {
    "execution": {
     "iopub.execute_input": "2025-10-07T00:36:42.968338Z",
     "iopub.status.busy": "2025-10-07T00:36:42.968127Z",
     "iopub.status.idle": "2025-10-07T00:36:42.974360Z",
     "shell.execute_reply": "2025-10-07T00:36:42.973678Z"
    },
    "papermill": {
     "duration": 0.014595,
     "end_time": "2025-10-07T00:36:42.975463",
     "exception": false,
     "start_time": "2025-10-07T00:36:42.960868",
     "status": "completed"
    },
    "tags": []
   },
   "outputs": [],
   "source": [
    "FULL_LABEL_MODEL_PATH = \"/kaggle/input/prime-dsc-models/full_label/full_label\"\n",
    "KNOWN_UNKNOWN_MODEL_PATH = \"/kaggle/input/prime-dsc-models/known_unknown/known_unknown\"\n",
    "SUPPORTED_CONTRADICTORY_MODEL_PATH = \"/kaggle/input/prime-dsc-models/supported_contradictory/supported_contradictory\"\n",
    "TRUTH_HALLUCINATION_MODEL_PATH = \"/kaggle/input/prime-dsc-models/truth_hallucination/truth_hallucination\"\n",
    "PRIVATE_TEST_DATASET_PATH = \"/kaggle/input/dsc-2025-llm-hallucination/vihallu-private-test.csv\"\n",
    "SUBMITTED_FILE_PATH = \"/kaggle/input/dsc-2025-llm-hallucination/submited_file.csv\""
   ]
  },
  {
   "cell_type": "code",
   "execution_count": 2,
   "id": "8b0b7ddc",
   "metadata": {
    "execution": {
     "iopub.execute_input": "2025-10-07T00:36:42.991386Z",
     "iopub.status.busy": "2025-10-07T00:36:42.991188Z",
     "iopub.status.idle": "2025-10-07T00:36:42.994204Z",
     "shell.execute_reply": "2025-10-07T00:36:42.993547Z"
    },
    "papermill": {
     "duration": 0.012033,
     "end_time": "2025-10-07T00:36:42.995263",
     "exception": false,
     "start_time": "2025-10-07T00:36:42.983230",
     "status": "completed"
    },
    "tags": []
   },
   "outputs": [],
   "source": [
    "BASE_MODEL_ID = \"Qwen/Qwen3-4B-Instruct-2507\""
   ]
  },
  {
   "cell_type": "markdown",
   "id": "37f2d07a",
   "metadata": {
    "papermill": {
     "duration": 0.006372,
     "end_time": "2025-10-07T00:36:43.008171",
     "exception": false,
     "start_time": "2025-10-07T00:36:43.001799",
     "status": "completed"
    },
    "tags": []
   },
   "source": [
    "## Install and import necessary libraries"
   ]
  },
  {
   "cell_type": "code",
   "execution_count": 3,
   "id": "8a1a9071",
   "metadata": {
    "execution": {
     "iopub.execute_input": "2025-10-07T00:36:43.021776Z",
     "iopub.status.busy": "2025-10-07T00:36:43.021587Z",
     "iopub.status.idle": "2025-10-07T00:37:54.717765Z",
     "shell.execute_reply": "2025-10-07T00:37:54.716844Z"
    },
    "papermill": {
     "duration": 71.704747,
     "end_time": "2025-10-07T00:37:54.719350",
     "exception": false,
     "start_time": "2025-10-07T00:36:43.014603",
     "status": "completed"
    },
    "tags": []
   },
   "outputs": [
    {
     "name": "stdout",
     "output_type": "stream",
     "text": [
      "\u001b[2K   \u001b[90m━━━━━━━━━━━━━━━━━━━━━━━━━━━━━━━━━━━━━━━━\u001b[0m \u001b[32m363.4/363.4 MB\u001b[0m \u001b[31m4.8 MB/s\u001b[0m eta \u001b[36m0:00:00\u001b[0m\r\n",
      "\u001b[2K   \u001b[90m━━━━━━━━━━━━━━━━━━━━━━━━━━━━━━━━━━━━━━━━\u001b[0m \u001b[32m13.8/13.8 MB\u001b[0m \u001b[31m74.5 MB/s\u001b[0m eta \u001b[36m0:00:00\u001b[0m\r\n",
      "\u001b[2K   \u001b[90m━━━━━━━━━━━━━━━━━━━━━━━━━━━━━━━━━━━━━━━━\u001b[0m \u001b[32m24.6/24.6 MB\u001b[0m \u001b[31m66.7 MB/s\u001b[0m eta \u001b[36m0:00:00\u001b[0m\r\n",
      "\u001b[2K   \u001b[90m━━━━━━━━━━━━━━━━━━━━━━━━━━━━━━━━━━━━━━━━\u001b[0m \u001b[32m883.7/883.7 kB\u001b[0m \u001b[31m44.0 MB/s\u001b[0m eta \u001b[36m0:00:00\u001b[0m\r\n",
      "\u001b[2K   \u001b[90m━━━━━━━━━━━━━━━━━━━━━━━━━━━━━━━━━━━━━━━━\u001b[0m \u001b[32m664.8/664.8 MB\u001b[0m \u001b[31m2.6 MB/s\u001b[0m eta \u001b[36m0:00:00\u001b[0m\r\n",
      "\u001b[2K   \u001b[90m━━━━━━━━━━━━━━━━━━━━━━━━━━━━━━━━━━━━━━━━\u001b[0m \u001b[32m211.5/211.5 MB\u001b[0m \u001b[31m7.9 MB/s\u001b[0m eta \u001b[36m0:00:00\u001b[0m\r\n",
      "\u001b[2K   \u001b[90m━━━━━━━━━━━━━━━━━━━━━━━━━━━━━━━━━━━━━━━━\u001b[0m \u001b[32m56.3/56.3 MB\u001b[0m \u001b[31m28.2 MB/s\u001b[0m eta \u001b[36m0:00:00\u001b[0m\r\n",
      "\u001b[2K   \u001b[90m━━━━━━━━━━━━━━━━━━━━━━━━━━━━━━━━━━━━━━━━\u001b[0m \u001b[32m127.9/127.9 MB\u001b[0m \u001b[31m8.9 MB/s\u001b[0m eta \u001b[36m0:00:00\u001b[0m\r\n",
      "\u001b[2K   \u001b[90m━━━━━━━━━━━━━━━━━━━━━━━━━━━━━━━━━━━━━━━━\u001b[0m \u001b[32m207.5/207.5 MB\u001b[0m \u001b[31m8.1 MB/s\u001b[0m eta \u001b[36m0:00:00\u001b[0m\r\n",
      "\u001b[2K   \u001b[90m━━━━━━━━━━━━━━━━━━━━━━━━━━━━━━━━━━━━━━━━\u001b[0m \u001b[32m21.1/21.1 MB\u001b[0m \u001b[31m68.7 MB/s\u001b[0m eta \u001b[36m0:00:00\u001b[0m\r\n",
      "\u001b[?25h"
     ]
    }
   ],
   "source": [
    "!pip install -q pandas==2.2.3 torch==2.6.0 torchvision==0.21.0 torchaudio==2.6.0 tqdm==4.67.1"
   ]
  },
  {
   "cell_type": "code",
   "execution_count": 4,
   "id": "98506509",
   "metadata": {
    "execution": {
     "iopub.execute_input": "2025-10-07T00:37:54.771544Z",
     "iopub.status.busy": "2025-10-07T00:37:54.770972Z",
     "iopub.status.idle": "2025-10-07T00:38:21.851665Z",
     "shell.execute_reply": "2025-10-07T00:38:21.850930Z"
    },
    "papermill": {
     "duration": 27.107556,
     "end_time": "2025-10-07T00:38:21.853053",
     "exception": false,
     "start_time": "2025-10-07T00:37:54.745497",
     "status": "completed"
    },
    "tags": []
   },
   "outputs": [
    {
     "name": "stdout",
     "output_type": "stream",
     "text": [
      "\u001b[2K     \u001b[90m━━━━━━━━━━━━━━━━━━━━━━━━━━━━━━━━━━━━━━━\u001b[0m \u001b[32m41.4/41.4 kB\u001b[0m \u001b[31m895.1 kB/s\u001b[0m eta \u001b[36m0:00:00\u001b[0m\r\n",
      "\u001b[2K   \u001b[90m━━━━━━━━━━━━━━━━━━━━━━━━━━━━━━━━━━━━━━━━\u001b[0m \u001b[32m12.0/12.0 MB\u001b[0m \u001b[31m66.8 MB/s\u001b[0m eta \u001b[36m0:00:00\u001b[0m\r\n",
      "\u001b[2K   \u001b[90m━━━━━━━━━━━━━━━━━━━━━━━━━━━━━━━━━━━━━━━━\u001b[0m \u001b[32m503.6/503.6 kB\u001b[0m \u001b[31m28.7 MB/s\u001b[0m eta \u001b[36m0:00:00\u001b[0m\r\n",
      "\u001b[2K   \u001b[90m━━━━━━━━━━━━━━━━━━━━━━━━━━━━━━━━━━━━━━━━\u001b[0m \u001b[32m374.9/374.9 kB\u001b[0m \u001b[31m24.5 MB/s\u001b[0m eta \u001b[36m0:00:00\u001b[0m\r\n",
      "\u001b[2K   \u001b[90m━━━━━━━━━━━━━━━━━━━━━━━━━━━━━━━━━━━━━━━━\u001b[0m \u001b[32m84.1/84.1 kB\u001b[0m \u001b[31m6.0 MB/s\u001b[0m eta \u001b[36m0:00:00\u001b[0m\r\n",
      "\u001b[2K   \u001b[90m━━━━━━━━━━━━━━━━━━━━━━━━━━━━━━━━━━━━━━━━\u001b[0m \u001b[32m504.9/504.9 kB\u001b[0m \u001b[31m33.4 MB/s\u001b[0m eta \u001b[36m0:00:00\u001b[0m\r\n",
      "\u001b[2K   \u001b[90m━━━━━━━━━━━━━━━━━━━━━━━━━━━━━━━━━━━━━━━━\u001b[0m \u001b[32m60.1/60.1 MB\u001b[0m \u001b[31m6.9 MB/s\u001b[0m eta \u001b[36m0:00:00\u001b[0m\r\n",
      "\u001b[2K   \u001b[90m━━━━━━━━━━━━━━━━━━━━━━━━━━━━━━━━━━━━━━━\u001b[0m \u001b[32m564.3/564.3 kB\u001b[0m \u001b[31m691.5 kB/s\u001b[0m eta \u001b[36m0:00:00\u001b[0m\r\n",
      "\u001b[2K   \u001b[90m━━━━━━━━━━━━━━━━━━━━━━━━━━━━━━━━━━━━━━━━\u001b[0m \u001b[32m42.8/42.8 MB\u001b[0m \u001b[31m3.9 MB/s\u001b[0m eta \u001b[36m0:00:00\u001b[0m\r\n",
      "\u001b[2K   \u001b[90m━━━━━━━━━━━━━━━━━━━━━━━━━━━━━━━━━━━━━━━━\u001b[0m \u001b[32m3.3/3.3 MB\u001b[0m \u001b[31m64.7 MB/s\u001b[0m eta \u001b[36m0:00:00\u001b[0m\r\n",
      "\u001b[?25h\u001b[31mERROR: pip's dependency resolver does not currently take into account all the packages that are installed. This behaviour is the source of the following dependency conflicts.\r\n",
      "bigframes 2.8.0 requires google-cloud-bigquery-storage<3.0.0,>=2.30.0, which is not installed.\r\n",
      "pylibcudf-cu12 25.2.2 requires pyarrow<20.0.0a0,>=14.0.0; platform_machine == \"x86_64\", but you have pyarrow 21.0.0 which is incompatible.\r\n",
      "cudf-cu12 25.2.2 requires pyarrow<20.0.0a0,>=14.0.0; platform_machine == \"x86_64\", but you have pyarrow 21.0.0 which is incompatible.\r\n",
      "pandas-gbq 0.29.1 requires google-api-core<3.0.0,>=2.10.2, but you have google-api-core 1.34.1 which is incompatible.\r\n",
      "bigframes 2.8.0 requires google-cloud-bigquery[bqstorage,pandas]>=3.31.0, but you have google-cloud-bigquery 3.25.0 which is incompatible.\r\n",
      "bigframes 2.8.0 requires rich<14,>=12.4.4, but you have rich 14.0.0 which is incompatible.\u001b[0m\u001b[31m\r\n",
      "\u001b[0m"
     ]
    }
   ],
   "source": [
    "!pip install -q transformers==4.57.0 datasets==4.1.1 accelerate==1.10.1 evaluate==0.4.6 peft==0.17.1 bitsandbytes==0.48.1"
   ]
  },
  {
   "cell_type": "code",
   "execution_count": 5,
   "id": "261d51f9",
   "metadata": {
    "execution": {
     "iopub.execute_input": "2025-10-07T00:38:21.914166Z",
     "iopub.status.busy": "2025-10-07T00:38:21.913907Z",
     "iopub.status.idle": "2025-10-07T00:38:47.534127Z",
     "shell.execute_reply": "2025-10-07T00:38:47.533324Z"
    },
    "papermill": {
     "duration": 25.652245,
     "end_time": "2025-10-07T00:38:47.535616",
     "exception": false,
     "start_time": "2025-10-07T00:38:21.883371",
     "status": "completed"
    },
    "tags": []
   },
   "outputs": [
    {
     "name": "stderr",
     "output_type": "stream",
     "text": [
      "2025-10-07 00:38:35.608046: E external/local_xla/xla/stream_executor/cuda/cuda_fft.cc:477] Unable to register cuFFT factory: Attempting to register factory for plugin cuFFT when one has already been registered\n",
      "WARNING: All log messages before absl::InitializeLog() is called are written to STDERR\n",
      "E0000 00:00:1759797515.796671      19 cuda_dnn.cc:8310] Unable to register cuDNN factory: Attempting to register factory for plugin cuDNN when one has already been registered\n",
      "E0000 00:00:1759797515.869200      19 cuda_blas.cc:1418] Unable to register cuBLAS factory: Attempting to register factory for plugin cuBLAS when one has already been registered\n"
     ]
    }
   ],
   "source": [
    "import re \n",
    "import gc\n",
    "\n",
    "from tqdm import tqdm\n",
    "import pandas as pd\n",
    "from transformers import AutoModelForCausalLM, AutoTokenizer, BitsAndBytesConfig\n",
    "from peft import PeftModel\n",
    "import torch"
   ]
  },
  {
   "cell_type": "markdown",
   "id": "da2c209b",
   "metadata": {
    "papermill": {
     "duration": 0.074754,
     "end_time": "2025-10-07T00:38:47.640719",
     "exception": false,
     "start_time": "2025-10-07T00:38:47.565965",
     "status": "completed"
    },
    "tags": []
   },
   "source": [
    "## Base model and utilities"
   ]
  },
  {
   "cell_type": "code",
   "execution_count": 6,
   "id": "f6edab07",
   "metadata": {
    "execution": {
     "iopub.execute_input": "2025-10-07T00:38:47.701314Z",
     "iopub.status.busy": "2025-10-07T00:38:47.700404Z",
     "iopub.status.idle": "2025-10-07T00:38:47.798760Z",
     "shell.execute_reply": "2025-10-07T00:38:47.798204Z"
    },
    "papermill": {
     "duration": 0.129439,
     "end_time": "2025-10-07T00:38:47.799855",
     "exception": false,
     "start_time": "2025-10-07T00:38:47.670416",
     "status": "completed"
    },
    "tags": []
   },
   "outputs": [],
   "source": [
    "df = pd.read_csv(PRIVATE_TEST_DATASET_PATH)"
   ]
  },
  {
   "cell_type": "code",
   "execution_count": 7,
   "id": "2024fd4e",
   "metadata": {
    "execution": {
     "iopub.execute_input": "2025-10-07T00:38:47.859425Z",
     "iopub.status.busy": "2025-10-07T00:38:47.859211Z",
     "iopub.status.idle": "2025-10-07T00:40:29.653123Z",
     "shell.execute_reply": "2025-10-07T00:40:29.652352Z"
    },
    "papermill": {
     "duration": 101.824943,
     "end_time": "2025-10-07T00:40:29.654371",
     "exception": false,
     "start_time": "2025-10-07T00:38:47.829428",
     "status": "completed"
    },
    "tags": []
   },
   "outputs": [
    {
     "data": {
      "application/vnd.jupyter.widget-view+json": {
       "model_id": "c0c0d1f19ff545da821a98b3b4b4b3ff",
       "version_major": 2,
       "version_minor": 0
      },
      "text/plain": [
       "tokenizer_config.json: 0.00B [00:00, ?B/s]"
      ]
     },
     "metadata": {},
     "output_type": "display_data"
    },
    {
     "data": {
      "application/vnd.jupyter.widget-view+json": {
       "model_id": "5f8fcc97484646e0a477467ac7bc81b9",
       "version_major": 2,
       "version_minor": 0
      },
      "text/plain": [
       "vocab.json: 0.00B [00:00, ?B/s]"
      ]
     },
     "metadata": {},
     "output_type": "display_data"
    },
    {
     "data": {
      "application/vnd.jupyter.widget-view+json": {
       "model_id": "4425721852c3423785a3ba8017a13b49",
       "version_major": 2,
       "version_minor": 0
      },
      "text/plain": [
       "merges.txt: 0.00B [00:00, ?B/s]"
      ]
     },
     "metadata": {},
     "output_type": "display_data"
    },
    {
     "data": {
      "application/vnd.jupyter.widget-view+json": {
       "model_id": "31267957480c4fb1b9b965f4deb75887",
       "version_major": 2,
       "version_minor": 0
      },
      "text/plain": [
       "tokenizer.json:   0%|          | 0.00/11.4M [00:00<?, ?B/s]"
      ]
     },
     "metadata": {},
     "output_type": "display_data"
    },
    {
     "data": {
      "application/vnd.jupyter.widget-view+json": {
       "model_id": "1a534285048045aa9f7c403ff58728a6",
       "version_major": 2,
       "version_minor": 0
      },
      "text/plain": [
       "config.json:   0%|          | 0.00/727 [00:00<?, ?B/s]"
      ]
     },
     "metadata": {},
     "output_type": "display_data"
    },
    {
     "data": {
      "application/vnd.jupyter.widget-view+json": {
       "model_id": "3e7074949ef04ab3a1d4399d673e53bf",
       "version_major": 2,
       "version_minor": 0
      },
      "text/plain": [
       "model.safetensors.index.json: 0.00B [00:00, ?B/s]"
      ]
     },
     "metadata": {},
     "output_type": "display_data"
    },
    {
     "data": {
      "application/vnd.jupyter.widget-view+json": {
       "model_id": "7c71b8c25dbe4239b2516e18b4557f57",
       "version_major": 2,
       "version_minor": 0
      },
      "text/plain": [
       "Fetching 3 files:   0%|          | 0/3 [00:00<?, ?it/s]"
      ]
     },
     "metadata": {},
     "output_type": "display_data"
    },
    {
     "data": {
      "application/vnd.jupyter.widget-view+json": {
       "model_id": "bf48c0f4c3f74fe1a137801393848faf",
       "version_major": 2,
       "version_minor": 0
      },
      "text/plain": [
       "model-00003-of-00003.safetensors:   0%|          | 0.00/99.6M [00:00<?, ?B/s]"
      ]
     },
     "metadata": {},
     "output_type": "display_data"
    },
    {
     "data": {
      "application/vnd.jupyter.widget-view+json": {
       "model_id": "6c2332696b264ac1a5b4afb9dd6e85e8",
       "version_major": 2,
       "version_minor": 0
      },
      "text/plain": [
       "model-00002-of-00003.safetensors:   0%|          | 0.00/3.99G [00:00<?, ?B/s]"
      ]
     },
     "metadata": {},
     "output_type": "display_data"
    },
    {
     "data": {
      "application/vnd.jupyter.widget-view+json": {
       "model_id": "e3619910a90f455cbda9334b5cac5c50",
       "version_major": 2,
       "version_minor": 0
      },
      "text/plain": [
       "model-00001-of-00003.safetensors:   0%|          | 0.00/3.96G [00:00<?, ?B/s]"
      ]
     },
     "metadata": {},
     "output_type": "display_data"
    },
    {
     "data": {
      "application/vnd.jupyter.widget-view+json": {
       "model_id": "713ee39d62b049669c975b4465cb09f7",
       "version_major": 2,
       "version_minor": 0
      },
      "text/plain": [
       "Loading checkpoint shards:   0%|          | 0/3 [00:00<?, ?it/s]"
      ]
     },
     "metadata": {},
     "output_type": "display_data"
    },
    {
     "data": {
      "application/vnd.jupyter.widget-view+json": {
       "model_id": "3d636ada98b74bc2918823247190f16f",
       "version_major": 2,
       "version_minor": 0
      },
      "text/plain": [
       "generation_config.json:   0%|          | 0.00/238 [00:00<?, ?B/s]"
      ]
     },
     "metadata": {},
     "output_type": "display_data"
    }
   ],
   "source": [
    "tokenizer = AutoTokenizer.from_pretrained(BASE_MODEL_ID)\n",
    "\n",
    "quant_config = BitsAndBytesConfig(\n",
    "    load_in_4bit=True,\n",
    "    bnb_4bit_quant_type=\"nf4\",\n",
    "    bnb_4bit_compute_dtype=torch.float16,\n",
    "    bnb_4bit_use_double_quant=True\n",
    ")\n",
    "\n",
    "base_model = AutoModelForCausalLM.from_pretrained(\n",
    "    BASE_MODEL_ID,\n",
    "    quantization_config=quant_config,\n",
    "    device_map=\"auto\"\n",
    ").eval()\n",
    "\n",
    "tokenizer.pad_token = tokenizer.eos_token"
   ]
  },
  {
   "cell_type": "code",
   "execution_count": 8,
   "id": "a6ea8e6d",
   "metadata": {
    "execution": {
     "iopub.execute_input": "2025-10-07T00:40:29.717689Z",
     "iopub.status.busy": "2025-10-07T00:40:29.717456Z",
     "iopub.status.idle": "2025-10-07T00:40:29.721200Z",
     "shell.execute_reply": "2025-10-07T00:40:29.720531Z"
    },
    "papermill": {
     "duration": 0.036594,
     "end_time": "2025-10-07T00:40:29.722341",
     "exception": false,
     "start_time": "2025-10-07T00:40:29.685747",
     "status": "completed"
    },
    "tags": []
   },
   "outputs": [],
   "source": [
    "def clean_label(text: str) -> str:\n",
    "    # Xoá toàn bộ tag mở/đóng kiểu <...> hoặc </...>\n",
    "    text = re.sub(r\"<[^>]+>\", \"\", text)\n",
    "\n",
    "    # Xoá khoảng trắng thừa\n",
    "    text = text.strip()\n",
    "    return text"
   ]
  },
  {
   "cell_type": "code",
   "execution_count": 9,
   "id": "e38ecacb",
   "metadata": {
    "execution": {
     "iopub.execute_input": "2025-10-07T00:40:29.784459Z",
     "iopub.status.busy": "2025-10-07T00:40:29.784270Z",
     "iopub.status.idle": "2025-10-07T00:40:29.788674Z",
     "shell.execute_reply": "2025-10-07T00:40:29.788185Z"
    },
    "papermill": {
     "duration": 0.035961,
     "end_time": "2025-10-07T00:40:29.789659",
     "exception": false,
     "start_time": "2025-10-07T00:40:29.753698",
     "status": "completed"
    },
    "tags": []
   },
   "outputs": [],
   "source": [
    "@torch.no_grad()\n",
    "def predict_one(messages, model, max_new_tokens: int = 10):\n",
    "    # Tạo prompt theo chat template, thêm chỗ cho model trả lời\n",
    "    prompt_ids = tokenizer.apply_chat_template(\n",
    "        conversation=messages,\n",
    "        add_generation_prompt=True,\n",
    "        return_tensors=\"pt\"\n",
    "    ).to(model.device)\n",
    "\n",
    "    out = model.generate(\n",
    "        input_ids=prompt_ids,\n",
    "        max_new_tokens=max_new_tokens,\n",
    "        do_sample=False,          \n",
    "        temperature=0.0,\n",
    "        pad_token_id=tokenizer.eos_token_id,\n",
    "        eos_token_id=[tokenizer.eos_token_id] \n",
    "    )\n",
    "\n",
    "    gen_ids = out[0, prompt_ids.shape[-1]:]  # chỉ phần model sinh ra\n",
    "    text = tokenizer.decode(gen_ids, skip_special_tokens=True).strip()\n",
    "    text = clean_label(text)\n",
    "    return text"
   ]
  },
  {
   "cell_type": "markdown",
   "id": "9ecb214e",
   "metadata": {
    "papermill": {
     "duration": 0.030151,
     "end_time": "2025-10-07T00:40:29.850053",
     "exception": false,
     "start_time": "2025-10-07T00:40:29.819902",
     "status": "completed"
    },
    "tags": []
   },
   "source": [
    "## TRUTH VS HALLUCINATION MODEL (no vs extrinsic / intrinsic)"
   ]
  },
  {
   "cell_type": "code",
   "execution_count": 10,
   "id": "cbb6f26e",
   "metadata": {
    "execution": {
     "iopub.execute_input": "2025-10-07T00:40:29.911189Z",
     "iopub.status.busy": "2025-10-07T00:40:29.910963Z",
     "iopub.status.idle": "2025-10-07T00:40:32.562852Z",
     "shell.execute_reply": "2025-10-07T00:40:32.562028Z"
    },
    "papermill": {
     "duration": 2.684125,
     "end_time": "2025-10-07T00:40:32.564324",
     "exception": false,
     "start_time": "2025-10-07T00:40:29.880199",
     "status": "completed"
    },
    "tags": []
   },
   "outputs": [],
   "source": [
    "# Load adapter từ local checkpoint\n",
    "truth_hallucination_model = PeftModel.from_pretrained(\n",
    "    base_model,\n",
    "    TRUTH_HALLUCINATION_MODEL_PATH\n",
    ")\n",
    "\n",
    "# Setup pad token\n",
    "truth_hallucination_model.config.pad_token_id = tokenizer.pad_token_id\n",
    "truth_hallucination_model.generation_config.pad_token_id = tokenizer.pad_token_id"
   ]
  },
  {
   "cell_type": "code",
   "execution_count": 11,
   "id": "45c4c3d5",
   "metadata": {
    "execution": {
     "iopub.execute_input": "2025-10-07T00:40:32.629186Z",
     "iopub.status.busy": "2025-10-07T00:40:32.628743Z",
     "iopub.status.idle": "2025-10-07T00:40:32.632397Z",
     "shell.execute_reply": "2025-10-07T00:40:32.631867Z"
    },
    "papermill": {
     "duration": 0.036908,
     "end_time": "2025-10-07T00:40:32.633418",
     "exception": false,
     "start_time": "2025-10-07T00:40:32.596510",
     "status": "completed"
    },
    "tags": []
   },
   "outputs": [],
   "source": [
    "truth_hallucination_model_system_prompt = \"\"\"You are an expert AI assistant specializing in detecting hallucinations in Vietnamese language model outputs. Your task is to analyze a given Context and Response to determine if the Response contains any hallucinations relative to the Context.\n",
    "\n",
    "First, think step-by-step. Carefully analyze the Response and compare it sentence-by-sentence against the information provided in the Context. Identify any contradictions, distortions, or new information that cannot be inferred from the source.\n",
    "\n",
    "After your step-by-step analysis, you must classify the Response into one of two categories:\n",
    "\n",
    "1.  **no**: The Response is fully consistent with and factually supported by the information in the Context. It does not introduce any information that cannot be directly inferred from the source text.\n",
    "2.  **yes**: The Response contains a hallucination. This means it either:\n",
    "    * Directly contradicts or distorts information present in the Context.\n",
    "    * Introduces additional information that is NOT present in the Context and cannot be inferred from it.\n",
    "\n",
    "Based on your conclusion, you must output ONLY the label: <label>. Do not provide any explanations or additional text.\n",
    "\"\"\""
   ]
  },
  {
   "cell_type": "code",
   "execution_count": 12,
   "id": "45534c8a",
   "metadata": {
    "execution": {
     "iopub.execute_input": "2025-10-07T00:40:32.694871Z",
     "iopub.status.busy": "2025-10-07T00:40:32.694329Z",
     "iopub.status.idle": "2025-10-07T00:40:32.698169Z",
     "shell.execute_reply": "2025-10-07T00:40:32.697506Z"
    },
    "papermill": {
     "duration": 0.035726,
     "end_time": "2025-10-07T00:40:32.699352",
     "exception": false,
     "start_time": "2025-10-07T00:40:32.663626",
     "status": "completed"
    },
    "tags": []
   },
   "outputs": [],
   "source": [
    "def truth_hallucination_build_messages(context: str, response: str):\n",
    "    prompt = f\"\"\"### Bối cảnh: {context} \n",
    "                \n",
    "### Phản hồi: {response}\n",
    "    \n",
    "**Nhiệm vụ:** Dựa vào **Bối cảnh**, hãy xác định xem **Phản hồi** có chứa ảo giác hay không và phân loại nó. Chỉ trả lời bằng một trong hai nhãn sau: `no`, `yes`.\n",
    "\"\"\"\n",
    "    return [\n",
    "        {\"role\": \"system\", \"content\": truth_hallucination_model_system_prompt},\n",
    "        {\"role\": \"user\", \"content\": prompt}\n",
    "    ]"
   ]
  },
  {
   "cell_type": "code",
   "execution_count": 13,
   "id": "c5817d83",
   "metadata": {
    "execution": {
     "iopub.execute_input": "2025-10-07T00:40:32.762427Z",
     "iopub.status.busy": "2025-10-07T00:40:32.761872Z",
     "iopub.status.idle": "2025-10-07T01:16:06.805904Z",
     "shell.execute_reply": "2025-10-07T01:16:06.805108Z"
    },
    "papermill": {
     "duration": 2134.077582,
     "end_time": "2025-10-07T01:16:06.807182",
     "exception": false,
     "start_time": "2025-10-07T00:40:32.729600",
     "status": "completed"
    },
    "tags": []
   },
   "outputs": [
    {
     "name": "stderr",
     "output_type": "stream",
     "text": [
      "  0%|          | 0/2000 [00:00<?, ?it/s]The following generation flags are not valid and may be ignored: ['temperature', 'top_p', 'top_k']. Set `TRANSFORMERS_VERBOSITY=info` for more details.\n",
      "The attention mask is not set and cannot be inferred from input because pad token is same as eos token. As a consequence, you may observe unexpected behavior. Please pass your input's `attention_mask` to obtain reliable results.\n",
      "100%|██████████| 2000/2000 [35:34<00:00,  1.07s/it]\n"
     ]
    }
   ],
   "source": [
    "truth_hallucination_preds = []\n",
    "truth_hallucination_valid_labels = [\"no\", \"yes\"]\n",
    "\n",
    "for _, row in tqdm(df.iterrows(), total=len(df)):\n",
    "    messages = truth_hallucination_build_messages(row[\"context\"], row[\"response\"])\n",
    "    label = predict_one(messages, truth_hallucination_model)\n",
    "    if label in truth_hallucination_valid_labels:\n",
    "        truth_hallucination_preds.append({\"id\": row[\"id\"], \"predict_label\": label})\n",
    "    else:\n",
    "        err_id = row[\"id\"]\n",
    "        print(f\"ERROR: {err_id} - Response: {label}\")\n",
    "\n",
    "truth_hallucination_df = pd.DataFrame(truth_hallucination_preds)"
   ]
  },
  {
   "cell_type": "code",
   "execution_count": 14,
   "id": "f281ad3d",
   "metadata": {
    "execution": {
     "iopub.execute_input": "2025-10-07T01:16:07.032547Z",
     "iopub.status.busy": "2025-10-07T01:16:07.032280Z",
     "iopub.status.idle": "2025-10-07T01:16:07.042543Z",
     "shell.execute_reply": "2025-10-07T01:16:07.041979Z"
    },
    "papermill": {
     "duration": 0.117003,
     "end_time": "2025-10-07T01:16:07.043596",
     "exception": false,
     "start_time": "2025-10-07T01:16:06.926593",
     "status": "completed"
    },
    "tags": []
   },
   "outputs": [
    {
     "data": {
      "text/plain": [
       "predict_label\n",
       "yes    1341\n",
       "no      659\n",
       "Name: count, dtype: int64"
      ]
     },
     "execution_count": 14,
     "metadata": {},
     "output_type": "execute_result"
    }
   ],
   "source": [
    "truth_hallucination_df['predict_label'].value_counts()"
   ]
  },
  {
   "cell_type": "code",
   "execution_count": 15,
   "id": "b6f9120a",
   "metadata": {
    "execution": {
     "iopub.execute_input": "2025-10-07T01:16:07.255021Z",
     "iopub.status.busy": "2025-10-07T01:16:07.254758Z",
     "iopub.status.idle": "2025-10-07T01:16:07.258339Z",
     "shell.execute_reply": "2025-10-07T01:16:07.257611Z"
    },
    "papermill": {
     "duration": 0.111647,
     "end_time": "2025-10-07T01:16:07.259394",
     "exception": false,
     "start_time": "2025-10-07T01:16:07.147747",
     "status": "completed"
    },
    "tags": []
   },
   "outputs": [],
   "source": [
    "del truth_hallucination_model"
   ]
  },
  {
   "cell_type": "code",
   "execution_count": 16,
   "id": "5fc141fe",
   "metadata": {
    "execution": {
     "iopub.execute_input": "2025-10-07T01:16:07.467956Z",
     "iopub.status.busy": "2025-10-07T01:16:07.467713Z",
     "iopub.status.idle": "2025-10-07T01:16:07.874652Z",
     "shell.execute_reply": "2025-10-07T01:16:07.874033Z"
    },
    "papermill": {
     "duration": 0.512668,
     "end_time": "2025-10-07T01:16:07.875701",
     "exception": false,
     "start_time": "2025-10-07T01:16:07.363033",
     "status": "completed"
    },
    "tags": []
   },
   "outputs": [
    {
     "data": {
      "text/plain": [
       "64"
      ]
     },
     "execution_count": 16,
     "metadata": {},
     "output_type": "execute_result"
    }
   ],
   "source": [
    "gc.collect()"
   ]
  },
  {
   "cell_type": "markdown",
   "id": "5c0ad69d",
   "metadata": {
    "papermill": {
     "duration": 0.104154,
     "end_time": "2025-10-07T01:16:08.085124",
     "exception": false,
     "start_time": "2025-10-07T01:16:07.980970",
     "status": "completed"
    },
    "tags": []
   },
   "source": [
    "## KNOWN VS UNKNOWN (extrinsic vs no / intrinsic) "
   ]
  },
  {
   "cell_type": "code",
   "execution_count": 17,
   "id": "7ecdc390",
   "metadata": {
    "execution": {
     "iopub.execute_input": "2025-10-07T01:16:08.295335Z",
     "iopub.status.busy": "2025-10-07T01:16:08.294520Z",
     "iopub.status.idle": "2025-10-07T01:16:11.330001Z",
     "shell.execute_reply": "2025-10-07T01:16:11.329450Z"
    },
    "papermill": {
     "duration": 3.14245,
     "end_time": "2025-10-07T01:16:11.331322",
     "exception": false,
     "start_time": "2025-10-07T01:16:08.188872",
     "status": "completed"
    },
    "tags": []
   },
   "outputs": [
    {
     "name": "stderr",
     "output_type": "stream",
     "text": [
      "/usr/local/lib/python3.11/dist-packages/peft/tuners/tuners_utils.py:196: UserWarning: Already found a `peft_config` attribute in the model. This will lead to having multiple adapters in the model. Make sure to know what you are doing!\n",
      "  warnings.warn(\n"
     ]
    }
   ],
   "source": [
    "# Load adapter từ local checkpoint\n",
    "known_unknown_model = PeftModel.from_pretrained(\n",
    "    base_model,\n",
    "    KNOWN_UNKNOWN_MODEL_PATH\n",
    ")\n",
    "\n",
    "# Setup pad token\n",
    "known_unknown_model.config.pad_token_id = tokenizer.pad_token_id\n",
    "known_unknown_model.generation_config.pad_token_id = tokenizer.pad_token_id"
   ]
  },
  {
   "cell_type": "code",
   "execution_count": 18,
   "id": "099a39fc",
   "metadata": {
    "execution": {
     "iopub.execute_input": "2025-10-07T01:16:11.543120Z",
     "iopub.status.busy": "2025-10-07T01:16:11.542545Z",
     "iopub.status.idle": "2025-10-07T01:16:11.546504Z",
     "shell.execute_reply": "2025-10-07T01:16:11.545740Z"
    },
    "papermill": {
     "duration": 0.110463,
     "end_time": "2025-10-07T01:16:11.547667",
     "exception": false,
     "start_time": "2025-10-07T01:16:11.437204",
     "status": "completed"
    },
    "tags": []
   },
   "outputs": [],
   "source": [
    "known_unknown_model_system_prompt = \"\"\"You are an expert AI assistant specializing in information verifiability. Your task is to determine if a given Response can be fully judged (either confirmed or contradicted) based **solely** on the information provided in a Context.\n",
    "\n",
    "First, think step-by-step. Carefully read the Response and compare it to the information presented in the Context. Your goal is to assess whether the Context contains enough information to make a definitive judgment about the Response's truthfulness.\n",
    "\n",
    "After your step-by-step analysis, you must classify the Response into one of two categories:\n",
    "\n",
    "1.  **known**: The truthfulness of the Response (whether it is true or false) can be determined entirely by using the information within the Context. All necessary information is **intrinsic** to the provided text. This applies when the Response is either fully supported by or directly contradicts the Context.\n",
    "2.  **unknown**: It is impossible to determine whether the Response is true or false based only on the Context. The Response contains information that is not mentioned or cannot be inferred from the Context, requiring **extrinsic** or external knowledge for verification.\n",
    "\n",
    "Based on your conclusion, you must output ONLY the label: `known` or `unknown`. Do not provide any explanations or additional text.\n",
    "\"\"\""
   ]
  },
  {
   "cell_type": "code",
   "execution_count": 19,
   "id": "5dcc2b2a",
   "metadata": {
    "execution": {
     "iopub.execute_input": "2025-10-07T01:16:11.804384Z",
     "iopub.status.busy": "2025-10-07T01:16:11.803918Z",
     "iopub.status.idle": "2025-10-07T01:16:11.808100Z",
     "shell.execute_reply": "2025-10-07T01:16:11.807516Z"
    },
    "papermill": {
     "duration": 0.157591,
     "end_time": "2025-10-07T01:16:11.809121",
     "exception": false,
     "start_time": "2025-10-07T01:16:11.651530",
     "status": "completed"
    },
    "tags": []
   },
   "outputs": [],
   "source": [
    "def known_unknown_build_messages(context: str, response: str):\n",
    "    prompt = f\"\"\"### Bối cảnh: {context}\n",
    "\n",
    "### Phản hồi: {response}\n",
    "\n",
    "**Nhiệm vụ:** Dựa vào **Bối cảnh**, hãy xác định xem tính đúng sai của **Phản hồi** có thể được kiểm chứng hoàn toàn từ thông tin có sẵn hay không.\n",
    "\n",
    "Chỉ trả lời bằng một trong hai nhãn sau: `known` hoặc `unknown`.\n",
    "\"\"\"\n",
    "    return [\n",
    "        {\"role\": \"system\", \"content\": known_unknown_model_system_prompt},\n",
    "        {\"role\": \"user\", \"content\": prompt}\n",
    "    ]"
   ]
  },
  {
   "cell_type": "code",
   "execution_count": 20,
   "id": "86221a5b",
   "metadata": {
    "execution": {
     "iopub.execute_input": "2025-10-07T01:16:12.018581Z",
     "iopub.status.busy": "2025-10-07T01:16:12.017976Z",
     "iopub.status.idle": "2025-10-07T01:53:35.269485Z",
     "shell.execute_reply": "2025-10-07T01:53:35.268748Z"
    },
    "papermill": {
     "duration": 2243.357643,
     "end_time": "2025-10-07T01:53:35.270656",
     "exception": false,
     "start_time": "2025-10-07T01:16:11.913013",
     "status": "completed"
    },
    "tags": []
   },
   "outputs": [
    {
     "name": "stderr",
     "output_type": "stream",
     "text": [
      "100%|██████████| 2000/2000 [37:23<00:00,  1.12s/it]\n"
     ]
    }
   ],
   "source": [
    "known_unknown_preds = []\n",
    "known_unknown_valid_labels = [\"known\", \"unknown\"]\n",
    "\n",
    "for _, row in tqdm(df.iterrows(), total=len(df)):\n",
    "    messages = known_unknown_build_messages(row[\"context\"], row[\"response\"])\n",
    "    label = predict_one(messages, known_unknown_model)\n",
    "    if label in known_unknown_valid_labels:\n",
    "        known_unknown_preds.append({\"id\": row[\"id\"], \"predict_label\": label})\n",
    "    else:\n",
    "        err_id = row[\"id\"]\n",
    "        print(f\"ERROR: {err_id} - Response: {label}\")\n",
    "\n",
    "known_unknown_df = pd.DataFrame(known_unknown_preds)"
   ]
  },
  {
   "cell_type": "code",
   "execution_count": 21,
   "id": "783b00c5",
   "metadata": {
    "execution": {
     "iopub.execute_input": "2025-10-07T01:53:35.684163Z",
     "iopub.status.busy": "2025-10-07T01:53:35.683548Z",
     "iopub.status.idle": "2025-10-07T01:53:35.690080Z",
     "shell.execute_reply": "2025-10-07T01:53:35.689392Z"
    },
    "papermill": {
     "duration": 0.239938,
     "end_time": "2025-10-07T01:53:35.691145",
     "exception": false,
     "start_time": "2025-10-07T01:53:35.451207",
     "status": "completed"
    },
    "tags": []
   },
   "outputs": [
    {
     "data": {
      "text/plain": [
       "predict_label\n",
       "known      1358\n",
       "unknown     642\n",
       "Name: count, dtype: int64"
      ]
     },
     "execution_count": 21,
     "metadata": {},
     "output_type": "execute_result"
    }
   ],
   "source": [
    "known_unknown_df['predict_label'].value_counts()"
   ]
  },
  {
   "cell_type": "code",
   "execution_count": 22,
   "id": "aa54c566",
   "metadata": {
    "execution": {
     "iopub.execute_input": "2025-10-07T01:53:36.063508Z",
     "iopub.status.busy": "2025-10-07T01:53:36.062963Z",
     "iopub.status.idle": "2025-10-07T01:53:36.066775Z",
     "shell.execute_reply": "2025-10-07T01:53:36.066042Z"
    },
    "papermill": {
     "duration": 0.198743,
     "end_time": "2025-10-07T01:53:36.067843",
     "exception": false,
     "start_time": "2025-10-07T01:53:35.869100",
     "status": "completed"
    },
    "tags": []
   },
   "outputs": [],
   "source": [
    "del known_unknown_model"
   ]
  },
  {
   "cell_type": "code",
   "execution_count": 23,
   "id": "761e881a",
   "metadata": {
    "execution": {
     "iopub.execute_input": "2025-10-07T01:53:36.451574Z",
     "iopub.status.busy": "2025-10-07T01:53:36.450754Z",
     "iopub.status.idle": "2025-10-07T01:53:36.839720Z",
     "shell.execute_reply": "2025-10-07T01:53:36.838993Z"
    },
    "papermill": {
     "duration": 0.571534,
     "end_time": "2025-10-07T01:53:36.840866",
     "exception": false,
     "start_time": "2025-10-07T01:53:36.269332",
     "status": "completed"
    },
    "tags": []
   },
   "outputs": [
    {
     "data": {
      "text/plain": [
       "0"
      ]
     },
     "execution_count": 23,
     "metadata": {},
     "output_type": "execute_result"
    }
   ],
   "source": [
    "gc.collect()"
   ]
  },
  {
   "cell_type": "markdown",
   "id": "b995b2d3",
   "metadata": {
    "papermill": {
     "duration": 0.177475,
     "end_time": "2025-10-07T01:53:37.199016",
     "exception": false,
     "start_time": "2025-10-07T01:53:37.021541",
     "status": "completed"
    },
    "tags": []
   },
   "source": [
    "## SUPPORTED VS CONTRADICTORY (intrinsic vs no / extrinsic)"
   ]
  },
  {
   "cell_type": "code",
   "execution_count": 24,
   "id": "a612304a",
   "metadata": {
    "execution": {
     "iopub.execute_input": "2025-10-07T01:53:37.606209Z",
     "iopub.status.busy": "2025-10-07T01:53:37.605580Z",
     "iopub.status.idle": "2025-10-07T01:53:40.257701Z",
     "shell.execute_reply": "2025-10-07T01:53:40.257106Z"
    },
    "papermill": {
     "duration": 2.883557,
     "end_time": "2025-10-07T01:53:40.258985",
     "exception": false,
     "start_time": "2025-10-07T01:53:37.375428",
     "status": "completed"
    },
    "tags": []
   },
   "outputs": [
    {
     "name": "stderr",
     "output_type": "stream",
     "text": [
      "/usr/local/lib/python3.11/dist-packages/peft/tuners/tuners_utils.py:196: UserWarning: Already found a `peft_config` attribute in the model. This will lead to having multiple adapters in the model. Make sure to know what you are doing!\n",
      "  warnings.warn(\n"
     ]
    }
   ],
   "source": [
    "# Load adapter từ local checkpoint\n",
    "supported_contradictory_model = PeftModel.from_pretrained(\n",
    "    base_model,\n",
    "    SUPPORTED_CONTRADICTORY_MODEL_PATH\n",
    ")\n",
    "\n",
    "# Setup pad token\n",
    "supported_contradictory_model.config.pad_token_id = tokenizer.pad_token_id\n",
    "supported_contradictory_model.generation_config.pad_token_id = tokenizer.pad_token_id"
   ]
  },
  {
   "cell_type": "code",
   "execution_count": 25,
   "id": "3697c112",
   "metadata": {
    "execution": {
     "iopub.execute_input": "2025-10-07T01:53:40.616345Z",
     "iopub.status.busy": "2025-10-07T01:53:40.616043Z",
     "iopub.status.idle": "2025-10-07T01:53:40.619892Z",
     "shell.execute_reply": "2025-10-07T01:53:40.619225Z"
    },
    "papermill": {
     "duration": 0.182961,
     "end_time": "2025-10-07T01:53:40.621079",
     "exception": false,
     "start_time": "2025-10-07T01:53:40.438118",
     "status": "completed"
    },
    "tags": []
   },
   "outputs": [],
   "source": [
    "supported_contradictory_model_system_prompt = \"\"\"You are an expert AI assistant specializing in evaluating the factual consistency between a Vietnamese response and its source context. Your task is to analyze a given Context and Response to determine if the Response contradicts the information provided in the Context.\n",
    "\n",
    "First, think step-by-step. Carefully compare the claims made in the Response against the information available in the Context. Your primary goal is to identify any direct contradictions or misrepresentations.\n",
    "\n",
    "After your step-by-step analysis, you must classify the Response into one of two categories:\n",
    "\n",
    "1.  **supported**: The Response is consistent with the Context. It either (a) only contains information present in the Context, or (b) introduces new information that does **not** contradict the Context.\n",
    "2.  **contradictory**: The Response contains information that directly contradicts or misrepresents information explicitly stated in the Context.\n",
    "\n",
    "Based on your conclusion, you must output ONLY the label: `supported` or `contradictory`. Do not provide any explanations or additional text.\n",
    "\"\"\""
   ]
  },
  {
   "cell_type": "code",
   "execution_count": 26,
   "id": "69308c75",
   "metadata": {
    "execution": {
     "iopub.execute_input": "2025-10-07T01:53:40.974833Z",
     "iopub.status.busy": "2025-10-07T01:53:40.974596Z",
     "iopub.status.idle": "2025-10-07T01:53:40.978936Z",
     "shell.execute_reply": "2025-10-07T01:53:40.978021Z"
    },
    "papermill": {
     "duration": 0.18312,
     "end_time": "2025-10-07T01:53:40.980005",
     "exception": false,
     "start_time": "2025-10-07T01:53:40.796885",
     "status": "completed"
    },
    "tags": []
   },
   "outputs": [],
   "source": [
    "def supported_contradictory_build_messages(context: str, response: str):\n",
    "    prompt = f\"\"\"### Bối cảnh: {context}\n",
    "\n",
    "### Phản hồi: {response}\n",
    "\n",
    "**Nhiệm vụ:** Dựa vào **Bối cảnh**, hãy xác định xem **Phản hồi** có **mâu thuẫn** với thông tin trong Bối cảnh hay không. Chỉ trả lời bằng một trong hai nhãn sau: `supported` hoặc `contradictory`.\n",
    "\"\"\"\n",
    "    return [\n",
    "        {\"role\": \"system\", \"content\": supported_contradictory_model_system_prompt},\n",
    "        {\"role\": \"user\", \"content\": prompt}\n",
    "    ]"
   ]
  },
  {
   "cell_type": "code",
   "execution_count": 27,
   "id": "6f8bb4ef",
   "metadata": {
    "execution": {
     "iopub.execute_input": "2025-10-07T01:53:41.357276Z",
     "iopub.status.busy": "2025-10-07T01:53:41.357000Z",
     "iopub.status.idle": "2025-10-07T02:31:53.179298Z",
     "shell.execute_reply": "2025-10-07T02:31:53.178433Z"
    },
    "papermill": {
     "duration": 2292.023887,
     "end_time": "2025-10-07T02:31:53.180508",
     "exception": false,
     "start_time": "2025-10-07T01:53:41.156621",
     "status": "completed"
    },
    "tags": []
   },
   "outputs": [
    {
     "name": "stderr",
     "output_type": "stream",
     "text": [
      "100%|██████████| 2000/2000 [38:11<00:00,  1.15s/it]\n"
     ]
    }
   ],
   "source": [
    "supported_contradictory_preds = []\n",
    "supported_contradictory_valid_labels = [\"supported\", \"contradictory\"]\n",
    "\n",
    "for _, row in tqdm(df.iterrows(), total=len(df)):\n",
    "    messages = supported_contradictory_build_messages(row[\"context\"], row[\"response\"])\n",
    "    label = predict_one(messages, supported_contradictory_model)\n",
    "    if label in supported_contradictory_valid_labels:\n",
    "        supported_contradictory_preds.append({\"id\": row[\"id\"], \"predict_label\": label})\n",
    "    else:\n",
    "        err_id = row[\"id\"]\n",
    "        print(f\"ERROR: {err_id} - Response: {label}\")\n",
    "\n",
    "supported_contradictory_df = pd.DataFrame(supported_contradictory_preds)"
   ]
  },
  {
   "cell_type": "code",
   "execution_count": 28,
   "id": "c4770592",
   "metadata": {
    "execution": {
     "iopub.execute_input": "2025-10-07T02:31:53.709514Z",
     "iopub.status.busy": "2025-10-07T02:31:53.709263Z",
     "iopub.status.idle": "2025-10-07T02:31:53.716323Z",
     "shell.execute_reply": "2025-10-07T02:31:53.715632Z"
    },
    "papermill": {
     "duration": 0.270823,
     "end_time": "2025-10-07T02:31:53.717518",
     "exception": false,
     "start_time": "2025-10-07T02:31:53.446695",
     "status": "completed"
    },
    "tags": []
   },
   "outputs": [
    {
     "data": {
      "text/plain": [
       "predict_label\n",
       "supported        1325\n",
       "contradictory     675\n",
       "Name: count, dtype: int64"
      ]
     },
     "execution_count": 28,
     "metadata": {},
     "output_type": "execute_result"
    }
   ],
   "source": [
    "supported_contradictory_df['predict_label'].value_counts()"
   ]
  },
  {
   "cell_type": "code",
   "execution_count": 29,
   "id": "e5a9377f",
   "metadata": {
    "execution": {
     "iopub.execute_input": "2025-10-07T02:31:54.240362Z",
     "iopub.status.busy": "2025-10-07T02:31:54.240051Z",
     "iopub.status.idle": "2025-10-07T02:31:54.243541Z",
     "shell.execute_reply": "2025-10-07T02:31:54.242843Z"
    },
    "papermill": {
     "duration": 0.265216,
     "end_time": "2025-10-07T02:31:54.244638",
     "exception": false,
     "start_time": "2025-10-07T02:31:53.979422",
     "status": "completed"
    },
    "tags": []
   },
   "outputs": [],
   "source": [
    "del supported_contradictory_model"
   ]
  },
  {
   "cell_type": "code",
   "execution_count": 30,
   "id": "d3acb6f2",
   "metadata": {
    "execution": {
     "iopub.execute_input": "2025-10-07T02:31:54.845534Z",
     "iopub.status.busy": "2025-10-07T02:31:54.845263Z",
     "iopub.status.idle": "2025-10-07T02:31:55.262755Z",
     "shell.execute_reply": "2025-10-07T02:31:55.262011Z"
    },
    "papermill": {
     "duration": 0.685251,
     "end_time": "2025-10-07T02:31:55.263912",
     "exception": false,
     "start_time": "2025-10-07T02:31:54.578661",
     "status": "completed"
    },
    "tags": []
   },
   "outputs": [
    {
     "data": {
      "text/plain": [
       "0"
      ]
     },
     "execution_count": 30,
     "metadata": {},
     "output_type": "execute_result"
    }
   ],
   "source": [
    "gc.collect()"
   ]
  },
  {
   "cell_type": "markdown",
   "id": "17ab8d59",
   "metadata": {
    "papermill": {
     "duration": 0.266372,
     "end_time": "2025-10-07T02:31:55.790458",
     "exception": false,
     "start_time": "2025-10-07T02:31:55.524086",
     "status": "completed"
    },
    "tags": []
   },
   "source": [
    "## FULL 3 LABELS"
   ]
  },
  {
   "cell_type": "code",
   "execution_count": 31,
   "id": "ae497742",
   "metadata": {
    "execution": {
     "iopub.execute_input": "2025-10-07T02:31:56.410803Z",
     "iopub.status.busy": "2025-10-07T02:31:56.410212Z",
     "iopub.status.idle": "2025-10-07T02:31:58.874901Z",
     "shell.execute_reply": "2025-10-07T02:31:58.874087Z"
    },
    "papermill": {
     "duration": 2.822455,
     "end_time": "2025-10-07T02:31:58.876388",
     "exception": false,
     "start_time": "2025-10-07T02:31:56.053933",
     "status": "completed"
    },
    "tags": []
   },
   "outputs": [
    {
     "name": "stderr",
     "output_type": "stream",
     "text": [
      "/usr/local/lib/python3.11/dist-packages/peft/tuners/tuners_utils.py:196: UserWarning: Already found a `peft_config` attribute in the model. This will lead to having multiple adapters in the model. Make sure to know what you are doing!\n",
      "  warnings.warn(\n"
     ]
    }
   ],
   "source": [
    "# Load adapter từ local checkpoint\n",
    "full_model = PeftModel.from_pretrained(\n",
    "    base_model,\n",
    "    FULL_LABEL_MODEL_PATH\n",
    ")\n",
    "\n",
    "# Setup pad token\n",
    "full_model.config.pad_token_id = tokenizer.pad_token_id\n",
    "full_model.generation_config.pad_token_id = tokenizer.pad_token_id"
   ]
  },
  {
   "cell_type": "code",
   "execution_count": 32,
   "id": "62b8fcba",
   "metadata": {
    "execution": {
     "iopub.execute_input": "2025-10-07T02:31:59.401508Z",
     "iopub.status.busy": "2025-10-07T02:31:59.401224Z",
     "iopub.status.idle": "2025-10-07T02:31:59.405095Z",
     "shell.execute_reply": "2025-10-07T02:31:59.404417Z"
    },
    "papermill": {
     "duration": 0.267344,
     "end_time": "2025-10-07T02:31:59.406449",
     "exception": false,
     "start_time": "2025-10-07T02:31:59.139105",
     "status": "completed"
    },
    "tags": []
   },
   "outputs": [],
   "source": [
    "full_model_system_prompt = \"\"\"You are an expert AI assistant specializing in detecting hallucinations in Vietnamese language model outputs. Your task is to analyze a given Context and Response to determine if the Response contains hallucinations relative to the Context.\n",
    "\n",
    "First, think step-by-step. Carefully analyze the Response and compare it sentence-by-sentence against the information provided in the Context. Identify any contradictions, distortions, or new information that cannot be inferred from the source.\n",
    "\n",
    "After your step-by-step analysis, you must classify the Response into one of three categories:\n",
    "\n",
    "1.  **no**: The Response is fully consistent with and factually supported by the information in the Context. It does not introduce any information that cannot be directly inferred from the source text.\n",
    "2.  **intrinsic**: The Response directly contradicts or distorts information that is explicitly present in the Context. The hallucinated content is based on entities or concepts from the context but presents them inaccurately.\n",
    "3.  **extrinsic**: The Response introduces additional information that is NOT present in the Context and cannot be inferred from it. This information might be true in the real world, but it is not supported by the provided source text.\n",
    "\n",
    "Based on your conclusion, you must output ONLY the label: . Do not provide any explanations or additional text.\n",
    "\"\"\""
   ]
  },
  {
   "cell_type": "code",
   "execution_count": 33,
   "id": "483b2fdb",
   "metadata": {
    "execution": {
     "iopub.execute_input": "2025-10-07T02:31:59.932334Z",
     "iopub.status.busy": "2025-10-07T02:31:59.932038Z",
     "iopub.status.idle": "2025-10-07T02:31:59.936261Z",
     "shell.execute_reply": "2025-10-07T02:31:59.935569Z"
    },
    "papermill": {
     "duration": 0.266509,
     "end_time": "2025-10-07T02:31:59.937357",
     "exception": false,
     "start_time": "2025-10-07T02:31:59.670848",
     "status": "completed"
    },
    "tags": []
   },
   "outputs": [],
   "source": [
    "def full_build_messages(context: str, response: str):\n",
    "    prompt = f\"\"\"### Bối cảnh: {context} \n",
    "                \n",
    "### Phản hồi: {response}\n",
    "    \n",
    "**Nhiệm vụ:** Dựa vào **Bối cảnh**, hãy xác định xem **Phản hồi** có chứa ảo giác hay không và phân loại nó. Chỉ trả lời bằng một trong ba nhãn sau: `no`, `intrinsic`, `extrinsic`.\n",
    "\"\"\"\n",
    "    return [\n",
    "        {\"role\": \"system\", \"content\": full_model_system_prompt},\n",
    "        {\"role\": \"user\", \"content\": prompt}\n",
    "    ]"
   ]
  },
  {
   "cell_type": "code",
   "execution_count": 34,
   "id": "a7a51d15",
   "metadata": {
    "execution": {
     "iopub.execute_input": "2025-10-07T02:32:00.527801Z",
     "iopub.status.busy": "2025-10-07T02:32:00.527527Z",
     "iopub.status.idle": "2025-10-07T03:33:04.697213Z",
     "shell.execute_reply": "2025-10-07T03:33:04.696412Z"
    },
    "papermill": {
     "duration": 3664.501767,
     "end_time": "2025-10-07T03:33:04.698349",
     "exception": false,
     "start_time": "2025-10-07T02:32:00.196582",
     "status": "completed"
    },
    "tags": []
   },
   "outputs": [
    {
     "name": "stderr",
     "output_type": "stream",
     "text": [
      "100%|██████████| 2000/2000 [1:01:04<00:00,  1.83s/it]\n"
     ]
    }
   ],
   "source": [
    "full_preds = []\n",
    "full_valid_labels = [\"no\", \"intrinsic\", \"extrinsic\"]\n",
    "\n",
    "for _, row in tqdm(df.iterrows(), total=len(df)):\n",
    "    messages = full_build_messages(row[\"context\"], row[\"response\"])\n",
    "    label = predict_one(messages, full_model)\n",
    "    if label in full_valid_labels:\n",
    "        full_preds.append({\"id\": row[\"id\"], \"predict_label\": label})\n",
    "    else:\n",
    "        err_id = row[\"id\"]\n",
    "        print(f\"ERROR: {err_id} - Response: {label}\")\n",
    "\n",
    "full_df = pd.DataFrame(full_preds)"
   ]
  },
  {
   "cell_type": "code",
   "execution_count": 35,
   "id": "e06ce45f",
   "metadata": {
    "execution": {
     "iopub.execute_input": "2025-10-07T03:33:05.440705Z",
     "iopub.status.busy": "2025-10-07T03:33:05.440441Z",
     "iopub.status.idle": "2025-10-07T03:33:05.447553Z",
     "shell.execute_reply": "2025-10-07T03:33:05.446922Z"
    },
    "papermill": {
     "duration": 0.410929,
     "end_time": "2025-10-07T03:33:05.448628",
     "exception": false,
     "start_time": "2025-10-07T03:33:05.037699",
     "status": "completed"
    },
    "tags": []
   },
   "outputs": [
    {
     "data": {
      "text/plain": [
       "predict_label\n",
       "no           690\n",
       "intrinsic    668\n",
       "extrinsic    642\n",
       "Name: count, dtype: int64"
      ]
     },
     "execution_count": 35,
     "metadata": {},
     "output_type": "execute_result"
    }
   ],
   "source": [
    "full_df['predict_label'].value_counts()"
   ]
  },
  {
   "cell_type": "code",
   "execution_count": 36,
   "id": "483a887e",
   "metadata": {
    "execution": {
     "iopub.execute_input": "2025-10-07T03:33:06.147788Z",
     "iopub.status.busy": "2025-10-07T03:33:06.147420Z",
     "iopub.status.idle": "2025-10-07T03:33:06.151194Z",
     "shell.execute_reply": "2025-10-07T03:33:06.150599Z"
    },
    "papermill": {
     "duration": 0.364934,
     "end_time": "2025-10-07T03:33:06.152189",
     "exception": false,
     "start_time": "2025-10-07T03:33:05.787255",
     "status": "completed"
    },
    "tags": []
   },
   "outputs": [],
   "source": [
    "del full_model"
   ]
  },
  {
   "cell_type": "code",
   "execution_count": 37,
   "id": "03f321e7",
   "metadata": {
    "execution": {
     "iopub.execute_input": "2025-10-07T03:33:06.920906Z",
     "iopub.status.busy": "2025-10-07T03:33:06.920641Z",
     "iopub.status.idle": "2025-10-07T03:33:07.322422Z",
     "shell.execute_reply": "2025-10-07T03:33:07.321858Z"
    },
    "papermill": {
     "duration": 0.742463,
     "end_time": "2025-10-07T03:33:07.323540",
     "exception": false,
     "start_time": "2025-10-07T03:33:06.581077",
     "status": "completed"
    },
    "tags": []
   },
   "outputs": [
    {
     "data": {
      "text/plain": [
       "0"
      ]
     },
     "execution_count": 37,
     "metadata": {},
     "output_type": "execute_result"
    }
   ],
   "source": [
    "gc.collect()"
   ]
  },
  {
   "cell_type": "markdown",
   "id": "186b71b1",
   "metadata": {
    "papermill": {
     "duration": 0.336828,
     "end_time": "2025-10-07T03:33:07.998284",
     "exception": false,
     "start_time": "2025-10-07T03:33:07.661456",
     "status": "completed"
    },
    "tags": []
   },
   "source": [
    "## FINAL DECISIONS"
   ]
  },
  {
   "cell_type": "code",
   "execution_count": 38,
   "id": "31ed9bf6",
   "metadata": {
    "execution": {
     "iopub.execute_input": "2025-10-07T03:33:08.741558Z",
     "iopub.status.busy": "2025-10-07T03:33:08.741293Z",
     "iopub.status.idle": "2025-10-07T03:33:08.761745Z",
     "shell.execute_reply": "2025-10-07T03:33:08.761042Z"
    },
    "papermill": {
     "duration": 0.433483,
     "end_time": "2025-10-07T03:33:08.762933",
     "exception": false,
     "start_time": "2025-10-07T03:33:08.329450",
     "status": "completed"
    },
    "tags": []
   },
   "outputs": [],
   "source": [
    "predict_df = truth_hallucination_df.merge(known_unknown_df, on=\"id\", suffixes=(\"_m1\", \"_m2\"))\n",
    "predict_df = predict_df.merge(supported_contradictory_df, on=\"id\")\n",
    "predict_df = predict_df.rename(columns={\"predict_label\": \"predict_label_m3\"})\n",
    "predict_df = predict_df.merge(full_df, on=\"id\")\n",
    "predict_df = predict_df.rename(columns={\"predict_label\": \"predict_label_m4\"})"
   ]
  },
  {
   "cell_type": "code",
   "execution_count": 39,
   "id": "9d896145",
   "metadata": {
    "execution": {
     "iopub.execute_input": "2025-10-07T03:33:09.433527Z",
     "iopub.status.busy": "2025-10-07T03:33:09.433260Z",
     "iopub.status.idle": "2025-10-07T03:33:09.450436Z",
     "shell.execute_reply": "2025-10-07T03:33:09.449838Z"
    },
    "papermill": {
     "duration": 0.353845,
     "end_time": "2025-10-07T03:33:09.451594",
     "exception": false,
     "start_time": "2025-10-07T03:33:09.097749",
     "status": "completed"
    },
    "tags": []
   },
   "outputs": [
    {
     "data": {
      "text/html": [
       "<div>\n",
       "<style scoped>\n",
       "    .dataframe tbody tr th:only-of-type {\n",
       "        vertical-align: middle;\n",
       "    }\n",
       "\n",
       "    .dataframe tbody tr th {\n",
       "        vertical-align: top;\n",
       "    }\n",
       "\n",
       "    .dataframe thead th {\n",
       "        text-align: right;\n",
       "    }\n",
       "</style>\n",
       "<table border=\"1\" class=\"dataframe\">\n",
       "  <thead>\n",
       "    <tr style=\"text-align: right;\">\n",
       "      <th></th>\n",
       "      <th>id</th>\n",
       "      <th>predict_label_m1</th>\n",
       "      <th>predict_label_m2</th>\n",
       "      <th>predict_label_m3</th>\n",
       "      <th>predict_label_m4</th>\n",
       "    </tr>\n",
       "  </thead>\n",
       "  <tbody>\n",
       "    <tr>\n",
       "      <th>0</th>\n",
       "      <td>ef35e7a1-766f-4455-b349-09084a1f56ba</td>\n",
       "      <td>no</td>\n",
       "      <td>known</td>\n",
       "      <td>supported</td>\n",
       "      <td>no</td>\n",
       "    </tr>\n",
       "    <tr>\n",
       "      <th>1</th>\n",
       "      <td>85aac4aa-e53c-4d01-bdcf-e8b27a2cd9bc</td>\n",
       "      <td>yes</td>\n",
       "      <td>known</td>\n",
       "      <td>supported</td>\n",
       "      <td>intrinsic</td>\n",
       "    </tr>\n",
       "    <tr>\n",
       "      <th>2</th>\n",
       "      <td>cd056e1b-51f6-4adf-939c-e742645437bf</td>\n",
       "      <td>no</td>\n",
       "      <td>known</td>\n",
       "      <td>supported</td>\n",
       "      <td>intrinsic</td>\n",
       "    </tr>\n",
       "    <tr>\n",
       "      <th>3</th>\n",
       "      <td>6cc80aa4-44db-4366-8cb6-16453aa8ecbf</td>\n",
       "      <td>yes</td>\n",
       "      <td>known</td>\n",
       "      <td>contradictory</td>\n",
       "      <td>intrinsic</td>\n",
       "    </tr>\n",
       "    <tr>\n",
       "      <th>4</th>\n",
       "      <td>948849cb-0c83-4dc1-b5ae-aaa585a8d528</td>\n",
       "      <td>yes</td>\n",
       "      <td>known</td>\n",
       "      <td>contradictory</td>\n",
       "      <td>intrinsic</td>\n",
       "    </tr>\n",
       "  </tbody>\n",
       "</table>\n",
       "</div>"
      ],
      "text/plain": [
       "                                     id predict_label_m1 predict_label_m2  \\\n",
       "0  ef35e7a1-766f-4455-b349-09084a1f56ba               no            known   \n",
       "1  85aac4aa-e53c-4d01-bdcf-e8b27a2cd9bc              yes            known   \n",
       "2  cd056e1b-51f6-4adf-939c-e742645437bf               no            known   \n",
       "3  6cc80aa4-44db-4366-8cb6-16453aa8ecbf              yes            known   \n",
       "4  948849cb-0c83-4dc1-b5ae-aaa585a8d528              yes            known   \n",
       "\n",
       "  predict_label_m3 predict_label_m4  \n",
       "0        supported               no  \n",
       "1        supported        intrinsic  \n",
       "2        supported        intrinsic  \n",
       "3    contradictory        intrinsic  \n",
       "4    contradictory        intrinsic  "
      ]
     },
     "execution_count": 39,
     "metadata": {},
     "output_type": "execute_result"
    }
   ],
   "source": [
    "predict_df.head()"
   ]
  },
  {
   "cell_type": "code",
   "execution_count": 40,
   "id": "e8f44499",
   "metadata": {
    "execution": {
     "iopub.execute_input": "2025-10-07T03:33:10.194163Z",
     "iopub.status.busy": "2025-10-07T03:33:10.193492Z",
     "iopub.status.idle": "2025-10-07T03:33:10.198203Z",
     "shell.execute_reply": "2025-10-07T03:33:10.197624Z"
    },
    "papermill": {
     "duration": 0.412185,
     "end_time": "2025-10-07T03:33:10.199358",
     "exception": false,
     "start_time": "2025-10-07T03:33:09.787173",
     "status": "completed"
    },
    "tags": []
   },
   "outputs": [],
   "source": [
    "def final_label(row):\n",
    "    global cnt\n",
    "    if row[\"predict_label_m1\"] == \"no\" and row[\"predict_label_m2\"] == \"known\" and row[\"predict_label_m3\"] == \"supported\":\n",
    "        return \"no\"\n",
    "    elif row[\"predict_label_m1\"] == \"yes\" and row[\"predict_label_m2\"] == \"unknown\" and row[\"predict_label_m3\"] == \"supported\":\n",
    "        return \"extrinsic\"\n",
    "    elif row[\"predict_label_m1\"] == \"yes\" and row[\"predict_label_m2\"] == \"known\" and row[\"predict_label_m3\"] == \"contradictory\":\n",
    "        return \"intrinsic\"\n",
    "    return row[\"predict_label_m4\"]"
   ]
  },
  {
   "cell_type": "code",
   "execution_count": 41,
   "id": "5c200596",
   "metadata": {
    "execution": {
     "iopub.execute_input": "2025-10-07T03:33:10.875733Z",
     "iopub.status.busy": "2025-10-07T03:33:10.875019Z",
     "iopub.status.idle": "2025-10-07T03:33:10.898550Z",
     "shell.execute_reply": "2025-10-07T03:33:10.897988Z"
    },
    "papermill": {
     "duration": 0.360825,
     "end_time": "2025-10-07T03:33:10.899627",
     "exception": false,
     "start_time": "2025-10-07T03:33:10.538802",
     "status": "completed"
    },
    "tags": []
   },
   "outputs": [],
   "source": [
    "predict_df[\"predict_label\"] = predict_df.apply(final_label, axis=1)"
   ]
  },
  {
   "cell_type": "code",
   "execution_count": 42,
   "id": "c7e23062",
   "metadata": {
    "execution": {
     "iopub.execute_input": "2025-10-07T03:33:11.661136Z",
     "iopub.status.busy": "2025-10-07T03:33:11.660839Z",
     "iopub.status.idle": "2025-10-07T03:33:11.669386Z",
     "shell.execute_reply": "2025-10-07T03:33:11.668693Z"
    },
    "papermill": {
     "duration": 0.436106,
     "end_time": "2025-10-07T03:33:11.670729",
     "exception": false,
     "start_time": "2025-10-07T03:33:11.234623",
     "status": "completed"
    },
    "tags": []
   },
   "outputs": [
    {
     "data": {
      "text/html": [
       "<div>\n",
       "<style scoped>\n",
       "    .dataframe tbody tr th:only-of-type {\n",
       "        vertical-align: middle;\n",
       "    }\n",
       "\n",
       "    .dataframe tbody tr th {\n",
       "        vertical-align: top;\n",
       "    }\n",
       "\n",
       "    .dataframe thead th {\n",
       "        text-align: right;\n",
       "    }\n",
       "</style>\n",
       "<table border=\"1\" class=\"dataframe\">\n",
       "  <thead>\n",
       "    <tr style=\"text-align: right;\">\n",
       "      <th></th>\n",
       "      <th>id</th>\n",
       "      <th>predict_label_m1</th>\n",
       "      <th>predict_label_m2</th>\n",
       "      <th>predict_label_m3</th>\n",
       "      <th>predict_label_m4</th>\n",
       "      <th>predict_label</th>\n",
       "    </tr>\n",
       "  </thead>\n",
       "  <tbody>\n",
       "    <tr>\n",
       "      <th>0</th>\n",
       "      <td>ef35e7a1-766f-4455-b349-09084a1f56ba</td>\n",
       "      <td>no</td>\n",
       "      <td>known</td>\n",
       "      <td>supported</td>\n",
       "      <td>no</td>\n",
       "      <td>no</td>\n",
       "    </tr>\n",
       "    <tr>\n",
       "      <th>1</th>\n",
       "      <td>85aac4aa-e53c-4d01-bdcf-e8b27a2cd9bc</td>\n",
       "      <td>yes</td>\n",
       "      <td>known</td>\n",
       "      <td>supported</td>\n",
       "      <td>intrinsic</td>\n",
       "      <td>intrinsic</td>\n",
       "    </tr>\n",
       "    <tr>\n",
       "      <th>2</th>\n",
       "      <td>cd056e1b-51f6-4adf-939c-e742645437bf</td>\n",
       "      <td>no</td>\n",
       "      <td>known</td>\n",
       "      <td>supported</td>\n",
       "      <td>intrinsic</td>\n",
       "      <td>no</td>\n",
       "    </tr>\n",
       "    <tr>\n",
       "      <th>3</th>\n",
       "      <td>6cc80aa4-44db-4366-8cb6-16453aa8ecbf</td>\n",
       "      <td>yes</td>\n",
       "      <td>known</td>\n",
       "      <td>contradictory</td>\n",
       "      <td>intrinsic</td>\n",
       "      <td>intrinsic</td>\n",
       "    </tr>\n",
       "    <tr>\n",
       "      <th>4</th>\n",
       "      <td>948849cb-0c83-4dc1-b5ae-aaa585a8d528</td>\n",
       "      <td>yes</td>\n",
       "      <td>known</td>\n",
       "      <td>contradictory</td>\n",
       "      <td>intrinsic</td>\n",
       "      <td>intrinsic</td>\n",
       "    </tr>\n",
       "  </tbody>\n",
       "</table>\n",
       "</div>"
      ],
      "text/plain": [
       "                                     id predict_label_m1 predict_label_m2  \\\n",
       "0  ef35e7a1-766f-4455-b349-09084a1f56ba               no            known   \n",
       "1  85aac4aa-e53c-4d01-bdcf-e8b27a2cd9bc              yes            known   \n",
       "2  cd056e1b-51f6-4adf-939c-e742645437bf               no            known   \n",
       "3  6cc80aa4-44db-4366-8cb6-16453aa8ecbf              yes            known   \n",
       "4  948849cb-0c83-4dc1-b5ae-aaa585a8d528              yes            known   \n",
       "\n",
       "  predict_label_m3 predict_label_m4 predict_label  \n",
       "0        supported               no            no  \n",
       "1        supported        intrinsic     intrinsic  \n",
       "2        supported        intrinsic            no  \n",
       "3    contradictory        intrinsic     intrinsic  \n",
       "4    contradictory        intrinsic     intrinsic  "
      ]
     },
     "execution_count": 42,
     "metadata": {},
     "output_type": "execute_result"
    }
   ],
   "source": [
    "predict_df.head()"
   ]
  },
  {
   "cell_type": "code",
   "execution_count": 43,
   "id": "484ac746",
   "metadata": {
    "execution": {
     "iopub.execute_input": "2025-10-07T03:33:12.355739Z",
     "iopub.status.busy": "2025-10-07T03:33:12.355486Z",
     "iopub.status.idle": "2025-10-07T03:33:12.361247Z",
     "shell.execute_reply": "2025-10-07T03:33:12.360505Z"
    },
    "papermill": {
     "duration": 0.338142,
     "end_time": "2025-10-07T03:33:12.362446",
     "exception": false,
     "start_time": "2025-10-07T03:33:12.024304",
     "status": "completed"
    },
    "tags": []
   },
   "outputs": [
    {
     "name": "stdout",
     "output_type": "stream",
     "text": [
      "Number of mismatch predicted labels:  52\n"
     ]
    }
   ],
   "source": [
    "conflict_df = predict_df[predict_df[\"predict_label_m4\"] != predict_df[\"predict_label\"]]\n",
    "print(\"Number of mismatch predicted labels: \", len(conflict_df))"
   ]
  },
  {
   "cell_type": "code",
   "execution_count": 44,
   "id": "b67f32cd",
   "metadata": {
    "execution": {
     "iopub.execute_input": "2025-10-07T03:33:13.140255Z",
     "iopub.status.busy": "2025-10-07T03:33:13.139627Z",
     "iopub.status.idle": "2025-10-07T03:33:13.144405Z",
     "shell.execute_reply": "2025-10-07T03:33:13.143853Z"
    },
    "papermill": {
     "duration": 0.430186,
     "end_time": "2025-10-07T03:33:13.145473",
     "exception": false,
     "start_time": "2025-10-07T03:33:12.715287",
     "status": "completed"
    },
    "tags": []
   },
   "outputs": [],
   "source": [
    "condition = (conflict_df['predict_label_m4'] == 'extrinsic') & (conflict_df['predict_label'] == 'no')\n",
    "conflict_df.loc[condition, 'predict_label'] = 'extrinsic'"
   ]
  },
  {
   "cell_type": "code",
   "execution_count": 45,
   "id": "926dd0d7",
   "metadata": {
    "execution": {
     "iopub.execute_input": "2025-10-07T03:33:13.818365Z",
     "iopub.status.busy": "2025-10-07T03:33:13.818049Z",
     "iopub.status.idle": "2025-10-07T03:33:13.822660Z",
     "shell.execute_reply": "2025-10-07T03:33:13.821929Z"
    },
    "papermill": {
     "duration": 0.345009,
     "end_time": "2025-10-07T03:33:13.823830",
     "exception": false,
     "start_time": "2025-10-07T03:33:13.478821",
     "status": "completed"
    },
    "tags": []
   },
   "outputs": [
    {
     "name": "stdout",
     "output_type": "stream",
     "text": [
      "Số dòng thay đổi sau khi phân tích kết quả: 5\n"
     ]
    }
   ],
   "source": [
    "# Đếm số hàng thỏa điều kiện\n",
    "num_rows = condition.sum()\n",
    "print(\"Số dòng thay đổi sau khi phân tích kết quả:\", num_rows)"
   ]
  },
  {
   "cell_type": "code",
   "execution_count": 46,
   "id": "d1870136",
   "metadata": {
    "execution": {
     "iopub.execute_input": "2025-10-07T03:33:14.497592Z",
     "iopub.status.busy": "2025-10-07T03:33:14.497350Z",
     "iopub.status.idle": "2025-10-07T03:33:14.519407Z",
     "shell.execute_reply": "2025-10-07T03:33:14.518739Z"
    },
    "papermill": {
     "duration": 0.356855,
     "end_time": "2025-10-07T03:33:14.520614",
     "exception": false,
     "start_time": "2025-10-07T03:33:14.163759",
     "status": "completed"
    },
    "tags": []
   },
   "outputs": [],
   "source": [
    "df_to_update = predict_df.set_index('id')\n",
    "df_with_updates = conflict_df.set_index('id')\n",
    "df_to_update.update(df_with_updates)\n",
    "final_df = df_to_update.reset_index()\n",
    "\n",
    "final_df.drop(columns=[\"predict_label_m1\", \"predict_label_m2\", \"predict_label_m3\", \"predict_label_m4\"], inplace=True)\n",
    "final_df.to_csv(\"submit.csv\", index=False)"
   ]
  },
  {
   "cell_type": "markdown",
   "id": "a52035ff",
   "metadata": {
    "papermill": {
     "duration": 0.33328,
     "end_time": "2025-10-07T03:33:15.271497",
     "exception": false,
     "start_time": "2025-10-07T03:33:14.938217",
     "status": "completed"
    },
    "tags": []
   },
   "source": [
    "## CHECKING WITH SUBMITTED FILE"
   ]
  },
  {
   "cell_type": "code",
   "execution_count": 47,
   "id": "9a2da48a",
   "metadata": {
    "execution": {
     "iopub.execute_input": "2025-10-07T03:33:15.945256Z",
     "iopub.status.busy": "2025-10-07T03:33:15.944725Z",
     "iopub.status.idle": "2025-10-07T03:33:15.967855Z",
     "shell.execute_reply": "2025-10-07T03:33:15.967027Z"
    },
    "papermill": {
     "duration": 0.361804,
     "end_time": "2025-10-07T03:33:15.969531",
     "exception": false,
     "start_time": "2025-10-07T03:33:15.607727",
     "status": "completed"
    },
    "tags": []
   },
   "outputs": [],
   "source": [
    "submitted_df = pd.read_csv(SUBMITTED_FILE_PATH)"
   ]
  },
  {
   "cell_type": "code",
   "execution_count": 48,
   "id": "1d26f740",
   "metadata": {
    "execution": {
     "iopub.execute_input": "2025-10-07T03:33:16.775169Z",
     "iopub.status.busy": "2025-10-07T03:33:16.774643Z",
     "iopub.status.idle": "2025-10-07T03:33:16.778990Z",
     "shell.execute_reply": "2025-10-07T03:33:16.778379Z"
    },
    "papermill": {
     "duration": 0.353052,
     "end_time": "2025-10-07T03:33:16.779945",
     "exception": false,
     "start_time": "2025-10-07T03:33:16.426893",
     "status": "completed"
    },
    "tags": []
   },
   "outputs": [
    {
     "name": "stdout",
     "output_type": "stream",
     "text": [
      "Is re-produce file matching with submitted file:  False\n"
     ]
    }
   ],
   "source": [
    "isSame = final_df.equals(submitted_df)\n",
    "print(\"Is re-produce file matching with submitted file: \", isSame)"
   ]
  },
  {
   "cell_type": "code",
   "execution_count": 49,
   "id": "f1fde3f9",
   "metadata": {
    "execution": {
     "iopub.execute_input": "2025-10-07T03:33:17.459473Z",
     "iopub.status.busy": "2025-10-07T03:33:17.458728Z",
     "iopub.status.idle": "2025-10-07T03:33:17.467472Z",
     "shell.execute_reply": "2025-10-07T03:33:17.466707Z"
    },
    "papermill": {
     "duration": 0.348438,
     "end_time": "2025-10-07T03:33:17.468642",
     "exception": false,
     "start_time": "2025-10-07T03:33:17.120204",
     "status": "completed"
    },
    "tags": []
   },
   "outputs": [
    {
     "name": "stdout",
     "output_type": "stream",
     "text": [
      "---Các dòng khác biệt---\n",
      "                                   id_df1 predict_label_df1  \\\n",
      "230  c5f3c48b-80f9-437c-839e-b188430a63f8         intrinsic   \n",
      "\n",
      "                                   id_df2 predict_label_df2  \n",
      "230  c5f3c48b-80f9-437c-839e-b188430a63f8         extrinsic  \n"
     ]
    }
   ],
   "source": [
    "if isSame == False:\n",
    "    print(\"---Các dòng khác biệt---\")\n",
    "    mask = final_df[\"predict_label\"] != submitted_df[\"predict_label\"]\n",
    "    \n",
    "    diff = pd.concat(\n",
    "        [final_df[mask].add_suffix(\"_df1\"), submitted_df[mask].add_suffix(\"_df2\")],\n",
    "        axis=1\n",
    "    )\n",
    "    \n",
    "    print(diff)"
   ]
  },
  {
   "cell_type": "markdown",
   "id": "a7b6754b",
   "metadata": {},
   "source": [
    "Nhận xét: chỉ có **1/2000 dòng bị thay đổi**. Nguyên nhân có thể đến từ sự ngẫu nhiên hoặc đặc tính của LLM. Tuy nhiên, việc chỉ thay đổi **1 dòng trên tổng 2000** chứng minh rằng hệ thống có **tính ổn định và consistency cao**."
   ]
  },
  {
   "cell_type": "markdown",
   "id": "42d27603",
   "metadata": {},
   "source": []
  }
 ],
 "metadata": {
  "kaggle": {
   "accelerator": "gpu",
   "dataSources": [
    {
     "datasetId": 8415819,
     "sourceId": 13279506,
     "sourceType": "datasetVersion"
    },
    {
     "datasetId": 8232956,
     "sourceId": 13280840,
     "sourceType": "datasetVersion"
    }
   ],
   "dockerImageVersionId": 31090,
   "isGpuEnabled": true,
   "isInternetEnabled": true,
   "language": "python",
   "sourceType": "notebook"
  },
  "kernelspec": {
   "display_name": "Python 3",
   "language": "python",
   "name": "python3"
  },
  "language_info": {
   "codemirror_mode": {
    "name": "ipython",
    "version": 3
   },
   "file_extension": ".py",
   "mimetype": "text/x-python",
   "name": "python",
   "nbconvert_exporter": "python",
   "pygments_lexer": "ipython3",
   "version": "3.11.13"
  },
  "papermill": {
   "default_parameters": {},
   "duration": 10601.956745,
   "end_time": "2025-10-07T03:33:20.816721",
   "environment_variables": {},
   "exception": null,
   "input_path": "__notebook__.ipynb",
   "output_path": "__notebook__.ipynb",
   "parameters": {},
   "start_time": "2025-10-07T00:36:38.859976",
   "version": "2.6.0"
  },
  "widgets": {
   "application/vnd.jupyter.widget-state+json": {
    "state": {
     "03f4ae1da9b347d3b2d37ab60274b47e": {
      "model_module": "@jupyter-widgets/base",
      "model_module_version": "2.0.0",
      "model_name": "LayoutModel",
      "state": {
       "_model_module": "@jupyter-widgets/base",
       "_model_module_version": "2.0.0",
       "_model_name": "LayoutModel",
       "_view_count": null,
       "_view_module": "@jupyter-widgets/base",
       "_view_module_version": "2.0.0",
       "_view_name": "LayoutView",
       "align_content": null,
       "align_items": null,
       "align_self": null,
       "border_bottom": null,
       "border_left": null,
       "border_right": null,
       "border_top": null,
       "bottom": null,
       "display": null,
       "flex": null,
       "flex_flow": null,
       "grid_area": null,
       "grid_auto_columns": null,
       "grid_auto_flow": null,
       "grid_auto_rows": null,
       "grid_column": null,
       "grid_gap": null,
       "grid_row": null,
       "grid_template_areas": null,
       "grid_template_columns": null,
       "grid_template_rows": null,
       "height": null,
       "justify_content": null,
       "justify_items": null,
       "left": null,
       "margin": null,
       "max_height": null,
       "max_width": null,
       "min_height": null,
       "min_width": null,
       "object_fit": null,
       "object_position": null,
       "order": null,
       "overflow": null,
       "padding": null,
       "right": null,
       "top": null,
       "visibility": null,
       "width": null
      }
     },
     "05d474a10cc947479e46499143fb5e5f": {
      "model_module": "@jupyter-widgets/base",
      "model_module_version": "2.0.0",
      "model_name": "LayoutModel",
      "state": {
       "_model_module": "@jupyter-widgets/base",
       "_model_module_version": "2.0.0",
       "_model_name": "LayoutModel",
       "_view_count": null,
       "_view_module": "@jupyter-widgets/base",
       "_view_module_version": "2.0.0",
       "_view_name": "LayoutView",
       "align_content": null,
       "align_items": null,
       "align_self": null,
       "border_bottom": null,
       "border_left": null,
       "border_right": null,
       "border_top": null,
       "bottom": null,
       "display": null,
       "flex": null,
       "flex_flow": null,
       "grid_area": null,
       "grid_auto_columns": null,
       "grid_auto_flow": null,
       "grid_auto_rows": null,
       "grid_column": null,
       "grid_gap": null,
       "grid_row": null,
       "grid_template_areas": null,
       "grid_template_columns": null,
       "grid_template_rows": null,
       "height": null,
       "justify_content": null,
       "justify_items": null,
       "left": null,
       "margin": null,
       "max_height": null,
       "max_width": null,
       "min_height": null,
       "min_width": null,
       "object_fit": null,
       "object_position": null,
       "order": null,
       "overflow": null,
       "padding": null,
       "right": null,
       "top": null,
       "visibility": null,
       "width": null
      }
     },
     "0867cb2c16f148848c566fbdab6721da": {
      "model_module": "@jupyter-widgets/base",
      "model_module_version": "2.0.0",
      "model_name": "LayoutModel",
      "state": {
       "_model_module": "@jupyter-widgets/base",
       "_model_module_version": "2.0.0",
       "_model_name": "LayoutModel",
       "_view_count": null,
       "_view_module": "@jupyter-widgets/base",
       "_view_module_version": "2.0.0",
       "_view_name": "LayoutView",
       "align_content": null,
       "align_items": null,
       "align_self": null,
       "border_bottom": null,
       "border_left": null,
       "border_right": null,
       "border_top": null,
       "bottom": null,
       "display": null,
       "flex": null,
       "flex_flow": null,
       "grid_area": null,
       "grid_auto_columns": null,
       "grid_auto_flow": null,
       "grid_auto_rows": null,
       "grid_column": null,
       "grid_gap": null,
       "grid_row": null,
       "grid_template_areas": null,
       "grid_template_columns": null,
       "grid_template_rows": null,
       "height": null,
       "justify_content": null,
       "justify_items": null,
       "left": null,
       "margin": null,
       "max_height": null,
       "max_width": null,
       "min_height": null,
       "min_width": null,
       "object_fit": null,
       "object_position": null,
       "order": null,
       "overflow": null,
       "padding": null,
       "right": null,
       "top": null,
       "visibility": null,
       "width": null
      }
     },
     "08d97c93c6d3467f8b0b02fc3f5ddd50": {
      "model_module": "@jupyter-widgets/controls",
      "model_module_version": "2.0.0",
      "model_name": "HTMLModel",
      "state": {
       "_dom_classes": [],
       "_model_module": "@jupyter-widgets/controls",
       "_model_module_version": "2.0.0",
       "_model_name": "HTMLModel",
       "_view_count": null,
       "_view_module": "@jupyter-widgets/controls",
       "_view_module_version": "2.0.0",
       "_view_name": "HTMLView",
       "description": "",
       "description_allow_html": false,
       "layout": "IPY_MODEL_f363eab900d14928bbac3f1c6f51c2f3",
       "placeholder": "​",
       "style": "IPY_MODEL_bcbb5323b95046d89d4cac0aa9cbafe6",
       "tabbable": null,
       "tooltip": null,
       "value": " 2.78M/? [00:00&lt;00:00, 74.3MB/s]"
      }
     },
     "0a095d5f52a1475bb98d96e6cd57650a": {
      "model_module": "@jupyter-widgets/controls",
      "model_module_version": "2.0.0",
      "model_name": "HTMLStyleModel",
      "state": {
       "_model_module": "@jupyter-widgets/controls",
       "_model_module_version": "2.0.0",
       "_model_name": "HTMLStyleModel",
       "_view_count": null,
       "_view_module": "@jupyter-widgets/base",
       "_view_module_version": "2.0.0",
       "_view_name": "StyleView",
       "background": null,
       "description_width": "",
       "font_size": null,
       "text_color": null
      }
     },
     "0ae810799acd41b58f034601531d39a0": {
      "model_module": "@jupyter-widgets/controls",
      "model_module_version": "2.0.0",
      "model_name": "ProgressStyleModel",
      "state": {
       "_model_module": "@jupyter-widgets/controls",
       "_model_module_version": "2.0.0",
       "_model_name": "ProgressStyleModel",
       "_view_count": null,
       "_view_module": "@jupyter-widgets/base",
       "_view_module_version": "2.0.0",
       "_view_name": "StyleView",
       "bar_color": null,
       "description_width": ""
      }
     },
     "0bf69ff9dbae4e37958bc2f63b036010": {
      "model_module": "@jupyter-widgets/controls",
      "model_module_version": "2.0.0",
      "model_name": "HTMLStyleModel",
      "state": {
       "_model_module": "@jupyter-widgets/controls",
       "_model_module_version": "2.0.0",
       "_model_name": "HTMLStyleModel",
       "_view_count": null,
       "_view_module": "@jupyter-widgets/base",
       "_view_module_version": "2.0.0",
       "_view_name": "StyleView",
       "background": null,
       "description_width": "",
       "font_size": null,
       "text_color": null
      }
     },
     "0d13acbae2dc4f48a9faae0681c90db3": {
      "model_module": "@jupyter-widgets/base",
      "model_module_version": "2.0.0",
      "model_name": "LayoutModel",
      "state": {
       "_model_module": "@jupyter-widgets/base",
       "_model_module_version": "2.0.0",
       "_model_name": "LayoutModel",
       "_view_count": null,
       "_view_module": "@jupyter-widgets/base",
       "_view_module_version": "2.0.0",
       "_view_name": "LayoutView",
       "align_content": null,
       "align_items": null,
       "align_self": null,
       "border_bottom": null,
       "border_left": null,
       "border_right": null,
       "border_top": null,
       "bottom": null,
       "display": null,
       "flex": null,
       "flex_flow": null,
       "grid_area": null,
       "grid_auto_columns": null,
       "grid_auto_flow": null,
       "grid_auto_rows": null,
       "grid_column": null,
       "grid_gap": null,
       "grid_row": null,
       "grid_template_areas": null,
       "grid_template_columns": null,
       "grid_template_rows": null,
       "height": null,
       "justify_content": null,
       "justify_items": null,
       "left": null,
       "margin": null,
       "max_height": null,
       "max_width": null,
       "min_height": null,
       "min_width": null,
       "object_fit": null,
       "object_position": null,
       "order": null,
       "overflow": null,
       "padding": null,
       "right": null,
       "top": null,
       "visibility": null,
       "width": null
      }
     },
     "147659d032224ffa889021dbe8f384ed": {
      "model_module": "@jupyter-widgets/controls",
      "model_module_version": "2.0.0",
      "model_name": "HTMLStyleModel",
      "state": {
       "_model_module": "@jupyter-widgets/controls",
       "_model_module_version": "2.0.0",
       "_model_name": "HTMLStyleModel",
       "_view_count": null,
       "_view_module": "@jupyter-widgets/base",
       "_view_module_version": "2.0.0",
       "_view_name": "StyleView",
       "background": null,
       "description_width": "",
       "font_size": null,
       "text_color": null
      }
     },
     "148f6b4f824d4fe6968c2d0d8bef7da2": {
      "model_module": "@jupyter-widgets/controls",
      "model_module_version": "2.0.0",
      "model_name": "ProgressStyleModel",
      "state": {
       "_model_module": "@jupyter-widgets/controls",
       "_model_module_version": "2.0.0",
       "_model_name": "ProgressStyleModel",
       "_view_count": null,
       "_view_module": "@jupyter-widgets/base",
       "_view_module_version": "2.0.0",
       "_view_name": "StyleView",
       "bar_color": null,
       "description_width": ""
      }
     },
     "1534af9d90854304a472da7e13a29707": {
      "model_module": "@jupyter-widgets/controls",
      "model_module_version": "2.0.0",
      "model_name": "HTMLModel",
      "state": {
       "_dom_classes": [],
       "_model_module": "@jupyter-widgets/controls",
       "_model_module_version": "2.0.0",
       "_model_name": "HTMLModel",
       "_view_count": null,
       "_view_module": "@jupyter-widgets/controls",
       "_view_module_version": "2.0.0",
       "_view_name": "HTMLView",
       "description": "",
       "description_allow_html": false,
       "layout": "IPY_MODEL_e3b633cbbb774e61b0527ec9714f56d8",
       "placeholder": "​",
       "style": "IPY_MODEL_96a73e8374ff4843a71ef2094a95fec3",
       "tabbable": null,
       "tooltip": null,
       "value": " 1.67M/? [00:00&lt;00:00, 76.2MB/s]"
      }
     },
     "1734606752cb43cb9bcc3b2c76a6d59e": {
      "model_module": "@jupyter-widgets/controls",
      "model_module_version": "2.0.0",
      "model_name": "HTMLStyleModel",
      "state": {
       "_model_module": "@jupyter-widgets/controls",
       "_model_module_version": "2.0.0",
       "_model_name": "HTMLStyleModel",
       "_view_count": null,
       "_view_module": "@jupyter-widgets/base",
       "_view_module_version": "2.0.0",
       "_view_name": "StyleView",
       "background": null,
       "description_width": "",
       "font_size": null,
       "text_color": null
      }
     },
     "1a534285048045aa9f7c403ff58728a6": {
      "model_module": "@jupyter-widgets/controls",
      "model_module_version": "2.0.0",
      "model_name": "HBoxModel",
      "state": {
       "_dom_classes": [],
       "_model_module": "@jupyter-widgets/controls",
       "_model_module_version": "2.0.0",
       "_model_name": "HBoxModel",
       "_view_count": null,
       "_view_module": "@jupyter-widgets/controls",
       "_view_module_version": "2.0.0",
       "_view_name": "HBoxView",
       "box_style": "",
       "children": [
        "IPY_MODEL_80faffd4136c4605abc1d2afeb39ad7b",
        "IPY_MODEL_347b1ba678964f09a74e871cbecf395c",
        "IPY_MODEL_9fb8968e4f65491dbad779936cfdd1cc"
       ],
       "layout": "IPY_MODEL_7391d16f15c04bdea3f1b16234250970",
       "tabbable": null,
       "tooltip": null
      }
     },
     "1d0cafd736f74942a781fce86c76bfd9": {
      "model_module": "@jupyter-widgets/controls",
      "model_module_version": "2.0.0",
      "model_name": "HTMLStyleModel",
      "state": {
       "_model_module": "@jupyter-widgets/controls",
       "_model_module_version": "2.0.0",
       "_model_name": "HTMLStyleModel",
       "_view_count": null,
       "_view_module": "@jupyter-widgets/base",
       "_view_module_version": "2.0.0",
       "_view_name": "StyleView",
       "background": null,
       "description_width": "",
       "font_size": null,
       "text_color": null
      }
     },
     "23d24267087f4510896216822f080577": {
      "model_module": "@jupyter-widgets/base",
      "model_module_version": "2.0.0",
      "model_name": "LayoutModel",
      "state": {
       "_model_module": "@jupyter-widgets/base",
       "_model_module_version": "2.0.0",
       "_model_name": "LayoutModel",
       "_view_count": null,
       "_view_module": "@jupyter-widgets/base",
       "_view_module_version": "2.0.0",
       "_view_name": "LayoutView",
       "align_content": null,
       "align_items": null,
       "align_self": null,
       "border_bottom": null,
       "border_left": null,
       "border_right": null,
       "border_top": null,
       "bottom": null,
       "display": null,
       "flex": null,
       "flex_flow": null,
       "grid_area": null,
       "grid_auto_columns": null,
       "grid_auto_flow": null,
       "grid_auto_rows": null,
       "grid_column": null,
       "grid_gap": null,
       "grid_row": null,
       "grid_template_areas": null,
       "grid_template_columns": null,
       "grid_template_rows": null,
       "height": null,
       "justify_content": null,
       "justify_items": null,
       "left": null,
       "margin": null,
       "max_height": null,
       "max_width": null,
       "min_height": null,
       "min_width": null,
       "object_fit": null,
       "object_position": null,
       "order": null,
       "overflow": null,
       "padding": null,
       "right": null,
       "top": null,
       "visibility": null,
       "width": "20px"
      }
     },
     "27417492b6a44a40999521de05e92fc5": {
      "model_module": "@jupyter-widgets/controls",
      "model_module_version": "2.0.0",
      "model_name": "HTMLModel",
      "state": {
       "_dom_classes": [],
       "_model_module": "@jupyter-widgets/controls",
       "_model_module_version": "2.0.0",
       "_model_name": "HTMLModel",
       "_view_count": null,
       "_view_module": "@jupyter-widgets/controls",
       "_view_module_version": "2.0.0",
       "_view_name": "HTMLView",
       "description": "",
       "description_allow_html": false,
       "layout": "IPY_MODEL_8e1991da8964450aa848c1ca19221bee",
       "placeholder": "​",
       "style": "IPY_MODEL_8698daa408c9426d9f620c69c39780b0",
       "tabbable": null,
       "tooltip": null,
       "value": " 3/3 [00:30&lt;00:00,  8.29s/it]"
      }
     },
     "297d25648f7a4f7788cf7b04d7d7f16c": {
      "model_module": "@jupyter-widgets/controls",
      "model_module_version": "2.0.0",
      "model_name": "HTMLStyleModel",
      "state": {
       "_model_module": "@jupyter-widgets/controls",
       "_model_module_version": "2.0.0",
       "_model_name": "HTMLStyleModel",
       "_view_count": null,
       "_view_module": "@jupyter-widgets/base",
       "_view_module_version": "2.0.0",
       "_view_name": "StyleView",
       "background": null,
       "description_width": "",
       "font_size": null,
       "text_color": null
      }
     },
     "29c0554f518740878f125358fe6b9f10": {
      "model_module": "@jupyter-widgets/controls",
      "model_module_version": "2.0.0",
      "model_name": "HTMLStyleModel",
      "state": {
       "_model_module": "@jupyter-widgets/controls",
       "_model_module_version": "2.0.0",
       "_model_name": "HTMLStyleModel",
       "_view_count": null,
       "_view_module": "@jupyter-widgets/base",
       "_view_module_version": "2.0.0",
       "_view_name": "StyleView",
       "background": null,
       "description_width": "",
       "font_size": null,
       "text_color": null
      }
     },
     "2f024dbf67524161aa2d6283603ccc40": {
      "model_module": "@jupyter-widgets/controls",
      "model_module_version": "2.0.0",
      "model_name": "HTMLModel",
      "state": {
       "_dom_classes": [],
       "_model_module": "@jupyter-widgets/controls",
       "_model_module_version": "2.0.0",
       "_model_name": "HTMLModel",
       "_view_count": null,
       "_view_module": "@jupyter-widgets/controls",
       "_view_module_version": "2.0.0",
       "_view_name": "HTMLView",
       "description": "",
       "description_allow_html": false,
       "layout": "IPY_MODEL_928b5611c6874f25ad040b76daec0474",
       "placeholder": "​",
       "style": "IPY_MODEL_5fc9df61a0634cdbaa301d1070ff629b",
       "tabbable": null,
       "tooltip": null,
       "value": "model-00001-of-00003.safetensors: 100%"
      }
     },
     "2fa660c2bec1416494deed7b9642fa52": {
      "model_module": "@jupyter-widgets/controls",
      "model_module_version": "2.0.0",
      "model_name": "ProgressStyleModel",
      "state": {
       "_model_module": "@jupyter-widgets/controls",
       "_model_module_version": "2.0.0",
       "_model_name": "ProgressStyleModel",
       "_view_count": null,
       "_view_module": "@jupyter-widgets/base",
       "_view_module_version": "2.0.0",
       "_view_name": "StyleView",
       "bar_color": null,
       "description_width": ""
      }
     },
     "31267957480c4fb1b9b965f4deb75887": {
      "model_module": "@jupyter-widgets/controls",
      "model_module_version": "2.0.0",
      "model_name": "HBoxModel",
      "state": {
       "_dom_classes": [],
       "_model_module": "@jupyter-widgets/controls",
       "_model_module_version": "2.0.0",
       "_model_name": "HBoxModel",
       "_view_count": null,
       "_view_module": "@jupyter-widgets/controls",
       "_view_module_version": "2.0.0",
       "_view_name": "HBoxView",
       "box_style": "",
       "children": [
        "IPY_MODEL_5c533dc2172c4068b84e6bf7da3fb1f4",
        "IPY_MODEL_95d998251baa4e738713349dbc8887ab",
        "IPY_MODEL_e0a4b14cddf7451298ff4766a17f75c5"
       ],
       "layout": "IPY_MODEL_65ed29b3dde54119ab0797da6617c828",
       "tabbable": null,
       "tooltip": null
      }
     },
     "347b1ba678964f09a74e871cbecf395c": {
      "model_module": "@jupyter-widgets/controls",
      "model_module_version": "2.0.0",
      "model_name": "FloatProgressModel",
      "state": {
       "_dom_classes": [],
       "_model_module": "@jupyter-widgets/controls",
       "_model_module_version": "2.0.0",
       "_model_name": "FloatProgressModel",
       "_view_count": null,
       "_view_module": "@jupyter-widgets/controls",
       "_view_module_version": "2.0.0",
       "_view_name": "ProgressView",
       "bar_style": "success",
       "description": "",
       "description_allow_html": false,
       "layout": "IPY_MODEL_05d474a10cc947479e46499143fb5e5f",
       "max": 727,
       "min": 0,
       "orientation": "horizontal",
       "style": "IPY_MODEL_9a365fb3896c41c8ba38c39161bf9242",
       "tabbable": null,
       "tooltip": null,
       "value": 727
      }
     },
     "352c2e9c30d445b0a793dc470f107dba": {
      "model_module": "@jupyter-widgets/controls",
      "model_module_version": "2.0.0",
      "model_name": "FloatProgressModel",
      "state": {
       "_dom_classes": [],
       "_model_module": "@jupyter-widgets/controls",
       "_model_module_version": "2.0.0",
       "_model_name": "FloatProgressModel",
       "_view_count": null,
       "_view_module": "@jupyter-widgets/controls",
       "_view_module_version": "2.0.0",
       "_view_name": "ProgressView",
       "bar_style": "success",
       "description": "",
       "description_allow_html": false,
       "layout": "IPY_MODEL_f586770fa8a3476594c9b71865010ba0",
       "max": 1,
       "min": 0,
       "orientation": "horizontal",
       "style": "IPY_MODEL_e79fef3d8acc44b6a4cd817d6f8345b0",
       "tabbable": null,
       "tooltip": null,
       "value": 1
      }
     },
     "353c5283b15544c7b2ae9367f33d2da7": {
      "model_module": "@jupyter-widgets/base",
      "model_module_version": "2.0.0",
      "model_name": "LayoutModel",
      "state": {
       "_model_module": "@jupyter-widgets/base",
       "_model_module_version": "2.0.0",
       "_model_name": "LayoutModel",
       "_view_count": null,
       "_view_module": "@jupyter-widgets/base",
       "_view_module_version": "2.0.0",
       "_view_name": "LayoutView",
       "align_content": null,
       "align_items": null,
       "align_self": null,
       "border_bottom": null,
       "border_left": null,
       "border_right": null,
       "border_top": null,
       "bottom": null,
       "display": null,
       "flex": null,
       "flex_flow": null,
       "grid_area": null,
       "grid_auto_columns": null,
       "grid_auto_flow": null,
       "grid_auto_rows": null,
       "grid_column": null,
       "grid_gap": null,
       "grid_row": null,
       "grid_template_areas": null,
       "grid_template_columns": null,
       "grid_template_rows": null,
       "height": null,
       "justify_content": null,
       "justify_items": null,
       "left": null,
       "margin": null,
       "max_height": null,
       "max_width": null,
       "min_height": null,
       "min_width": null,
       "object_fit": null,
       "object_position": null,
       "order": null,
       "overflow": null,
       "padding": null,
       "right": null,
       "top": null,
       "visibility": null,
       "width": null
      }
     },
     "394facf6b7234035b8b91248cc8094c3": {
      "model_module": "@jupyter-widgets/controls",
      "model_module_version": "2.0.0",
      "model_name": "FloatProgressModel",
      "state": {
       "_dom_classes": [],
       "_model_module": "@jupyter-widgets/controls",
       "_model_module_version": "2.0.0",
       "_model_name": "FloatProgressModel",
       "_view_count": null,
       "_view_module": "@jupyter-widgets/controls",
       "_view_module_version": "2.0.0",
       "_view_name": "ProgressView",
       "bar_style": "success",
       "description": "",
       "description_allow_html": false,
       "layout": "IPY_MODEL_d13a87d5972540608d78a1acda3247de",
       "max": 3,
       "min": 0,
       "orientation": "horizontal",
       "style": "IPY_MODEL_7e2617273d384ec19134918e6cc5f250",
       "tabbable": null,
       "tooltip": null,
       "value": 3
      }
     },
     "3bd5d8901c6e44d2b10c3e120a49da91": {
      "model_module": "@jupyter-widgets/controls",
      "model_module_version": "2.0.0",
      "model_name": "ProgressStyleModel",
      "state": {
       "_model_module": "@jupyter-widgets/controls",
       "_model_module_version": "2.0.0",
       "_model_name": "ProgressStyleModel",
       "_view_count": null,
       "_view_module": "@jupyter-widgets/base",
       "_view_module_version": "2.0.0",
       "_view_name": "StyleView",
       "bar_color": null,
       "description_width": ""
      }
     },
     "3d636ada98b74bc2918823247190f16f": {
      "model_module": "@jupyter-widgets/controls",
      "model_module_version": "2.0.0",
      "model_name": "HBoxModel",
      "state": {
       "_dom_classes": [],
       "_model_module": "@jupyter-widgets/controls",
       "_model_module_version": "2.0.0",
       "_model_name": "HBoxModel",
       "_view_count": null,
       "_view_module": "@jupyter-widgets/controls",
       "_view_module_version": "2.0.0",
       "_view_name": "HBoxView",
       "box_style": "",
       "children": [
        "IPY_MODEL_6a30247b65314aa8b053d9b39c61b2b5",
        "IPY_MODEL_b4d70183cddf4d41b3d3b8bf19fba5f8",
        "IPY_MODEL_6553a0a0f2b7448c8944b5672f9dbc9f"
       ],
       "layout": "IPY_MODEL_492f1ad1114d490188e8ed093fa1736c",
       "tabbable": null,
       "tooltip": null
      }
     },
     "3e7074949ef04ab3a1d4399d673e53bf": {
      "model_module": "@jupyter-widgets/controls",
      "model_module_version": "2.0.0",
      "model_name": "HBoxModel",
      "state": {
       "_dom_classes": [],
       "_model_module": "@jupyter-widgets/controls",
       "_model_module_version": "2.0.0",
       "_model_name": "HBoxModel",
       "_view_count": null,
       "_view_module": "@jupyter-widgets/controls",
       "_view_module_version": "2.0.0",
       "_view_name": "HBoxView",
       "box_style": "",
       "children": [
        "IPY_MODEL_417e5dffc9cd41b590421bef3537ed98",
        "IPY_MODEL_f090e3d3d6084e68a91f57a43b02ded9",
        "IPY_MODEL_e50c839708d7437aa9d901972fa9f450"
       ],
       "layout": "IPY_MODEL_03f4ae1da9b347d3b2d37ab60274b47e",
       "tabbable": null,
       "tooltip": null
      }
     },
     "4050acbc7f994ca6a58a0fe8d80664ee": {
      "model_module": "@jupyter-widgets/controls",
      "model_module_version": "2.0.0",
      "model_name": "HTMLModel",
      "state": {
       "_dom_classes": [],
       "_model_module": "@jupyter-widgets/controls",
       "_model_module_version": "2.0.0",
       "_model_name": "HTMLModel",
       "_view_count": null,
       "_view_module": "@jupyter-widgets/controls",
       "_view_module_version": "2.0.0",
       "_view_name": "HTMLView",
       "description": "",
       "description_allow_html": false,
       "layout": "IPY_MODEL_881e430ffdfa4013ba87b2db480100a0",
       "placeholder": "​",
       "style": "IPY_MODEL_bb2ebdaea568411d94d56bd98e35f619",
       "tabbable": null,
       "tooltip": null,
       "value": " 9.38k/? [00:00&lt;00:00, 898kB/s]"
      }
     },
     "4135cbcf4bee43a998190dc21d6f906f": {
      "model_module": "@jupyter-widgets/controls",
      "model_module_version": "2.0.0",
      "model_name": "ProgressStyleModel",
      "state": {
       "_model_module": "@jupyter-widgets/controls",
       "_model_module_version": "2.0.0",
       "_model_name": "ProgressStyleModel",
       "_view_count": null,
       "_view_module": "@jupyter-widgets/base",
       "_view_module_version": "2.0.0",
       "_view_name": "StyleView",
       "bar_color": null,
       "description_width": ""
      }
     },
     "417e5dffc9cd41b590421bef3537ed98": {
      "model_module": "@jupyter-widgets/controls",
      "model_module_version": "2.0.0",
      "model_name": "HTMLModel",
      "state": {
       "_dom_classes": [],
       "_model_module": "@jupyter-widgets/controls",
       "_model_module_version": "2.0.0",
       "_model_name": "HTMLModel",
       "_view_count": null,
       "_view_module": "@jupyter-widgets/controls",
       "_view_module_version": "2.0.0",
       "_view_name": "HTMLView",
       "description": "",
       "description_allow_html": false,
       "layout": "IPY_MODEL_e82803cb741f4138adbed40bb78bd666",
       "placeholder": "​",
       "style": "IPY_MODEL_d31c8a96050b4b368076066337c9a06f",
       "tabbable": null,
       "tooltip": null,
       "value": "model.safetensors.index.json: "
      }
     },
     "4378a5b9ee944d8ea0fc88404fe7b763": {
      "model_module": "@jupyter-widgets/controls",
      "model_module_version": "2.0.0",
      "model_name": "FloatProgressModel",
      "state": {
       "_dom_classes": [],
       "_model_module": "@jupyter-widgets/controls",
       "_model_module_version": "2.0.0",
       "_model_name": "FloatProgressModel",
       "_view_count": null,
       "_view_module": "@jupyter-widgets/controls",
       "_view_module_version": "2.0.0",
       "_view_name": "ProgressView",
       "bar_style": "success",
       "description": "",
       "description_allow_html": false,
       "layout": "IPY_MODEL_e156fe5394ce4b81b07bfe2f1e829000",
       "max": 3,
       "min": 0,
       "orientation": "horizontal",
       "style": "IPY_MODEL_c29b59315ff648ae8ffd68924b6512d5",
       "tabbable": null,
       "tooltip": null,
       "value": 3
      }
     },
     "4425721852c3423785a3ba8017a13b49": {
      "model_module": "@jupyter-widgets/controls",
      "model_module_version": "2.0.0",
      "model_name": "HBoxModel",
      "state": {
       "_dom_classes": [],
       "_model_module": "@jupyter-widgets/controls",
       "_model_module_version": "2.0.0",
       "_model_name": "HBoxModel",
       "_view_count": null,
       "_view_module": "@jupyter-widgets/controls",
       "_view_module_version": "2.0.0",
       "_view_name": "HBoxView",
       "box_style": "",
       "children": [
        "IPY_MODEL_a1fe0898f8c44013b46304a8c005f520",
        "IPY_MODEL_352c2e9c30d445b0a793dc470f107dba",
        "IPY_MODEL_1534af9d90854304a472da7e13a29707"
       ],
       "layout": "IPY_MODEL_c53686c9f50d4be6896bc4c3acdef83f",
       "tabbable": null,
       "tooltip": null
      }
     },
     "469ef26a6bab4c858a6143ccc8f8decf": {
      "model_module": "@jupyter-widgets/base",
      "model_module_version": "2.0.0",
      "model_name": "LayoutModel",
      "state": {
       "_model_module": "@jupyter-widgets/base",
       "_model_module_version": "2.0.0",
       "_model_name": "LayoutModel",
       "_view_count": null,
       "_view_module": "@jupyter-widgets/base",
       "_view_module_version": "2.0.0",
       "_view_name": "LayoutView",
       "align_content": null,
       "align_items": null,
       "align_self": null,
       "border_bottom": null,
       "border_left": null,
       "border_right": null,
       "border_top": null,
       "bottom": null,
       "display": null,
       "flex": null,
       "flex_flow": null,
       "grid_area": null,
       "grid_auto_columns": null,
       "grid_auto_flow": null,
       "grid_auto_rows": null,
       "grid_column": null,
       "grid_gap": null,
       "grid_row": null,
       "grid_template_areas": null,
       "grid_template_columns": null,
       "grid_template_rows": null,
       "height": null,
       "justify_content": null,
       "justify_items": null,
       "left": null,
       "margin": null,
       "max_height": null,
       "max_width": null,
       "min_height": null,
       "min_width": null,
       "object_fit": null,
       "object_position": null,
       "order": null,
       "overflow": null,
       "padding": null,
       "right": null,
       "top": null,
       "visibility": null,
       "width": null
      }
     },
     "492f1ad1114d490188e8ed093fa1736c": {
      "model_module": "@jupyter-widgets/base",
      "model_module_version": "2.0.0",
      "model_name": "LayoutModel",
      "state": {
       "_model_module": "@jupyter-widgets/base",
       "_model_module_version": "2.0.0",
       "_model_name": "LayoutModel",
       "_view_count": null,
       "_view_module": "@jupyter-widgets/base",
       "_view_module_version": "2.0.0",
       "_view_name": "LayoutView",
       "align_content": null,
       "align_items": null,
       "align_self": null,
       "border_bottom": null,
       "border_left": null,
       "border_right": null,
       "border_top": null,
       "bottom": null,
       "display": null,
       "flex": null,
       "flex_flow": null,
       "grid_area": null,
       "grid_auto_columns": null,
       "grid_auto_flow": null,
       "grid_auto_rows": null,
       "grid_column": null,
       "grid_gap": null,
       "grid_row": null,
       "grid_template_areas": null,
       "grid_template_columns": null,
       "grid_template_rows": null,
       "height": null,
       "justify_content": null,
       "justify_items": null,
       "left": null,
       "margin": null,
       "max_height": null,
       "max_width": null,
       "min_height": null,
       "min_width": null,
       "object_fit": null,
       "object_position": null,
       "order": null,
       "overflow": null,
       "padding": null,
       "right": null,
       "top": null,
       "visibility": null,
       "width": null
      }
     },
     "4c61840facfe4307939ec1021d379541": {
      "model_module": "@jupyter-widgets/base",
      "model_module_version": "2.0.0",
      "model_name": "LayoutModel",
      "state": {
       "_model_module": "@jupyter-widgets/base",
       "_model_module_version": "2.0.0",
       "_model_name": "LayoutModel",
       "_view_count": null,
       "_view_module": "@jupyter-widgets/base",
       "_view_module_version": "2.0.0",
       "_view_name": "LayoutView",
       "align_content": null,
       "align_items": null,
       "align_self": null,
       "border_bottom": null,
       "border_left": null,
       "border_right": null,
       "border_top": null,
       "bottom": null,
       "display": null,
       "flex": null,
       "flex_flow": null,
       "grid_area": null,
       "grid_auto_columns": null,
       "grid_auto_flow": null,
       "grid_auto_rows": null,
       "grid_column": null,
       "grid_gap": null,
       "grid_row": null,
       "grid_template_areas": null,
       "grid_template_columns": null,
       "grid_template_rows": null,
       "height": null,
       "justify_content": null,
       "justify_items": null,
       "left": null,
       "margin": null,
       "max_height": null,
       "max_width": null,
       "min_height": null,
       "min_width": null,
       "object_fit": null,
       "object_position": null,
       "order": null,
       "overflow": null,
       "padding": null,
       "right": null,
       "top": null,
       "visibility": null,
       "width": null
      }
     },
     "4d92b2e4e6ee4648910409350b9ef5a6": {
      "model_module": "@jupyter-widgets/base",
      "model_module_version": "2.0.0",
      "model_name": "LayoutModel",
      "state": {
       "_model_module": "@jupyter-widgets/base",
       "_model_module_version": "2.0.0",
       "_model_name": "LayoutModel",
       "_view_count": null,
       "_view_module": "@jupyter-widgets/base",
       "_view_module_version": "2.0.0",
       "_view_name": "LayoutView",
       "align_content": null,
       "align_items": null,
       "align_self": null,
       "border_bottom": null,
       "border_left": null,
       "border_right": null,
       "border_top": null,
       "bottom": null,
       "display": null,
       "flex": null,
       "flex_flow": null,
       "grid_area": null,
       "grid_auto_columns": null,
       "grid_auto_flow": null,
       "grid_auto_rows": null,
       "grid_column": null,
       "grid_gap": null,
       "grid_row": null,
       "grid_template_areas": null,
       "grid_template_columns": null,
       "grid_template_rows": null,
       "height": null,
       "justify_content": null,
       "justify_items": null,
       "left": null,
       "margin": null,
       "max_height": null,
       "max_width": null,
       "min_height": null,
       "min_width": null,
       "object_fit": null,
       "object_position": null,
       "order": null,
       "overflow": null,
       "padding": null,
       "right": null,
       "top": null,
       "visibility": null,
       "width": null
      }
     },
     "4e5295e10e5f485daaf528786669763d": {
      "model_module": "@jupyter-widgets/controls",
      "model_module_version": "2.0.0",
      "model_name": "HTMLStyleModel",
      "state": {
       "_model_module": "@jupyter-widgets/controls",
       "_model_module_version": "2.0.0",
       "_model_name": "HTMLStyleModel",
       "_view_count": null,
       "_view_module": "@jupyter-widgets/base",
       "_view_module_version": "2.0.0",
       "_view_name": "StyleView",
       "background": null,
       "description_width": "",
       "font_size": null,
       "text_color": null
      }
     },
     "4fb44ded30da4cc4aa77ce6c1b659aa8": {
      "model_module": "@jupyter-widgets/controls",
      "model_module_version": "2.0.0",
      "model_name": "HTMLModel",
      "state": {
       "_dom_classes": [],
       "_model_module": "@jupyter-widgets/controls",
       "_model_module_version": "2.0.0",
       "_model_name": "HTMLModel",
       "_view_count": null,
       "_view_module": "@jupyter-widgets/controls",
       "_view_module_version": "2.0.0",
       "_view_name": "HTMLView",
       "description": "",
       "description_allow_html": false,
       "layout": "IPY_MODEL_c83182c7c7d24d3490fda1ff10ccf6ce",
       "placeholder": "​",
       "style": "IPY_MODEL_297d25648f7a4f7788cf7b04d7d7f16c",
       "tabbable": null,
       "tooltip": null,
       "value": "Fetching 3 files: 100%"
      }
     },
     "511579f950444b0da32c2559b25d1a3c": {
      "model_module": "@jupyter-widgets/controls",
      "model_module_version": "2.0.0",
      "model_name": "HTMLStyleModel",
      "state": {
       "_model_module": "@jupyter-widgets/controls",
       "_model_module_version": "2.0.0",
       "_model_name": "HTMLStyleModel",
       "_view_count": null,
       "_view_module": "@jupyter-widgets/base",
       "_view_module_version": "2.0.0",
       "_view_name": "StyleView",
       "background": null,
       "description_width": "",
       "font_size": null,
       "text_color": null
      }
     },
     "52bbef1a94ee46f4b847b53476254a21": {
      "model_module": "@jupyter-widgets/controls",
      "model_module_version": "2.0.0",
      "model_name": "HTMLStyleModel",
      "state": {
       "_model_module": "@jupyter-widgets/controls",
       "_model_module_version": "2.0.0",
       "_model_name": "HTMLStyleModel",
       "_view_count": null,
       "_view_module": "@jupyter-widgets/base",
       "_view_module_version": "2.0.0",
       "_view_name": "StyleView",
       "background": null,
       "description_width": "",
       "font_size": null,
       "text_color": null
      }
     },
     "5642390eaafc4f4985ad7e3f3dbdd2fa": {
      "model_module": "@jupyter-widgets/controls",
      "model_module_version": "2.0.0",
      "model_name": "HTMLModel",
      "state": {
       "_dom_classes": [],
       "_model_module": "@jupyter-widgets/controls",
       "_model_module_version": "2.0.0",
       "_model_name": "HTMLModel",
       "_view_count": null,
       "_view_module": "@jupyter-widgets/controls",
       "_view_module_version": "2.0.0",
       "_view_name": "HTMLView",
       "description": "",
       "description_allow_html": false,
       "layout": "IPY_MODEL_a647503be1ea4f1aa5a5fb6f12b49901",
       "placeholder": "​",
       "style": "IPY_MODEL_0a095d5f52a1475bb98d96e6cd57650a",
       "tabbable": null,
       "tooltip": null,
       "value": " 3.99G/3.99G [01:01&lt;00:00, 85.6MB/s]"
      }
     },
     "5aa5b1573ab541719911b52add45ffe5": {
      "model_module": "@jupyter-widgets/controls",
      "model_module_version": "2.0.0",
      "model_name": "FloatProgressModel",
      "state": {
       "_dom_classes": [],
       "_model_module": "@jupyter-widgets/controls",
       "_model_module_version": "2.0.0",
       "_model_name": "FloatProgressModel",
       "_view_count": null,
       "_view_module": "@jupyter-widgets/controls",
       "_view_module_version": "2.0.0",
       "_view_name": "ProgressView",
       "bar_style": "success",
       "description": "",
       "description_allow_html": false,
       "layout": "IPY_MODEL_ba68660e4e974984ae5d8421b67bcfcc",
       "max": 1,
       "min": 0,
       "orientation": "horizontal",
       "style": "IPY_MODEL_3bd5d8901c6e44d2b10c3e120a49da91",
       "tabbable": null,
       "tooltip": null,
       "value": 1
      }
     },
     "5b7679b48f624dfe9d3cb72775fe21d4": {
      "model_module": "@jupyter-widgets/controls",
      "model_module_version": "2.0.0",
      "model_name": "HTMLStyleModel",
      "state": {
       "_model_module": "@jupyter-widgets/controls",
       "_model_module_version": "2.0.0",
       "_model_name": "HTMLStyleModel",
       "_view_count": null,
       "_view_module": "@jupyter-widgets/base",
       "_view_module_version": "2.0.0",
       "_view_name": "StyleView",
       "background": null,
       "description_width": "",
       "font_size": null,
       "text_color": null
      }
     },
     "5c533dc2172c4068b84e6bf7da3fb1f4": {
      "model_module": "@jupyter-widgets/controls",
      "model_module_version": "2.0.0",
      "model_name": "HTMLModel",
      "state": {
       "_dom_classes": [],
       "_model_module": "@jupyter-widgets/controls",
       "_model_module_version": "2.0.0",
       "_model_name": "HTMLModel",
       "_view_count": null,
       "_view_module": "@jupyter-widgets/controls",
       "_view_module_version": "2.0.0",
       "_view_name": "HTMLView",
       "description": "",
       "description_allow_html": false,
       "layout": "IPY_MODEL_90e4e7ded3434e2ab57fec6e0fec300d",
       "placeholder": "​",
       "style": "IPY_MODEL_99423b39c22e462ab6040defab92c782",
       "tabbable": null,
       "tooltip": null,
       "value": "tokenizer.json: 100%"
      }
     },
     "5e634e631c804e4eaf7963b09297bc30": {
      "model_module": "@jupyter-widgets/base",
      "model_module_version": "2.0.0",
      "model_name": "LayoutModel",
      "state": {
       "_model_module": "@jupyter-widgets/base",
       "_model_module_version": "2.0.0",
       "_model_name": "LayoutModel",
       "_view_count": null,
       "_view_module": "@jupyter-widgets/base",
       "_view_module_version": "2.0.0",
       "_view_name": "LayoutView",
       "align_content": null,
       "align_items": null,
       "align_self": null,
       "border_bottom": null,
       "border_left": null,
       "border_right": null,
       "border_top": null,
       "bottom": null,
       "display": null,
       "flex": null,
       "flex_flow": null,
       "grid_area": null,
       "grid_auto_columns": null,
       "grid_auto_flow": null,
       "grid_auto_rows": null,
       "grid_column": null,
       "grid_gap": null,
       "grid_row": null,
       "grid_template_areas": null,
       "grid_template_columns": null,
       "grid_template_rows": null,
       "height": null,
       "justify_content": null,
       "justify_items": null,
       "left": null,
       "margin": null,
       "max_height": null,
       "max_width": null,
       "min_height": null,
       "min_width": null,
       "object_fit": null,
       "object_position": null,
       "order": null,
       "overflow": null,
       "padding": null,
       "right": null,
       "top": null,
       "visibility": null,
       "width": null
      }
     },
     "5ee562fb1e444699ab5d59c44fc82279": {
      "model_module": "@jupyter-widgets/controls",
      "model_module_version": "2.0.0",
      "model_name": "HTMLModel",
      "state": {
       "_dom_classes": [],
       "_model_module": "@jupyter-widgets/controls",
       "_model_module_version": "2.0.0",
       "_model_name": "HTMLModel",
       "_view_count": null,
       "_view_module": "@jupyter-widgets/controls",
       "_view_module_version": "2.0.0",
       "_view_name": "HTMLView",
       "description": "",
       "description_allow_html": false,
       "layout": "IPY_MODEL_9daeef95e5a941a6a030cfcaa8444092",
       "placeholder": "​",
       "style": "IPY_MODEL_511579f950444b0da32c2559b25d1a3c",
       "tabbable": null,
       "tooltip": null,
       "value": "model-00002-of-00003.safetensors: 100%"
      }
     },
     "5f8fcc97484646e0a477467ac7bc81b9": {
      "model_module": "@jupyter-widgets/controls",
      "model_module_version": "2.0.0",
      "model_name": "HBoxModel",
      "state": {
       "_dom_classes": [],
       "_model_module": "@jupyter-widgets/controls",
       "_model_module_version": "2.0.0",
       "_model_name": "HBoxModel",
       "_view_count": null,
       "_view_module": "@jupyter-widgets/controls",
       "_view_module_version": "2.0.0",
       "_view_name": "HBoxView",
       "box_style": "",
       "children": [
        "IPY_MODEL_6278a93b60ac4fe1895a3cffbbdd79d6",
        "IPY_MODEL_5aa5b1573ab541719911b52add45ffe5",
        "IPY_MODEL_08d97c93c6d3467f8b0b02fc3f5ddd50"
       ],
       "layout": "IPY_MODEL_ee6894e6b62248cb813daa4491f972c6",
       "tabbable": null,
       "tooltip": null
      }
     },
     "5fc9df61a0634cdbaa301d1070ff629b": {
      "model_module": "@jupyter-widgets/controls",
      "model_module_version": "2.0.0",
      "model_name": "HTMLStyleModel",
      "state": {
       "_model_module": "@jupyter-widgets/controls",
       "_model_module_version": "2.0.0",
       "_model_name": "HTMLStyleModel",
       "_view_count": null,
       "_view_module": "@jupyter-widgets/base",
       "_view_module_version": "2.0.0",
       "_view_name": "StyleView",
       "background": null,
       "description_width": "",
       "font_size": null,
       "text_color": null
      }
     },
     "61f8b025847544a6aa33a2145005c626": {
      "model_module": "@jupyter-widgets/controls",
      "model_module_version": "2.0.0",
      "model_name": "FloatProgressModel",
      "state": {
       "_dom_classes": [],
       "_model_module": "@jupyter-widgets/controls",
       "_model_module_version": "2.0.0",
       "_model_name": "FloatProgressModel",
       "_view_count": null,
       "_view_module": "@jupyter-widgets/controls",
       "_view_module_version": "2.0.0",
       "_view_name": "ProgressView",
       "bar_style": "success",
       "description": "",
       "description_allow_html": false,
       "layout": "IPY_MODEL_9279af31dcb0429a93a9a31fdd03512a",
       "max": 3987450520,
       "min": 0,
       "orientation": "horizontal",
       "style": "IPY_MODEL_a85e94e24ff742e48ac35145d7261dbb",
       "tabbable": null,
       "tooltip": null,
       "value": 3987450520
      }
     },
     "61fc0d72870d4093a815848b8bad948b": {
      "model_module": "@jupyter-widgets/base",
      "model_module_version": "2.0.0",
      "model_name": "LayoutModel",
      "state": {
       "_model_module": "@jupyter-widgets/base",
       "_model_module_version": "2.0.0",
       "_model_name": "LayoutModel",
       "_view_count": null,
       "_view_module": "@jupyter-widgets/base",
       "_view_module_version": "2.0.0",
       "_view_name": "LayoutView",
       "align_content": null,
       "align_items": null,
       "align_self": null,
       "border_bottom": null,
       "border_left": null,
       "border_right": null,
       "border_top": null,
       "bottom": null,
       "display": null,
       "flex": null,
       "flex_flow": null,
       "grid_area": null,
       "grid_auto_columns": null,
       "grid_auto_flow": null,
       "grid_auto_rows": null,
       "grid_column": null,
       "grid_gap": null,
       "grid_row": null,
       "grid_template_areas": null,
       "grid_template_columns": null,
       "grid_template_rows": null,
       "height": null,
       "justify_content": null,
       "justify_items": null,
       "left": null,
       "margin": null,
       "max_height": null,
       "max_width": null,
       "min_height": null,
       "min_width": null,
       "object_fit": null,
       "object_position": null,
       "order": null,
       "overflow": null,
       "padding": null,
       "right": null,
       "top": null,
       "visibility": null,
       "width": null
      }
     },
     "6278a93b60ac4fe1895a3cffbbdd79d6": {
      "model_module": "@jupyter-widgets/controls",
      "model_module_version": "2.0.0",
      "model_name": "HTMLModel",
      "state": {
       "_dom_classes": [],
       "_model_module": "@jupyter-widgets/controls",
       "_model_module_version": "2.0.0",
       "_model_name": "HTMLModel",
       "_view_count": null,
       "_view_module": "@jupyter-widgets/controls",
       "_view_module_version": "2.0.0",
       "_view_name": "HTMLView",
       "description": "",
       "description_allow_html": false,
       "layout": "IPY_MODEL_ec475f13957f4713aa34ff35fbd3f733",
       "placeholder": "​",
       "style": "IPY_MODEL_d2788c89abbf473880a8daa364afa273",
       "tabbable": null,
       "tooltip": null,
       "value": "vocab.json: "
      }
     },
     "6553a0a0f2b7448c8944b5672f9dbc9f": {
      "model_module": "@jupyter-widgets/controls",
      "model_module_version": "2.0.0",
      "model_name": "HTMLModel",
      "state": {
       "_dom_classes": [],
       "_model_module": "@jupyter-widgets/controls",
       "_model_module_version": "2.0.0",
       "_model_name": "HTMLModel",
       "_view_count": null,
       "_view_module": "@jupyter-widgets/controls",
       "_view_module_version": "2.0.0",
       "_view_name": "HTMLView",
       "description": "",
       "description_allow_html": false,
       "layout": "IPY_MODEL_78e3e8832f7f41b88e7437029adfaa3d",
       "placeholder": "​",
       "style": "IPY_MODEL_7b92ef0ff98745a48780b74a80f88a63",
       "tabbable": null,
       "tooltip": null,
       "value": " 238/238 [00:00&lt;00:00, 34.9kB/s]"
      }
     },
     "65ed29b3dde54119ab0797da6617c828": {
      "model_module": "@jupyter-widgets/base",
      "model_module_version": "2.0.0",
      "model_name": "LayoutModel",
      "state": {
       "_model_module": "@jupyter-widgets/base",
       "_model_module_version": "2.0.0",
       "_model_name": "LayoutModel",
       "_view_count": null,
       "_view_module": "@jupyter-widgets/base",
       "_view_module_version": "2.0.0",
       "_view_name": "LayoutView",
       "align_content": null,
       "align_items": null,
       "align_self": null,
       "border_bottom": null,
       "border_left": null,
       "border_right": null,
       "border_top": null,
       "bottom": null,
       "display": null,
       "flex": null,
       "flex_flow": null,
       "grid_area": null,
       "grid_auto_columns": null,
       "grid_auto_flow": null,
       "grid_auto_rows": null,
       "grid_column": null,
       "grid_gap": null,
       "grid_row": null,
       "grid_template_areas": null,
       "grid_template_columns": null,
       "grid_template_rows": null,
       "height": null,
       "justify_content": null,
       "justify_items": null,
       "left": null,
       "margin": null,
       "max_height": null,
       "max_width": null,
       "min_height": null,
       "min_width": null,
       "object_fit": null,
       "object_position": null,
       "order": null,
       "overflow": null,
       "padding": null,
       "right": null,
       "top": null,
       "visibility": null,
       "width": null
      }
     },
     "6970b9cb5c5e40ba8222ff09486f6497": {
      "model_module": "@jupyter-widgets/base",
      "model_module_version": "2.0.0",
      "model_name": "LayoutModel",
      "state": {
       "_model_module": "@jupyter-widgets/base",
       "_model_module_version": "2.0.0",
       "_model_name": "LayoutModel",
       "_view_count": null,
       "_view_module": "@jupyter-widgets/base",
       "_view_module_version": "2.0.0",
       "_view_name": "LayoutView",
       "align_content": null,
       "align_items": null,
       "align_self": null,
       "border_bottom": null,
       "border_left": null,
       "border_right": null,
       "border_top": null,
       "bottom": null,
       "display": null,
       "flex": null,
       "flex_flow": null,
       "grid_area": null,
       "grid_auto_columns": null,
       "grid_auto_flow": null,
       "grid_auto_rows": null,
       "grid_column": null,
       "grid_gap": null,
       "grid_row": null,
       "grid_template_areas": null,
       "grid_template_columns": null,
       "grid_template_rows": null,
       "height": null,
       "justify_content": null,
       "justify_items": null,
       "left": null,
       "margin": null,
       "max_height": null,
       "max_width": null,
       "min_height": null,
       "min_width": null,
       "object_fit": null,
       "object_position": null,
       "order": null,
       "overflow": null,
       "padding": null,
       "right": null,
       "top": null,
       "visibility": null,
       "width": "20px"
      }
     },
     "6a30247b65314aa8b053d9b39c61b2b5": {
      "model_module": "@jupyter-widgets/controls",
      "model_module_version": "2.0.0",
      "model_name": "HTMLModel",
      "state": {
       "_dom_classes": [],
       "_model_module": "@jupyter-widgets/controls",
       "_model_module_version": "2.0.0",
       "_model_name": "HTMLModel",
       "_view_count": null,
       "_view_module": "@jupyter-widgets/controls",
       "_view_module_version": "2.0.0",
       "_view_name": "HTMLView",
       "description": "",
       "description_allow_html": false,
       "layout": "IPY_MODEL_70cf41edb7e44810896adcd3615b15ca",
       "placeholder": "​",
       "style": "IPY_MODEL_147659d032224ffa889021dbe8f384ed",
       "tabbable": null,
       "tooltip": null,
       "value": "generation_config.json: 100%"
      }
     },
     "6c2332696b264ac1a5b4afb9dd6e85e8": {
      "model_module": "@jupyter-widgets/controls",
      "model_module_version": "2.0.0",
      "model_name": "HBoxModel",
      "state": {
       "_dom_classes": [],
       "_model_module": "@jupyter-widgets/controls",
       "_model_module_version": "2.0.0",
       "_model_name": "HBoxModel",
       "_view_count": null,
       "_view_module": "@jupyter-widgets/controls",
       "_view_module_version": "2.0.0",
       "_view_name": "HBoxView",
       "box_style": "",
       "children": [
        "IPY_MODEL_5ee562fb1e444699ab5d59c44fc82279",
        "IPY_MODEL_61f8b025847544a6aa33a2145005c626",
        "IPY_MODEL_5642390eaafc4f4985ad7e3f3dbdd2fa"
       ],
       "layout": "IPY_MODEL_353c5283b15544c7b2ae9367f33d2da7",
       "tabbable": null,
       "tooltip": null
      }
     },
     "6e72da6af7eb45fdb18247207f40abf5": {
      "model_module": "@jupyter-widgets/controls",
      "model_module_version": "2.0.0",
      "model_name": "FloatProgressModel",
      "state": {
       "_dom_classes": [],
       "_model_module": "@jupyter-widgets/controls",
       "_model_module_version": "2.0.0",
       "_model_name": "FloatProgressModel",
       "_view_count": null,
       "_view_module": "@jupyter-widgets/controls",
       "_view_module_version": "2.0.0",
       "_view_name": "ProgressView",
       "bar_style": "success",
       "description": "",
       "description_allow_html": false,
       "layout": "IPY_MODEL_5e634e631c804e4eaf7963b09297bc30",
       "max": 99630640,
       "min": 0,
       "orientation": "horizontal",
       "style": "IPY_MODEL_9b335e9c37ac4d6b8fdcb58c89fd05c3",
       "tabbable": null,
       "tooltip": null,
       "value": 99630640
      }
     },
     "7041dd12f72a4f66b66bbc942b24708e": {
      "model_module": "@jupyter-widgets/controls",
      "model_module_version": "2.0.0",
      "model_name": "FloatProgressModel",
      "state": {
       "_dom_classes": [],
       "_model_module": "@jupyter-widgets/controls",
       "_model_module_version": "2.0.0",
       "_model_name": "FloatProgressModel",
       "_view_count": null,
       "_view_module": "@jupyter-widgets/controls",
       "_view_module_version": "2.0.0",
       "_view_name": "ProgressView",
       "bar_style": "success",
       "description": "",
       "description_allow_html": false,
       "layout": "IPY_MODEL_23d24267087f4510896216822f080577",
       "max": 1,
       "min": 0,
       "orientation": "horizontal",
       "style": "IPY_MODEL_148f6b4f824d4fe6968c2d0d8bef7da2",
       "tabbable": null,
       "tooltip": null,
       "value": 1
      }
     },
     "705d2a946d924be1b4babf2f08905c34": {
      "model_module": "@jupyter-widgets/controls",
      "model_module_version": "2.0.0",
      "model_name": "HTMLStyleModel",
      "state": {
       "_model_module": "@jupyter-widgets/controls",
       "_model_module_version": "2.0.0",
       "_model_name": "HTMLStyleModel",
       "_view_count": null,
       "_view_module": "@jupyter-widgets/base",
       "_view_module_version": "2.0.0",
       "_view_name": "StyleView",
       "background": null,
       "description_width": "",
       "font_size": null,
       "text_color": null
      }
     },
     "70cf41edb7e44810896adcd3615b15ca": {
      "model_module": "@jupyter-widgets/base",
      "model_module_version": "2.0.0",
      "model_name": "LayoutModel",
      "state": {
       "_model_module": "@jupyter-widgets/base",
       "_model_module_version": "2.0.0",
       "_model_name": "LayoutModel",
       "_view_count": null,
       "_view_module": "@jupyter-widgets/base",
       "_view_module_version": "2.0.0",
       "_view_name": "LayoutView",
       "align_content": null,
       "align_items": null,
       "align_self": null,
       "border_bottom": null,
       "border_left": null,
       "border_right": null,
       "border_top": null,
       "bottom": null,
       "display": null,
       "flex": null,
       "flex_flow": null,
       "grid_area": null,
       "grid_auto_columns": null,
       "grid_auto_flow": null,
       "grid_auto_rows": null,
       "grid_column": null,
       "grid_gap": null,
       "grid_row": null,
       "grid_template_areas": null,
       "grid_template_columns": null,
       "grid_template_rows": null,
       "height": null,
       "justify_content": null,
       "justify_items": null,
       "left": null,
       "margin": null,
       "max_height": null,
       "max_width": null,
       "min_height": null,
       "min_width": null,
       "object_fit": null,
       "object_position": null,
       "order": null,
       "overflow": null,
       "padding": null,
       "right": null,
       "top": null,
       "visibility": null,
       "width": null
      }
     },
     "713ee39d62b049669c975b4465cb09f7": {
      "model_module": "@jupyter-widgets/controls",
      "model_module_version": "2.0.0",
      "model_name": "HBoxModel",
      "state": {
       "_dom_classes": [],
       "_model_module": "@jupyter-widgets/controls",
       "_model_module_version": "2.0.0",
       "_model_name": "HBoxModel",
       "_view_count": null,
       "_view_module": "@jupyter-widgets/controls",
       "_view_module_version": "2.0.0",
       "_view_name": "HBoxView",
       "box_style": "",
       "children": [
        "IPY_MODEL_b1f7c47b261e43469bcac5fb43e1bbfa",
        "IPY_MODEL_394facf6b7234035b8b91248cc8094c3",
        "IPY_MODEL_27417492b6a44a40999521de05e92fc5"
       ],
       "layout": "IPY_MODEL_8e5a114482524b09a8d5eec829ec2b27",
       "tabbable": null,
       "tooltip": null
      }
     },
     "72da2ddc4fe04bd0be0dfbbdd4a59344": {
      "model_module": "@jupyter-widgets/base",
      "model_module_version": "2.0.0",
      "model_name": "LayoutModel",
      "state": {
       "_model_module": "@jupyter-widgets/base",
       "_model_module_version": "2.0.0",
       "_model_name": "LayoutModel",
       "_view_count": null,
       "_view_module": "@jupyter-widgets/base",
       "_view_module_version": "2.0.0",
       "_view_name": "LayoutView",
       "align_content": null,
       "align_items": null,
       "align_self": null,
       "border_bottom": null,
       "border_left": null,
       "border_right": null,
       "border_top": null,
       "bottom": null,
       "display": null,
       "flex": null,
       "flex_flow": null,
       "grid_area": null,
       "grid_auto_columns": null,
       "grid_auto_flow": null,
       "grid_auto_rows": null,
       "grid_column": null,
       "grid_gap": null,
       "grid_row": null,
       "grid_template_areas": null,
       "grid_template_columns": null,
       "grid_template_rows": null,
       "height": null,
       "justify_content": null,
       "justify_items": null,
       "left": null,
       "margin": null,
       "max_height": null,
       "max_width": null,
       "min_height": null,
       "min_width": null,
       "object_fit": null,
       "object_position": null,
       "order": null,
       "overflow": null,
       "padding": null,
       "right": null,
       "top": null,
       "visibility": null,
       "width": null
      }
     },
     "7391d16f15c04bdea3f1b16234250970": {
      "model_module": "@jupyter-widgets/base",
      "model_module_version": "2.0.0",
      "model_name": "LayoutModel",
      "state": {
       "_model_module": "@jupyter-widgets/base",
       "_model_module_version": "2.0.0",
       "_model_name": "LayoutModel",
       "_view_count": null,
       "_view_module": "@jupyter-widgets/base",
       "_view_module_version": "2.0.0",
       "_view_name": "LayoutView",
       "align_content": null,
       "align_items": null,
       "align_self": null,
       "border_bottom": null,
       "border_left": null,
       "border_right": null,
       "border_top": null,
       "bottom": null,
       "display": null,
       "flex": null,
       "flex_flow": null,
       "grid_area": null,
       "grid_auto_columns": null,
       "grid_auto_flow": null,
       "grid_auto_rows": null,
       "grid_column": null,
       "grid_gap": null,
       "grid_row": null,
       "grid_template_areas": null,
       "grid_template_columns": null,
       "grid_template_rows": null,
       "height": null,
       "justify_content": null,
       "justify_items": null,
       "left": null,
       "margin": null,
       "max_height": null,
       "max_width": null,
       "min_height": null,
       "min_width": null,
       "object_fit": null,
       "object_position": null,
       "order": null,
       "overflow": null,
       "padding": null,
       "right": null,
       "top": null,
       "visibility": null,
       "width": null
      }
     },
     "741aaa718cac40f68203e3976f413bea": {
      "model_module": "@jupyter-widgets/base",
      "model_module_version": "2.0.0",
      "model_name": "LayoutModel",
      "state": {
       "_model_module": "@jupyter-widgets/base",
       "_model_module_version": "2.0.0",
       "_model_name": "LayoutModel",
       "_view_count": null,
       "_view_module": "@jupyter-widgets/base",
       "_view_module_version": "2.0.0",
       "_view_name": "LayoutView",
       "align_content": null,
       "align_items": null,
       "align_self": null,
       "border_bottom": null,
       "border_left": null,
       "border_right": null,
       "border_top": null,
       "bottom": null,
       "display": null,
       "flex": null,
       "flex_flow": null,
       "grid_area": null,
       "grid_auto_columns": null,
       "grid_auto_flow": null,
       "grid_auto_rows": null,
       "grid_column": null,
       "grid_gap": null,
       "grid_row": null,
       "grid_template_areas": null,
       "grid_template_columns": null,
       "grid_template_rows": null,
       "height": null,
       "justify_content": null,
       "justify_items": null,
       "left": null,
       "margin": null,
       "max_height": null,
       "max_width": null,
       "min_height": null,
       "min_width": null,
       "object_fit": null,
       "object_position": null,
       "order": null,
       "overflow": null,
       "padding": null,
       "right": null,
       "top": null,
       "visibility": null,
       "width": null
      }
     },
     "78e3e8832f7f41b88e7437029adfaa3d": {
      "model_module": "@jupyter-widgets/base",
      "model_module_version": "2.0.0",
      "model_name": "LayoutModel",
      "state": {
       "_model_module": "@jupyter-widgets/base",
       "_model_module_version": "2.0.0",
       "_model_name": "LayoutModel",
       "_view_count": null,
       "_view_module": "@jupyter-widgets/base",
       "_view_module_version": "2.0.0",
       "_view_name": "LayoutView",
       "align_content": null,
       "align_items": null,
       "align_self": null,
       "border_bottom": null,
       "border_left": null,
       "border_right": null,
       "border_top": null,
       "bottom": null,
       "display": null,
       "flex": null,
       "flex_flow": null,
       "grid_area": null,
       "grid_auto_columns": null,
       "grid_auto_flow": null,
       "grid_auto_rows": null,
       "grid_column": null,
       "grid_gap": null,
       "grid_row": null,
       "grid_template_areas": null,
       "grid_template_columns": null,
       "grid_template_rows": null,
       "height": null,
       "justify_content": null,
       "justify_items": null,
       "left": null,
       "margin": null,
       "max_height": null,
       "max_width": null,
       "min_height": null,
       "min_width": null,
       "object_fit": null,
       "object_position": null,
       "order": null,
       "overflow": null,
       "padding": null,
       "right": null,
       "top": null,
       "visibility": null,
       "width": null
      }
     },
     "7a3bc89c851945cfa67b2f29e6b54b1c": {
      "model_module": "@jupyter-widgets/base",
      "model_module_version": "2.0.0",
      "model_name": "LayoutModel",
      "state": {
       "_model_module": "@jupyter-widgets/base",
       "_model_module_version": "2.0.0",
       "_model_name": "LayoutModel",
       "_view_count": null,
       "_view_module": "@jupyter-widgets/base",
       "_view_module_version": "2.0.0",
       "_view_name": "LayoutView",
       "align_content": null,
       "align_items": null,
       "align_self": null,
       "border_bottom": null,
       "border_left": null,
       "border_right": null,
       "border_top": null,
       "bottom": null,
       "display": null,
       "flex": null,
       "flex_flow": null,
       "grid_area": null,
       "grid_auto_columns": null,
       "grid_auto_flow": null,
       "grid_auto_rows": null,
       "grid_column": null,
       "grid_gap": null,
       "grid_row": null,
       "grid_template_areas": null,
       "grid_template_columns": null,
       "grid_template_rows": null,
       "height": null,
       "justify_content": null,
       "justify_items": null,
       "left": null,
       "margin": null,
       "max_height": null,
       "max_width": null,
       "min_height": null,
       "min_width": null,
       "object_fit": null,
       "object_position": null,
       "order": null,
       "overflow": null,
       "padding": null,
       "right": null,
       "top": null,
       "visibility": null,
       "width": null
      }
     },
     "7b92ef0ff98745a48780b74a80f88a63": {
      "model_module": "@jupyter-widgets/controls",
      "model_module_version": "2.0.0",
      "model_name": "HTMLStyleModel",
      "state": {
       "_model_module": "@jupyter-widgets/controls",
       "_model_module_version": "2.0.0",
       "_model_name": "HTMLStyleModel",
       "_view_count": null,
       "_view_module": "@jupyter-widgets/base",
       "_view_module_version": "2.0.0",
       "_view_name": "StyleView",
       "background": null,
       "description_width": "",
       "font_size": null,
       "text_color": null
      }
     },
     "7c71b8c25dbe4239b2516e18b4557f57": {
      "model_module": "@jupyter-widgets/controls",
      "model_module_version": "2.0.0",
      "model_name": "HBoxModel",
      "state": {
       "_dom_classes": [],
       "_model_module": "@jupyter-widgets/controls",
       "_model_module_version": "2.0.0",
       "_model_name": "HBoxModel",
       "_view_count": null,
       "_view_module": "@jupyter-widgets/controls",
       "_view_module_version": "2.0.0",
       "_view_name": "HBoxView",
       "box_style": "",
       "children": [
        "IPY_MODEL_4fb44ded30da4cc4aa77ce6c1b659aa8",
        "IPY_MODEL_4378a5b9ee944d8ea0fc88404fe7b763",
        "IPY_MODEL_9eb3067e7ce7474d8a59d37148521931"
       ],
       "layout": "IPY_MODEL_e70193317dc3408a8f3c5f07110297f6",
       "tabbable": null,
       "tooltip": null
      }
     },
     "7e2617273d384ec19134918e6cc5f250": {
      "model_module": "@jupyter-widgets/controls",
      "model_module_version": "2.0.0",
      "model_name": "ProgressStyleModel",
      "state": {
       "_model_module": "@jupyter-widgets/controls",
       "_model_module_version": "2.0.0",
       "_model_name": "ProgressStyleModel",
       "_view_count": null,
       "_view_module": "@jupyter-widgets/base",
       "_view_module_version": "2.0.0",
       "_view_name": "StyleView",
       "bar_color": null,
       "description_width": ""
      }
     },
     "80faffd4136c4605abc1d2afeb39ad7b": {
      "model_module": "@jupyter-widgets/controls",
      "model_module_version": "2.0.0",
      "model_name": "HTMLModel",
      "state": {
       "_dom_classes": [],
       "_model_module": "@jupyter-widgets/controls",
       "_model_module_version": "2.0.0",
       "_model_name": "HTMLModel",
       "_view_count": null,
       "_view_module": "@jupyter-widgets/controls",
       "_view_module_version": "2.0.0",
       "_view_name": "HTMLView",
       "description": "",
       "description_allow_html": false,
       "layout": "IPY_MODEL_bdbb5adbe27f43bea53e220f22485791",
       "placeholder": "​",
       "style": "IPY_MODEL_1d0cafd736f74942a781fce86c76bfd9",
       "tabbable": null,
       "tooltip": null,
       "value": "config.json: 100%"
      }
     },
     "83b5e0a8c8d94260961cfb688c800b49": {
      "model_module": "@jupyter-widgets/controls",
      "model_module_version": "2.0.0",
      "model_name": "HTMLModel",
      "state": {
       "_dom_classes": [],
       "_model_module": "@jupyter-widgets/controls",
       "_model_module_version": "2.0.0",
       "_model_name": "HTMLModel",
       "_view_count": null,
       "_view_module": "@jupyter-widgets/controls",
       "_view_module_version": "2.0.0",
       "_view_name": "HTMLView",
       "description": "",
       "description_allow_html": false,
       "layout": "IPY_MODEL_741aaa718cac40f68203e3976f413bea",
       "placeholder": "​",
       "style": "IPY_MODEL_5b7679b48f624dfe9d3cb72775fe21d4",
       "tabbable": null,
       "tooltip": null,
       "value": "tokenizer_config.json: "
      }
     },
     "84771f78f0ba463581655a97186ae43a": {
      "model_module": "@jupyter-widgets/controls",
      "model_module_version": "2.0.0",
      "model_name": "HTMLModel",
      "state": {
       "_dom_classes": [],
       "_model_module": "@jupyter-widgets/controls",
       "_model_module_version": "2.0.0",
       "_model_name": "HTMLModel",
       "_view_count": null,
       "_view_module": "@jupyter-widgets/controls",
       "_view_module_version": "2.0.0",
       "_view_name": "HTMLView",
       "description": "",
       "description_allow_html": false,
       "layout": "IPY_MODEL_ac6656f442fa499b9a8691b27e0e4d02",
       "placeholder": "​",
       "style": "IPY_MODEL_705d2a946d924be1b4babf2f08905c34",
       "tabbable": null,
       "tooltip": null,
       "value": "model-00003-of-00003.safetensors: 100%"
      }
     },
     "8698daa408c9426d9f620c69c39780b0": {
      "model_module": "@jupyter-widgets/controls",
      "model_module_version": "2.0.0",
      "model_name": "HTMLStyleModel",
      "state": {
       "_model_module": "@jupyter-widgets/controls",
       "_model_module_version": "2.0.0",
       "_model_name": "HTMLStyleModel",
       "_view_count": null,
       "_view_module": "@jupyter-widgets/base",
       "_view_module_version": "2.0.0",
       "_view_name": "StyleView",
       "background": null,
       "description_width": "",
       "font_size": null,
       "text_color": null
      }
     },
     "881e430ffdfa4013ba87b2db480100a0": {
      "model_module": "@jupyter-widgets/base",
      "model_module_version": "2.0.0",
      "model_name": "LayoutModel",
      "state": {
       "_model_module": "@jupyter-widgets/base",
       "_model_module_version": "2.0.0",
       "_model_name": "LayoutModel",
       "_view_count": null,
       "_view_module": "@jupyter-widgets/base",
       "_view_module_version": "2.0.0",
       "_view_name": "LayoutView",
       "align_content": null,
       "align_items": null,
       "align_self": null,
       "border_bottom": null,
       "border_left": null,
       "border_right": null,
       "border_top": null,
       "bottom": null,
       "display": null,
       "flex": null,
       "flex_flow": null,
       "grid_area": null,
       "grid_auto_columns": null,
       "grid_auto_flow": null,
       "grid_auto_rows": null,
       "grid_column": null,
       "grid_gap": null,
       "grid_row": null,
       "grid_template_areas": null,
       "grid_template_columns": null,
       "grid_template_rows": null,
       "height": null,
       "justify_content": null,
       "justify_items": null,
       "left": null,
       "margin": null,
       "max_height": null,
       "max_width": null,
       "min_height": null,
       "min_width": null,
       "object_fit": null,
       "object_position": null,
       "order": null,
       "overflow": null,
       "padding": null,
       "right": null,
       "top": null,
       "visibility": null,
       "width": null
      }
     },
     "88a43b74fc3244b197797d4a535f0f72": {
      "model_module": "@jupyter-widgets/base",
      "model_module_version": "2.0.0",
      "model_name": "LayoutModel",
      "state": {
       "_model_module": "@jupyter-widgets/base",
       "_model_module_version": "2.0.0",
       "_model_name": "LayoutModel",
       "_view_count": null,
       "_view_module": "@jupyter-widgets/base",
       "_view_module_version": "2.0.0",
       "_view_name": "LayoutView",
       "align_content": null,
       "align_items": null,
       "align_self": null,
       "border_bottom": null,
       "border_left": null,
       "border_right": null,
       "border_top": null,
       "bottom": null,
       "display": null,
       "flex": null,
       "flex_flow": null,
       "grid_area": null,
       "grid_auto_columns": null,
       "grid_auto_flow": null,
       "grid_auto_rows": null,
       "grid_column": null,
       "grid_gap": null,
       "grid_row": null,
       "grid_template_areas": null,
       "grid_template_columns": null,
       "grid_template_rows": null,
       "height": null,
       "justify_content": null,
       "justify_items": null,
       "left": null,
       "margin": null,
       "max_height": null,
       "max_width": null,
       "min_height": null,
       "min_width": null,
       "object_fit": null,
       "object_position": null,
       "order": null,
       "overflow": null,
       "padding": null,
       "right": null,
       "top": null,
       "visibility": null,
       "width": null
      }
     },
     "8e1991da8964450aa848c1ca19221bee": {
      "model_module": "@jupyter-widgets/base",
      "model_module_version": "2.0.0",
      "model_name": "LayoutModel",
      "state": {
       "_model_module": "@jupyter-widgets/base",
       "_model_module_version": "2.0.0",
       "_model_name": "LayoutModel",
       "_view_count": null,
       "_view_module": "@jupyter-widgets/base",
       "_view_module_version": "2.0.0",
       "_view_name": "LayoutView",
       "align_content": null,
       "align_items": null,
       "align_self": null,
       "border_bottom": null,
       "border_left": null,
       "border_right": null,
       "border_top": null,
       "bottom": null,
       "display": null,
       "flex": null,
       "flex_flow": null,
       "grid_area": null,
       "grid_auto_columns": null,
       "grid_auto_flow": null,
       "grid_auto_rows": null,
       "grid_column": null,
       "grid_gap": null,
       "grid_row": null,
       "grid_template_areas": null,
       "grid_template_columns": null,
       "grid_template_rows": null,
       "height": null,
       "justify_content": null,
       "justify_items": null,
       "left": null,
       "margin": null,
       "max_height": null,
       "max_width": null,
       "min_height": null,
       "min_width": null,
       "object_fit": null,
       "object_position": null,
       "order": null,
       "overflow": null,
       "padding": null,
       "right": null,
       "top": null,
       "visibility": null,
       "width": null
      }
     },
     "8e5a114482524b09a8d5eec829ec2b27": {
      "model_module": "@jupyter-widgets/base",
      "model_module_version": "2.0.0",
      "model_name": "LayoutModel",
      "state": {
       "_model_module": "@jupyter-widgets/base",
       "_model_module_version": "2.0.0",
       "_model_name": "LayoutModel",
       "_view_count": null,
       "_view_module": "@jupyter-widgets/base",
       "_view_module_version": "2.0.0",
       "_view_name": "LayoutView",
       "align_content": null,
       "align_items": null,
       "align_self": null,
       "border_bottom": null,
       "border_left": null,
       "border_right": null,
       "border_top": null,
       "bottom": null,
       "display": null,
       "flex": null,
       "flex_flow": null,
       "grid_area": null,
       "grid_auto_columns": null,
       "grid_auto_flow": null,
       "grid_auto_rows": null,
       "grid_column": null,
       "grid_gap": null,
       "grid_row": null,
       "grid_template_areas": null,
       "grid_template_columns": null,
       "grid_template_rows": null,
       "height": null,
       "justify_content": null,
       "justify_items": null,
       "left": null,
       "margin": null,
       "max_height": null,
       "max_width": null,
       "min_height": null,
       "min_width": null,
       "object_fit": null,
       "object_position": null,
       "order": null,
       "overflow": null,
       "padding": null,
       "right": null,
       "top": null,
       "visibility": null,
       "width": null
      }
     },
     "902902a168294e09a8e5ebfab454bc4d": {
      "model_module": "@jupyter-widgets/controls",
      "model_module_version": "2.0.0",
      "model_name": "ProgressStyleModel",
      "state": {
       "_model_module": "@jupyter-widgets/controls",
       "_model_module_version": "2.0.0",
       "_model_name": "ProgressStyleModel",
       "_view_count": null,
       "_view_module": "@jupyter-widgets/base",
       "_view_module_version": "2.0.0",
       "_view_name": "StyleView",
       "bar_color": null,
       "description_width": ""
      }
     },
     "90e4e7ded3434e2ab57fec6e0fec300d": {
      "model_module": "@jupyter-widgets/base",
      "model_module_version": "2.0.0",
      "model_name": "LayoutModel",
      "state": {
       "_model_module": "@jupyter-widgets/base",
       "_model_module_version": "2.0.0",
       "_model_name": "LayoutModel",
       "_view_count": null,
       "_view_module": "@jupyter-widgets/base",
       "_view_module_version": "2.0.0",
       "_view_name": "LayoutView",
       "align_content": null,
       "align_items": null,
       "align_self": null,
       "border_bottom": null,
       "border_left": null,
       "border_right": null,
       "border_top": null,
       "bottom": null,
       "display": null,
       "flex": null,
       "flex_flow": null,
       "grid_area": null,
       "grid_auto_columns": null,
       "grid_auto_flow": null,
       "grid_auto_rows": null,
       "grid_column": null,
       "grid_gap": null,
       "grid_row": null,
       "grid_template_areas": null,
       "grid_template_columns": null,
       "grid_template_rows": null,
       "height": null,
       "justify_content": null,
       "justify_items": null,
       "left": null,
       "margin": null,
       "max_height": null,
       "max_width": null,
       "min_height": null,
       "min_width": null,
       "object_fit": null,
       "object_position": null,
       "order": null,
       "overflow": null,
       "padding": null,
       "right": null,
       "top": null,
       "visibility": null,
       "width": null
      }
     },
     "9279af31dcb0429a93a9a31fdd03512a": {
      "model_module": "@jupyter-widgets/base",
      "model_module_version": "2.0.0",
      "model_name": "LayoutModel",
      "state": {
       "_model_module": "@jupyter-widgets/base",
       "_model_module_version": "2.0.0",
       "_model_name": "LayoutModel",
       "_view_count": null,
       "_view_module": "@jupyter-widgets/base",
       "_view_module_version": "2.0.0",
       "_view_name": "LayoutView",
       "align_content": null,
       "align_items": null,
       "align_self": null,
       "border_bottom": null,
       "border_left": null,
       "border_right": null,
       "border_top": null,
       "bottom": null,
       "display": null,
       "flex": null,
       "flex_flow": null,
       "grid_area": null,
       "grid_auto_columns": null,
       "grid_auto_flow": null,
       "grid_auto_rows": null,
       "grid_column": null,
       "grid_gap": null,
       "grid_row": null,
       "grid_template_areas": null,
       "grid_template_columns": null,
       "grid_template_rows": null,
       "height": null,
       "justify_content": null,
       "justify_items": null,
       "left": null,
       "margin": null,
       "max_height": null,
       "max_width": null,
       "min_height": null,
       "min_width": null,
       "object_fit": null,
       "object_position": null,
       "order": null,
       "overflow": null,
       "padding": null,
       "right": null,
       "top": null,
       "visibility": null,
       "width": null
      }
     },
     "928b5611c6874f25ad040b76daec0474": {
      "model_module": "@jupyter-widgets/base",
      "model_module_version": "2.0.0",
      "model_name": "LayoutModel",
      "state": {
       "_model_module": "@jupyter-widgets/base",
       "_model_module_version": "2.0.0",
       "_model_name": "LayoutModel",
       "_view_count": null,
       "_view_module": "@jupyter-widgets/base",
       "_view_module_version": "2.0.0",
       "_view_name": "LayoutView",
       "align_content": null,
       "align_items": null,
       "align_self": null,
       "border_bottom": null,
       "border_left": null,
       "border_right": null,
       "border_top": null,
       "bottom": null,
       "display": null,
       "flex": null,
       "flex_flow": null,
       "grid_area": null,
       "grid_auto_columns": null,
       "grid_auto_flow": null,
       "grid_auto_rows": null,
       "grid_column": null,
       "grid_gap": null,
       "grid_row": null,
       "grid_template_areas": null,
       "grid_template_columns": null,
       "grid_template_rows": null,
       "height": null,
       "justify_content": null,
       "justify_items": null,
       "left": null,
       "margin": null,
       "max_height": null,
       "max_width": null,
       "min_height": null,
       "min_width": null,
       "object_fit": null,
       "object_position": null,
       "order": null,
       "overflow": null,
       "padding": null,
       "right": null,
       "top": null,
       "visibility": null,
       "width": null
      }
     },
     "95d998251baa4e738713349dbc8887ab": {
      "model_module": "@jupyter-widgets/controls",
      "model_module_version": "2.0.0",
      "model_name": "FloatProgressModel",
      "state": {
       "_dom_classes": [],
       "_model_module": "@jupyter-widgets/controls",
       "_model_module_version": "2.0.0",
       "_model_name": "FloatProgressModel",
       "_view_count": null,
       "_view_module": "@jupyter-widgets/controls",
       "_view_module_version": "2.0.0",
       "_view_name": "ProgressView",
       "bar_style": "success",
       "description": "",
       "description_allow_html": false,
       "layout": "IPY_MODEL_469ef26a6bab4c858a6143ccc8f8decf",
       "max": 11422654,
       "min": 0,
       "orientation": "horizontal",
       "style": "IPY_MODEL_0ae810799acd41b58f034601531d39a0",
       "tabbable": null,
       "tooltip": null,
       "value": 11422654
      }
     },
     "96a73e8374ff4843a71ef2094a95fec3": {
      "model_module": "@jupyter-widgets/controls",
      "model_module_version": "2.0.0",
      "model_name": "HTMLStyleModel",
      "state": {
       "_model_module": "@jupyter-widgets/controls",
       "_model_module_version": "2.0.0",
       "_model_name": "HTMLStyleModel",
       "_view_count": null,
       "_view_module": "@jupyter-widgets/base",
       "_view_module_version": "2.0.0",
       "_view_name": "StyleView",
       "background": null,
       "description_width": "",
       "font_size": null,
       "text_color": null
      }
     },
     "99423b39c22e462ab6040defab92c782": {
      "model_module": "@jupyter-widgets/controls",
      "model_module_version": "2.0.0",
      "model_name": "HTMLStyleModel",
      "state": {
       "_model_module": "@jupyter-widgets/controls",
       "_model_module_version": "2.0.0",
       "_model_name": "HTMLStyleModel",
       "_view_count": null,
       "_view_module": "@jupyter-widgets/base",
       "_view_module_version": "2.0.0",
       "_view_name": "StyleView",
       "background": null,
       "description_width": "",
       "font_size": null,
       "text_color": null
      }
     },
     "9a365fb3896c41c8ba38c39161bf9242": {
      "model_module": "@jupyter-widgets/controls",
      "model_module_version": "2.0.0",
      "model_name": "ProgressStyleModel",
      "state": {
       "_model_module": "@jupyter-widgets/controls",
       "_model_module_version": "2.0.0",
       "_model_name": "ProgressStyleModel",
       "_view_count": null,
       "_view_module": "@jupyter-widgets/base",
       "_view_module_version": "2.0.0",
       "_view_name": "StyleView",
       "bar_color": null,
       "description_width": ""
      }
     },
     "9b335e9c37ac4d6b8fdcb58c89fd05c3": {
      "model_module": "@jupyter-widgets/controls",
      "model_module_version": "2.0.0",
      "model_name": "ProgressStyleModel",
      "state": {
       "_model_module": "@jupyter-widgets/controls",
       "_model_module_version": "2.0.0",
       "_model_name": "ProgressStyleModel",
       "_view_count": null,
       "_view_module": "@jupyter-widgets/base",
       "_view_module_version": "2.0.0",
       "_view_name": "StyleView",
       "bar_color": null,
       "description_width": ""
      }
     },
     "9daeef95e5a941a6a030cfcaa8444092": {
      "model_module": "@jupyter-widgets/base",
      "model_module_version": "2.0.0",
      "model_name": "LayoutModel",
      "state": {
       "_model_module": "@jupyter-widgets/base",
       "_model_module_version": "2.0.0",
       "_model_name": "LayoutModel",
       "_view_count": null,
       "_view_module": "@jupyter-widgets/base",
       "_view_module_version": "2.0.0",
       "_view_name": "LayoutView",
       "align_content": null,
       "align_items": null,
       "align_self": null,
       "border_bottom": null,
       "border_left": null,
       "border_right": null,
       "border_top": null,
       "bottom": null,
       "display": null,
       "flex": null,
       "flex_flow": null,
       "grid_area": null,
       "grid_auto_columns": null,
       "grid_auto_flow": null,
       "grid_auto_rows": null,
       "grid_column": null,
       "grid_gap": null,
       "grid_row": null,
       "grid_template_areas": null,
       "grid_template_columns": null,
       "grid_template_rows": null,
       "height": null,
       "justify_content": null,
       "justify_items": null,
       "left": null,
       "margin": null,
       "max_height": null,
       "max_width": null,
       "min_height": null,
       "min_width": null,
       "object_fit": null,
       "object_position": null,
       "order": null,
       "overflow": null,
       "padding": null,
       "right": null,
       "top": null,
       "visibility": null,
       "width": null
      }
     },
     "9eb3067e7ce7474d8a59d37148521931": {
      "model_module": "@jupyter-widgets/controls",
      "model_module_version": "2.0.0",
      "model_name": "HTMLModel",
      "state": {
       "_dom_classes": [],
       "_model_module": "@jupyter-widgets/controls",
       "_model_module_version": "2.0.0",
       "_model_name": "HTMLModel",
       "_view_count": null,
       "_view_module": "@jupyter-widgets/controls",
       "_view_module_version": "2.0.0",
       "_view_name": "HTMLView",
       "description": "",
       "description_allow_html": false,
       "layout": "IPY_MODEL_b29e1d132172443dac66e9ef5a4fcfdb",
       "placeholder": "​",
       "style": "IPY_MODEL_d3779dce6740413ebbb973bd88ca8ac8",
       "tabbable": null,
       "tooltip": null,
       "value": " 3/3 [01:02&lt;00:00, 62.49s/it]"
      }
     },
     "9fb8968e4f65491dbad779936cfdd1cc": {
      "model_module": "@jupyter-widgets/controls",
      "model_module_version": "2.0.0",
      "model_name": "HTMLModel",
      "state": {
       "_dom_classes": [],
       "_model_module": "@jupyter-widgets/controls",
       "_model_module_version": "2.0.0",
       "_model_name": "HTMLModel",
       "_view_count": null,
       "_view_module": "@jupyter-widgets/controls",
       "_view_module_version": "2.0.0",
       "_view_name": "HTMLView",
       "description": "",
       "description_allow_html": false,
       "layout": "IPY_MODEL_88a43b74fc3244b197797d4a535f0f72",
       "placeholder": "​",
       "style": "IPY_MODEL_52bbef1a94ee46f4b847b53476254a21",
       "tabbable": null,
       "tooltip": null,
       "value": " 727/727 [00:00&lt;00:00, 68.8kB/s]"
      }
     },
     "a0bb49d0ad7742aaaee4985bec814ea3": {
      "model_module": "@jupyter-widgets/base",
      "model_module_version": "2.0.0",
      "model_name": "LayoutModel",
      "state": {
       "_model_module": "@jupyter-widgets/base",
       "_model_module_version": "2.0.0",
       "_model_name": "LayoutModel",
       "_view_count": null,
       "_view_module": "@jupyter-widgets/base",
       "_view_module_version": "2.0.0",
       "_view_name": "LayoutView",
       "align_content": null,
       "align_items": null,
       "align_self": null,
       "border_bottom": null,
       "border_left": null,
       "border_right": null,
       "border_top": null,
       "bottom": null,
       "display": null,
       "flex": null,
       "flex_flow": null,
       "grid_area": null,
       "grid_auto_columns": null,
       "grid_auto_flow": null,
       "grid_auto_rows": null,
       "grid_column": null,
       "grid_gap": null,
       "grid_row": null,
       "grid_template_areas": null,
       "grid_template_columns": null,
       "grid_template_rows": null,
       "height": null,
       "justify_content": null,
       "justify_items": null,
       "left": null,
       "margin": null,
       "max_height": null,
       "max_width": null,
       "min_height": null,
       "min_width": null,
       "object_fit": null,
       "object_position": null,
       "order": null,
       "overflow": null,
       "padding": null,
       "right": null,
       "top": null,
       "visibility": null,
       "width": null
      }
     },
     "a1fe0898f8c44013b46304a8c005f520": {
      "model_module": "@jupyter-widgets/controls",
      "model_module_version": "2.0.0",
      "model_name": "HTMLModel",
      "state": {
       "_dom_classes": [],
       "_model_module": "@jupyter-widgets/controls",
       "_model_module_version": "2.0.0",
       "_model_name": "HTMLModel",
       "_view_count": null,
       "_view_module": "@jupyter-widgets/controls",
       "_view_module_version": "2.0.0",
       "_view_name": "HTMLView",
       "description": "",
       "description_allow_html": false,
       "layout": "IPY_MODEL_4c61840facfe4307939ec1021d379541",
       "placeholder": "​",
       "style": "IPY_MODEL_29c0554f518740878f125358fe6b9f10",
       "tabbable": null,
       "tooltip": null,
       "value": "merges.txt: "
      }
     },
     "a647503be1ea4f1aa5a5fb6f12b49901": {
      "model_module": "@jupyter-widgets/base",
      "model_module_version": "2.0.0",
      "model_name": "LayoutModel",
      "state": {
       "_model_module": "@jupyter-widgets/base",
       "_model_module_version": "2.0.0",
       "_model_name": "LayoutModel",
       "_view_count": null,
       "_view_module": "@jupyter-widgets/base",
       "_view_module_version": "2.0.0",
       "_view_name": "LayoutView",
       "align_content": null,
       "align_items": null,
       "align_self": null,
       "border_bottom": null,
       "border_left": null,
       "border_right": null,
       "border_top": null,
       "bottom": null,
       "display": null,
       "flex": null,
       "flex_flow": null,
       "grid_area": null,
       "grid_auto_columns": null,
       "grid_auto_flow": null,
       "grid_auto_rows": null,
       "grid_column": null,
       "grid_gap": null,
       "grid_row": null,
       "grid_template_areas": null,
       "grid_template_columns": null,
       "grid_template_rows": null,
       "height": null,
       "justify_content": null,
       "justify_items": null,
       "left": null,
       "margin": null,
       "max_height": null,
       "max_width": null,
       "min_height": null,
       "min_width": null,
       "object_fit": null,
       "object_position": null,
       "order": null,
       "overflow": null,
       "padding": null,
       "right": null,
       "top": null,
       "visibility": null,
       "width": null
      }
     },
     "a85e94e24ff742e48ac35145d7261dbb": {
      "model_module": "@jupyter-widgets/controls",
      "model_module_version": "2.0.0",
      "model_name": "ProgressStyleModel",
      "state": {
       "_model_module": "@jupyter-widgets/controls",
       "_model_module_version": "2.0.0",
       "_model_name": "ProgressStyleModel",
       "_view_count": null,
       "_view_module": "@jupyter-widgets/base",
       "_view_module_version": "2.0.0",
       "_view_name": "StyleView",
       "bar_color": null,
       "description_width": ""
      }
     },
     "ac6656f442fa499b9a8691b27e0e4d02": {
      "model_module": "@jupyter-widgets/base",
      "model_module_version": "2.0.0",
      "model_name": "LayoutModel",
      "state": {
       "_model_module": "@jupyter-widgets/base",
       "_model_module_version": "2.0.0",
       "_model_name": "LayoutModel",
       "_view_count": null,
       "_view_module": "@jupyter-widgets/base",
       "_view_module_version": "2.0.0",
       "_view_name": "LayoutView",
       "align_content": null,
       "align_items": null,
       "align_self": null,
       "border_bottom": null,
       "border_left": null,
       "border_right": null,
       "border_top": null,
       "bottom": null,
       "display": null,
       "flex": null,
       "flex_flow": null,
       "grid_area": null,
       "grid_auto_columns": null,
       "grid_auto_flow": null,
       "grid_auto_rows": null,
       "grid_column": null,
       "grid_gap": null,
       "grid_row": null,
       "grid_template_areas": null,
       "grid_template_columns": null,
       "grid_template_rows": null,
       "height": null,
       "justify_content": null,
       "justify_items": null,
       "left": null,
       "margin": null,
       "max_height": null,
       "max_width": null,
       "min_height": null,
       "min_width": null,
       "object_fit": null,
       "object_position": null,
       "order": null,
       "overflow": null,
       "padding": null,
       "right": null,
       "top": null,
       "visibility": null,
       "width": null
      }
     },
     "b1f7c47b261e43469bcac5fb43e1bbfa": {
      "model_module": "@jupyter-widgets/controls",
      "model_module_version": "2.0.0",
      "model_name": "HTMLModel",
      "state": {
       "_dom_classes": [],
       "_model_module": "@jupyter-widgets/controls",
       "_model_module_version": "2.0.0",
       "_model_name": "HTMLModel",
       "_view_count": null,
       "_view_module": "@jupyter-widgets/controls",
       "_view_module_version": "2.0.0",
       "_view_name": "HTMLView",
       "description": "",
       "description_allow_html": false,
       "layout": "IPY_MODEL_72da2ddc4fe04bd0be0dfbbdd4a59344",
       "placeholder": "​",
       "style": "IPY_MODEL_4e5295e10e5f485daaf528786669763d",
       "tabbable": null,
       "tooltip": null,
       "value": "Loading checkpoint shards: 100%"
      }
     },
     "b29e1d132172443dac66e9ef5a4fcfdb": {
      "model_module": "@jupyter-widgets/base",
      "model_module_version": "2.0.0",
      "model_name": "LayoutModel",
      "state": {
       "_model_module": "@jupyter-widgets/base",
       "_model_module_version": "2.0.0",
       "_model_name": "LayoutModel",
       "_view_count": null,
       "_view_module": "@jupyter-widgets/base",
       "_view_module_version": "2.0.0",
       "_view_name": "LayoutView",
       "align_content": null,
       "align_items": null,
       "align_self": null,
       "border_bottom": null,
       "border_left": null,
       "border_right": null,
       "border_top": null,
       "bottom": null,
       "display": null,
       "flex": null,
       "flex_flow": null,
       "grid_area": null,
       "grid_auto_columns": null,
       "grid_auto_flow": null,
       "grid_auto_rows": null,
       "grid_column": null,
       "grid_gap": null,
       "grid_row": null,
       "grid_template_areas": null,
       "grid_template_columns": null,
       "grid_template_rows": null,
       "height": null,
       "justify_content": null,
       "justify_items": null,
       "left": null,
       "margin": null,
       "max_height": null,
       "max_width": null,
       "min_height": null,
       "min_width": null,
       "object_fit": null,
       "object_position": null,
       "order": null,
       "overflow": null,
       "padding": null,
       "right": null,
       "top": null,
       "visibility": null,
       "width": null
      }
     },
     "b4d70183cddf4d41b3d3b8bf19fba5f8": {
      "model_module": "@jupyter-widgets/controls",
      "model_module_version": "2.0.0",
      "model_name": "FloatProgressModel",
      "state": {
       "_dom_classes": [],
       "_model_module": "@jupyter-widgets/controls",
       "_model_module_version": "2.0.0",
       "_model_name": "FloatProgressModel",
       "_view_count": null,
       "_view_module": "@jupyter-widgets/controls",
       "_view_module_version": "2.0.0",
       "_view_name": "ProgressView",
       "bar_style": "success",
       "description": "",
       "description_allow_html": false,
       "layout": "IPY_MODEL_bf91d01e75ed4be8b0be5ac14d318852",
       "max": 238,
       "min": 0,
       "orientation": "horizontal",
       "style": "IPY_MODEL_4135cbcf4bee43a998190dc21d6f906f",
       "tabbable": null,
       "tooltip": null,
       "value": 238
      }
     },
     "ba68660e4e974984ae5d8421b67bcfcc": {
      "model_module": "@jupyter-widgets/base",
      "model_module_version": "2.0.0",
      "model_name": "LayoutModel",
      "state": {
       "_model_module": "@jupyter-widgets/base",
       "_model_module_version": "2.0.0",
       "_model_name": "LayoutModel",
       "_view_count": null,
       "_view_module": "@jupyter-widgets/base",
       "_view_module_version": "2.0.0",
       "_view_name": "LayoutView",
       "align_content": null,
       "align_items": null,
       "align_self": null,
       "border_bottom": null,
       "border_left": null,
       "border_right": null,
       "border_top": null,
       "bottom": null,
       "display": null,
       "flex": null,
       "flex_flow": null,
       "grid_area": null,
       "grid_auto_columns": null,
       "grid_auto_flow": null,
       "grid_auto_rows": null,
       "grid_column": null,
       "grid_gap": null,
       "grid_row": null,
       "grid_template_areas": null,
       "grid_template_columns": null,
       "grid_template_rows": null,
       "height": null,
       "justify_content": null,
       "justify_items": null,
       "left": null,
       "margin": null,
       "max_height": null,
       "max_width": null,
       "min_height": null,
       "min_width": null,
       "object_fit": null,
       "object_position": null,
       "order": null,
       "overflow": null,
       "padding": null,
       "right": null,
       "top": null,
       "visibility": null,
       "width": "20px"
      }
     },
     "bb2ebdaea568411d94d56bd98e35f619": {
      "model_module": "@jupyter-widgets/controls",
      "model_module_version": "2.0.0",
      "model_name": "HTMLStyleModel",
      "state": {
       "_model_module": "@jupyter-widgets/controls",
       "_model_module_version": "2.0.0",
       "_model_name": "HTMLStyleModel",
       "_view_count": null,
       "_view_module": "@jupyter-widgets/base",
       "_view_module_version": "2.0.0",
       "_view_name": "StyleView",
       "background": null,
       "description_width": "",
       "font_size": null,
       "text_color": null
      }
     },
     "bcbb5323b95046d89d4cac0aa9cbafe6": {
      "model_module": "@jupyter-widgets/controls",
      "model_module_version": "2.0.0",
      "model_name": "HTMLStyleModel",
      "state": {
       "_model_module": "@jupyter-widgets/controls",
       "_model_module_version": "2.0.0",
       "_model_name": "HTMLStyleModel",
       "_view_count": null,
       "_view_module": "@jupyter-widgets/base",
       "_view_module_version": "2.0.0",
       "_view_name": "StyleView",
       "background": null,
       "description_width": "",
       "font_size": null,
       "text_color": null
      }
     },
     "bdbb5adbe27f43bea53e220f22485791": {
      "model_module": "@jupyter-widgets/base",
      "model_module_version": "2.0.0",
      "model_name": "LayoutModel",
      "state": {
       "_model_module": "@jupyter-widgets/base",
       "_model_module_version": "2.0.0",
       "_model_name": "LayoutModel",
       "_view_count": null,
       "_view_module": "@jupyter-widgets/base",
       "_view_module_version": "2.0.0",
       "_view_name": "LayoutView",
       "align_content": null,
       "align_items": null,
       "align_self": null,
       "border_bottom": null,
       "border_left": null,
       "border_right": null,
       "border_top": null,
       "bottom": null,
       "display": null,
       "flex": null,
       "flex_flow": null,
       "grid_area": null,
       "grid_auto_columns": null,
       "grid_auto_flow": null,
       "grid_auto_rows": null,
       "grid_column": null,
       "grid_gap": null,
       "grid_row": null,
       "grid_template_areas": null,
       "grid_template_columns": null,
       "grid_template_rows": null,
       "height": null,
       "justify_content": null,
       "justify_items": null,
       "left": null,
       "margin": null,
       "max_height": null,
       "max_width": null,
       "min_height": null,
       "min_width": null,
       "object_fit": null,
       "object_position": null,
       "order": null,
       "overflow": null,
       "padding": null,
       "right": null,
       "top": null,
       "visibility": null,
       "width": null
      }
     },
     "bf48c0f4c3f74fe1a137801393848faf": {
      "model_module": "@jupyter-widgets/controls",
      "model_module_version": "2.0.0",
      "model_name": "HBoxModel",
      "state": {
       "_dom_classes": [],
       "_model_module": "@jupyter-widgets/controls",
       "_model_module_version": "2.0.0",
       "_model_name": "HBoxModel",
       "_view_count": null,
       "_view_module": "@jupyter-widgets/controls",
       "_view_module_version": "2.0.0",
       "_view_name": "HBoxView",
       "box_style": "",
       "children": [
        "IPY_MODEL_84771f78f0ba463581655a97186ae43a",
        "IPY_MODEL_6e72da6af7eb45fdb18247207f40abf5",
        "IPY_MODEL_f9811f23b85e4b7187ea091efa4ac796"
       ],
       "layout": "IPY_MODEL_dc74adc6c6de4cb0bb563a21c03baa45",
       "tabbable": null,
       "tooltip": null
      }
     },
     "bf91d01e75ed4be8b0be5ac14d318852": {
      "model_module": "@jupyter-widgets/base",
      "model_module_version": "2.0.0",
      "model_name": "LayoutModel",
      "state": {
       "_model_module": "@jupyter-widgets/base",
       "_model_module_version": "2.0.0",
       "_model_name": "LayoutModel",
       "_view_count": null,
       "_view_module": "@jupyter-widgets/base",
       "_view_module_version": "2.0.0",
       "_view_name": "LayoutView",
       "align_content": null,
       "align_items": null,
       "align_self": null,
       "border_bottom": null,
       "border_left": null,
       "border_right": null,
       "border_top": null,
       "bottom": null,
       "display": null,
       "flex": null,
       "flex_flow": null,
       "grid_area": null,
       "grid_auto_columns": null,
       "grid_auto_flow": null,
       "grid_auto_rows": null,
       "grid_column": null,
       "grid_gap": null,
       "grid_row": null,
       "grid_template_areas": null,
       "grid_template_columns": null,
       "grid_template_rows": null,
       "height": null,
       "justify_content": null,
       "justify_items": null,
       "left": null,
       "margin": null,
       "max_height": null,
       "max_width": null,
       "min_height": null,
       "min_width": null,
       "object_fit": null,
       "object_position": null,
       "order": null,
       "overflow": null,
       "padding": null,
       "right": null,
       "top": null,
       "visibility": null,
       "width": null
      }
     },
     "c0c0d1f19ff545da821a98b3b4b4b3ff": {
      "model_module": "@jupyter-widgets/controls",
      "model_module_version": "2.0.0",
      "model_name": "HBoxModel",
      "state": {
       "_dom_classes": [],
       "_model_module": "@jupyter-widgets/controls",
       "_model_module_version": "2.0.0",
       "_model_name": "HBoxModel",
       "_view_count": null,
       "_view_module": "@jupyter-widgets/controls",
       "_view_module_version": "2.0.0",
       "_view_name": "HBoxView",
       "box_style": "",
       "children": [
        "IPY_MODEL_83b5e0a8c8d94260961cfb688c800b49",
        "IPY_MODEL_7041dd12f72a4f66b66bbc942b24708e",
        "IPY_MODEL_4050acbc7f994ca6a58a0fe8d80664ee"
       ],
       "layout": "IPY_MODEL_61fc0d72870d4093a815848b8bad948b",
       "tabbable": null,
       "tooltip": null
      }
     },
     "c29b59315ff648ae8ffd68924b6512d5": {
      "model_module": "@jupyter-widgets/controls",
      "model_module_version": "2.0.0",
      "model_name": "ProgressStyleModel",
      "state": {
       "_model_module": "@jupyter-widgets/controls",
       "_model_module_version": "2.0.0",
       "_model_name": "ProgressStyleModel",
       "_view_count": null,
       "_view_module": "@jupyter-widgets/base",
       "_view_module_version": "2.0.0",
       "_view_name": "StyleView",
       "bar_color": null,
       "description_width": ""
      }
     },
     "c53686c9f50d4be6896bc4c3acdef83f": {
      "model_module": "@jupyter-widgets/base",
      "model_module_version": "2.0.0",
      "model_name": "LayoutModel",
      "state": {
       "_model_module": "@jupyter-widgets/base",
       "_model_module_version": "2.0.0",
       "_model_name": "LayoutModel",
       "_view_count": null,
       "_view_module": "@jupyter-widgets/base",
       "_view_module_version": "2.0.0",
       "_view_name": "LayoutView",
       "align_content": null,
       "align_items": null,
       "align_self": null,
       "border_bottom": null,
       "border_left": null,
       "border_right": null,
       "border_top": null,
       "bottom": null,
       "display": null,
       "flex": null,
       "flex_flow": null,
       "grid_area": null,
       "grid_auto_columns": null,
       "grid_auto_flow": null,
       "grid_auto_rows": null,
       "grid_column": null,
       "grid_gap": null,
       "grid_row": null,
       "grid_template_areas": null,
       "grid_template_columns": null,
       "grid_template_rows": null,
       "height": null,
       "justify_content": null,
       "justify_items": null,
       "left": null,
       "margin": null,
       "max_height": null,
       "max_width": null,
       "min_height": null,
       "min_width": null,
       "object_fit": null,
       "object_position": null,
       "order": null,
       "overflow": null,
       "padding": null,
       "right": null,
       "top": null,
       "visibility": null,
       "width": null
      }
     },
     "c83182c7c7d24d3490fda1ff10ccf6ce": {
      "model_module": "@jupyter-widgets/base",
      "model_module_version": "2.0.0",
      "model_name": "LayoutModel",
      "state": {
       "_model_module": "@jupyter-widgets/base",
       "_model_module_version": "2.0.0",
       "_model_name": "LayoutModel",
       "_view_count": null,
       "_view_module": "@jupyter-widgets/base",
       "_view_module_version": "2.0.0",
       "_view_name": "LayoutView",
       "align_content": null,
       "align_items": null,
       "align_self": null,
       "border_bottom": null,
       "border_left": null,
       "border_right": null,
       "border_top": null,
       "bottom": null,
       "display": null,
       "flex": null,
       "flex_flow": null,
       "grid_area": null,
       "grid_auto_columns": null,
       "grid_auto_flow": null,
       "grid_auto_rows": null,
       "grid_column": null,
       "grid_gap": null,
       "grid_row": null,
       "grid_template_areas": null,
       "grid_template_columns": null,
       "grid_template_rows": null,
       "height": null,
       "justify_content": null,
       "justify_items": null,
       "left": null,
       "margin": null,
       "max_height": null,
       "max_width": null,
       "min_height": null,
       "min_width": null,
       "object_fit": null,
       "object_position": null,
       "order": null,
       "overflow": null,
       "padding": null,
       "right": null,
       "top": null,
       "visibility": null,
       "width": null
      }
     },
     "ca15613c7b8c43aca948cb5566c8a740": {
      "model_module": "@jupyter-widgets/base",
      "model_module_version": "2.0.0",
      "model_name": "LayoutModel",
      "state": {
       "_model_module": "@jupyter-widgets/base",
       "_model_module_version": "2.0.0",
       "_model_name": "LayoutModel",
       "_view_count": null,
       "_view_module": "@jupyter-widgets/base",
       "_view_module_version": "2.0.0",
       "_view_name": "LayoutView",
       "align_content": null,
       "align_items": null,
       "align_self": null,
       "border_bottom": null,
       "border_left": null,
       "border_right": null,
       "border_top": null,
       "bottom": null,
       "display": null,
       "flex": null,
       "flex_flow": null,
       "grid_area": null,
       "grid_auto_columns": null,
       "grid_auto_flow": null,
       "grid_auto_rows": null,
       "grid_column": null,
       "grid_gap": null,
       "grid_row": null,
       "grid_template_areas": null,
       "grid_template_columns": null,
       "grid_template_rows": null,
       "height": null,
       "justify_content": null,
       "justify_items": null,
       "left": null,
       "margin": null,
       "max_height": null,
       "max_width": null,
       "min_height": null,
       "min_width": null,
       "object_fit": null,
       "object_position": null,
       "order": null,
       "overflow": null,
       "padding": null,
       "right": null,
       "top": null,
       "visibility": null,
       "width": null
      }
     },
     "d13a87d5972540608d78a1acda3247de": {
      "model_module": "@jupyter-widgets/base",
      "model_module_version": "2.0.0",
      "model_name": "LayoutModel",
      "state": {
       "_model_module": "@jupyter-widgets/base",
       "_model_module_version": "2.0.0",
       "_model_name": "LayoutModel",
       "_view_count": null,
       "_view_module": "@jupyter-widgets/base",
       "_view_module_version": "2.0.0",
       "_view_name": "LayoutView",
       "align_content": null,
       "align_items": null,
       "align_self": null,
       "border_bottom": null,
       "border_left": null,
       "border_right": null,
       "border_top": null,
       "bottom": null,
       "display": null,
       "flex": null,
       "flex_flow": null,
       "grid_area": null,
       "grid_auto_columns": null,
       "grid_auto_flow": null,
       "grid_auto_rows": null,
       "grid_column": null,
       "grid_gap": null,
       "grid_row": null,
       "grid_template_areas": null,
       "grid_template_columns": null,
       "grid_template_rows": null,
       "height": null,
       "justify_content": null,
       "justify_items": null,
       "left": null,
       "margin": null,
       "max_height": null,
       "max_width": null,
       "min_height": null,
       "min_width": null,
       "object_fit": null,
       "object_position": null,
       "order": null,
       "overflow": null,
       "padding": null,
       "right": null,
       "top": null,
       "visibility": null,
       "width": null
      }
     },
     "d2788c89abbf473880a8daa364afa273": {
      "model_module": "@jupyter-widgets/controls",
      "model_module_version": "2.0.0",
      "model_name": "HTMLStyleModel",
      "state": {
       "_model_module": "@jupyter-widgets/controls",
       "_model_module_version": "2.0.0",
       "_model_name": "HTMLStyleModel",
       "_view_count": null,
       "_view_module": "@jupyter-widgets/base",
       "_view_module_version": "2.0.0",
       "_view_name": "StyleView",
       "background": null,
       "description_width": "",
       "font_size": null,
       "text_color": null
      }
     },
     "d31c8a96050b4b368076066337c9a06f": {
      "model_module": "@jupyter-widgets/controls",
      "model_module_version": "2.0.0",
      "model_name": "HTMLStyleModel",
      "state": {
       "_model_module": "@jupyter-widgets/controls",
       "_model_module_version": "2.0.0",
       "_model_name": "HTMLStyleModel",
       "_view_count": null,
       "_view_module": "@jupyter-widgets/base",
       "_view_module_version": "2.0.0",
       "_view_name": "StyleView",
       "background": null,
       "description_width": "",
       "font_size": null,
       "text_color": null
      }
     },
     "d3779dce6740413ebbb973bd88ca8ac8": {
      "model_module": "@jupyter-widgets/controls",
      "model_module_version": "2.0.0",
      "model_name": "HTMLStyleModel",
      "state": {
       "_model_module": "@jupyter-widgets/controls",
       "_model_module_version": "2.0.0",
       "_model_name": "HTMLStyleModel",
       "_view_count": null,
       "_view_module": "@jupyter-widgets/base",
       "_view_module_version": "2.0.0",
       "_view_name": "StyleView",
       "background": null,
       "description_width": "",
       "font_size": null,
       "text_color": null
      }
     },
     "d982caf7c3274284a77b66e147103537": {
      "model_module": "@jupyter-widgets/controls",
      "model_module_version": "2.0.0",
      "model_name": "HTMLStyleModel",
      "state": {
       "_model_module": "@jupyter-widgets/controls",
       "_model_module_version": "2.0.0",
       "_model_name": "HTMLStyleModel",
       "_view_count": null,
       "_view_module": "@jupyter-widgets/base",
       "_view_module_version": "2.0.0",
       "_view_name": "StyleView",
       "background": null,
       "description_width": "",
       "font_size": null,
       "text_color": null
      }
     },
     "dc74adc6c6de4cb0bb563a21c03baa45": {
      "model_module": "@jupyter-widgets/base",
      "model_module_version": "2.0.0",
      "model_name": "LayoutModel",
      "state": {
       "_model_module": "@jupyter-widgets/base",
       "_model_module_version": "2.0.0",
       "_model_name": "LayoutModel",
       "_view_count": null,
       "_view_module": "@jupyter-widgets/base",
       "_view_module_version": "2.0.0",
       "_view_name": "LayoutView",
       "align_content": null,
       "align_items": null,
       "align_self": null,
       "border_bottom": null,
       "border_left": null,
       "border_right": null,
       "border_top": null,
       "bottom": null,
       "display": null,
       "flex": null,
       "flex_flow": null,
       "grid_area": null,
       "grid_auto_columns": null,
       "grid_auto_flow": null,
       "grid_auto_rows": null,
       "grid_column": null,
       "grid_gap": null,
       "grid_row": null,
       "grid_template_areas": null,
       "grid_template_columns": null,
       "grid_template_rows": null,
       "height": null,
       "justify_content": null,
       "justify_items": null,
       "left": null,
       "margin": null,
       "max_height": null,
       "max_width": null,
       "min_height": null,
       "min_width": null,
       "object_fit": null,
       "object_position": null,
       "order": null,
       "overflow": null,
       "padding": null,
       "right": null,
       "top": null,
       "visibility": null,
       "width": null
      }
     },
     "e0a4b14cddf7451298ff4766a17f75c5": {
      "model_module": "@jupyter-widgets/controls",
      "model_module_version": "2.0.0",
      "model_name": "HTMLModel",
      "state": {
       "_dom_classes": [],
       "_model_module": "@jupyter-widgets/controls",
       "_model_module_version": "2.0.0",
       "_model_name": "HTMLModel",
       "_view_count": null,
       "_view_module": "@jupyter-widgets/controls",
       "_view_module_version": "2.0.0",
       "_view_name": "HTMLView",
       "description": "",
       "description_allow_html": false,
       "layout": "IPY_MODEL_a0bb49d0ad7742aaaee4985bec814ea3",
       "placeholder": "​",
       "style": "IPY_MODEL_ed8fc32a583a454da690e3c91f389b30",
       "tabbable": null,
       "tooltip": null,
       "value": " 11.4M/11.4M [00:01&lt;00:00, 10.0MB/s]"
      }
     },
     "e156fe5394ce4b81b07bfe2f1e829000": {
      "model_module": "@jupyter-widgets/base",
      "model_module_version": "2.0.0",
      "model_name": "LayoutModel",
      "state": {
       "_model_module": "@jupyter-widgets/base",
       "_model_module_version": "2.0.0",
       "_model_name": "LayoutModel",
       "_view_count": null,
       "_view_module": "@jupyter-widgets/base",
       "_view_module_version": "2.0.0",
       "_view_name": "LayoutView",
       "align_content": null,
       "align_items": null,
       "align_self": null,
       "border_bottom": null,
       "border_left": null,
       "border_right": null,
       "border_top": null,
       "bottom": null,
       "display": null,
       "flex": null,
       "flex_flow": null,
       "grid_area": null,
       "grid_auto_columns": null,
       "grid_auto_flow": null,
       "grid_auto_rows": null,
       "grid_column": null,
       "grid_gap": null,
       "grid_row": null,
       "grid_template_areas": null,
       "grid_template_columns": null,
       "grid_template_rows": null,
       "height": null,
       "justify_content": null,
       "justify_items": null,
       "left": null,
       "margin": null,
       "max_height": null,
       "max_width": null,
       "min_height": null,
       "min_width": null,
       "object_fit": null,
       "object_position": null,
       "order": null,
       "overflow": null,
       "padding": null,
       "right": null,
       "top": null,
       "visibility": null,
       "width": null
      }
     },
     "e3619910a90f455cbda9334b5cac5c50": {
      "model_module": "@jupyter-widgets/controls",
      "model_module_version": "2.0.0",
      "model_name": "HBoxModel",
      "state": {
       "_dom_classes": [],
       "_model_module": "@jupyter-widgets/controls",
       "_model_module_version": "2.0.0",
       "_model_name": "HBoxModel",
       "_view_count": null,
       "_view_module": "@jupyter-widgets/controls",
       "_view_module_version": "2.0.0",
       "_view_name": "HBoxView",
       "box_style": "",
       "children": [
        "IPY_MODEL_2f024dbf67524161aa2d6283603ccc40",
        "IPY_MODEL_f3051abf18464e7fb93029883c72a7d4",
        "IPY_MODEL_e48a01cf436f426d8a9717c506653a4c"
       ],
       "layout": "IPY_MODEL_4d92b2e4e6ee4648910409350b9ef5a6",
       "tabbable": null,
       "tooltip": null
      }
     },
     "e3b633cbbb774e61b0527ec9714f56d8": {
      "model_module": "@jupyter-widgets/base",
      "model_module_version": "2.0.0",
      "model_name": "LayoutModel",
      "state": {
       "_model_module": "@jupyter-widgets/base",
       "_model_module_version": "2.0.0",
       "_model_name": "LayoutModel",
       "_view_count": null,
       "_view_module": "@jupyter-widgets/base",
       "_view_module_version": "2.0.0",
       "_view_name": "LayoutView",
       "align_content": null,
       "align_items": null,
       "align_self": null,
       "border_bottom": null,
       "border_left": null,
       "border_right": null,
       "border_top": null,
       "bottom": null,
       "display": null,
       "flex": null,
       "flex_flow": null,
       "grid_area": null,
       "grid_auto_columns": null,
       "grid_auto_flow": null,
       "grid_auto_rows": null,
       "grid_column": null,
       "grid_gap": null,
       "grid_row": null,
       "grid_template_areas": null,
       "grid_template_columns": null,
       "grid_template_rows": null,
       "height": null,
       "justify_content": null,
       "justify_items": null,
       "left": null,
       "margin": null,
       "max_height": null,
       "max_width": null,
       "min_height": null,
       "min_width": null,
       "object_fit": null,
       "object_position": null,
       "order": null,
       "overflow": null,
       "padding": null,
       "right": null,
       "top": null,
       "visibility": null,
       "width": null
      }
     },
     "e48a01cf436f426d8a9717c506653a4c": {
      "model_module": "@jupyter-widgets/controls",
      "model_module_version": "2.0.0",
      "model_name": "HTMLModel",
      "state": {
       "_dom_classes": [],
       "_model_module": "@jupyter-widgets/controls",
       "_model_module_version": "2.0.0",
       "_model_name": "HTMLModel",
       "_view_count": null,
       "_view_module": "@jupyter-widgets/controls",
       "_view_module_version": "2.0.0",
       "_view_name": "HTMLView",
       "description": "",
       "description_allow_html": false,
       "layout": "IPY_MODEL_7a3bc89c851945cfa67b2f29e6b54b1c",
       "placeholder": "​",
       "style": "IPY_MODEL_1734606752cb43cb9bcc3b2c76a6d59e",
       "tabbable": null,
       "tooltip": null,
       "value": " 3.96G/3.96G [01:02&lt;00:00, 44.6MB/s]"
      }
     },
     "e50c839708d7437aa9d901972fa9f450": {
      "model_module": "@jupyter-widgets/controls",
      "model_module_version": "2.0.0",
      "model_name": "HTMLModel",
      "state": {
       "_dom_classes": [],
       "_model_module": "@jupyter-widgets/controls",
       "_model_module_version": "2.0.0",
       "_model_name": "HTMLModel",
       "_view_count": null,
       "_view_module": "@jupyter-widgets/controls",
       "_view_module_version": "2.0.0",
       "_view_name": "HTMLView",
       "description": "",
       "description_allow_html": false,
       "layout": "IPY_MODEL_ca15613c7b8c43aca948cb5566c8a740",
       "placeholder": "​",
       "style": "IPY_MODEL_0bf69ff9dbae4e37958bc2f63b036010",
       "tabbable": null,
       "tooltip": null,
       "value": " 32.8k/? [00:00&lt;00:00, 3.15MB/s]"
      }
     },
     "e70193317dc3408a8f3c5f07110297f6": {
      "model_module": "@jupyter-widgets/base",
      "model_module_version": "2.0.0",
      "model_name": "LayoutModel",
      "state": {
       "_model_module": "@jupyter-widgets/base",
       "_model_module_version": "2.0.0",
       "_model_name": "LayoutModel",
       "_view_count": null,
       "_view_module": "@jupyter-widgets/base",
       "_view_module_version": "2.0.0",
       "_view_name": "LayoutView",
       "align_content": null,
       "align_items": null,
       "align_self": null,
       "border_bottom": null,
       "border_left": null,
       "border_right": null,
       "border_top": null,
       "bottom": null,
       "display": null,
       "flex": null,
       "flex_flow": null,
       "grid_area": null,
       "grid_auto_columns": null,
       "grid_auto_flow": null,
       "grid_auto_rows": null,
       "grid_column": null,
       "grid_gap": null,
       "grid_row": null,
       "grid_template_areas": null,
       "grid_template_columns": null,
       "grid_template_rows": null,
       "height": null,
       "justify_content": null,
       "justify_items": null,
       "left": null,
       "margin": null,
       "max_height": null,
       "max_width": null,
       "min_height": null,
       "min_width": null,
       "object_fit": null,
       "object_position": null,
       "order": null,
       "overflow": null,
       "padding": null,
       "right": null,
       "top": null,
       "visibility": null,
       "width": null
      }
     },
     "e79fef3d8acc44b6a4cd817d6f8345b0": {
      "model_module": "@jupyter-widgets/controls",
      "model_module_version": "2.0.0",
      "model_name": "ProgressStyleModel",
      "state": {
       "_model_module": "@jupyter-widgets/controls",
       "_model_module_version": "2.0.0",
       "_model_name": "ProgressStyleModel",
       "_view_count": null,
       "_view_module": "@jupyter-widgets/base",
       "_view_module_version": "2.0.0",
       "_view_name": "StyleView",
       "bar_color": null,
       "description_width": ""
      }
     },
     "e82803cb741f4138adbed40bb78bd666": {
      "model_module": "@jupyter-widgets/base",
      "model_module_version": "2.0.0",
      "model_name": "LayoutModel",
      "state": {
       "_model_module": "@jupyter-widgets/base",
       "_model_module_version": "2.0.0",
       "_model_name": "LayoutModel",
       "_view_count": null,
       "_view_module": "@jupyter-widgets/base",
       "_view_module_version": "2.0.0",
       "_view_name": "LayoutView",
       "align_content": null,
       "align_items": null,
       "align_self": null,
       "border_bottom": null,
       "border_left": null,
       "border_right": null,
       "border_top": null,
       "bottom": null,
       "display": null,
       "flex": null,
       "flex_flow": null,
       "grid_area": null,
       "grid_auto_columns": null,
       "grid_auto_flow": null,
       "grid_auto_rows": null,
       "grid_column": null,
       "grid_gap": null,
       "grid_row": null,
       "grid_template_areas": null,
       "grid_template_columns": null,
       "grid_template_rows": null,
       "height": null,
       "justify_content": null,
       "justify_items": null,
       "left": null,
       "margin": null,
       "max_height": null,
       "max_width": null,
       "min_height": null,
       "min_width": null,
       "object_fit": null,
       "object_position": null,
       "order": null,
       "overflow": null,
       "padding": null,
       "right": null,
       "top": null,
       "visibility": null,
       "width": null
      }
     },
     "ec475f13957f4713aa34ff35fbd3f733": {
      "model_module": "@jupyter-widgets/base",
      "model_module_version": "2.0.0",
      "model_name": "LayoutModel",
      "state": {
       "_model_module": "@jupyter-widgets/base",
       "_model_module_version": "2.0.0",
       "_model_name": "LayoutModel",
       "_view_count": null,
       "_view_module": "@jupyter-widgets/base",
       "_view_module_version": "2.0.0",
       "_view_name": "LayoutView",
       "align_content": null,
       "align_items": null,
       "align_self": null,
       "border_bottom": null,
       "border_left": null,
       "border_right": null,
       "border_top": null,
       "bottom": null,
       "display": null,
       "flex": null,
       "flex_flow": null,
       "grid_area": null,
       "grid_auto_columns": null,
       "grid_auto_flow": null,
       "grid_auto_rows": null,
       "grid_column": null,
       "grid_gap": null,
       "grid_row": null,
       "grid_template_areas": null,
       "grid_template_columns": null,
       "grid_template_rows": null,
       "height": null,
       "justify_content": null,
       "justify_items": null,
       "left": null,
       "margin": null,
       "max_height": null,
       "max_width": null,
       "min_height": null,
       "min_width": null,
       "object_fit": null,
       "object_position": null,
       "order": null,
       "overflow": null,
       "padding": null,
       "right": null,
       "top": null,
       "visibility": null,
       "width": null
      }
     },
     "ed8fc32a583a454da690e3c91f389b30": {
      "model_module": "@jupyter-widgets/controls",
      "model_module_version": "2.0.0",
      "model_name": "HTMLStyleModel",
      "state": {
       "_model_module": "@jupyter-widgets/controls",
       "_model_module_version": "2.0.0",
       "_model_name": "HTMLStyleModel",
       "_view_count": null,
       "_view_module": "@jupyter-widgets/base",
       "_view_module_version": "2.0.0",
       "_view_name": "StyleView",
       "background": null,
       "description_width": "",
       "font_size": null,
       "text_color": null
      }
     },
     "ee6894e6b62248cb813daa4491f972c6": {
      "model_module": "@jupyter-widgets/base",
      "model_module_version": "2.0.0",
      "model_name": "LayoutModel",
      "state": {
       "_model_module": "@jupyter-widgets/base",
       "_model_module_version": "2.0.0",
       "_model_name": "LayoutModel",
       "_view_count": null,
       "_view_module": "@jupyter-widgets/base",
       "_view_module_version": "2.0.0",
       "_view_name": "LayoutView",
       "align_content": null,
       "align_items": null,
       "align_self": null,
       "border_bottom": null,
       "border_left": null,
       "border_right": null,
       "border_top": null,
       "bottom": null,
       "display": null,
       "flex": null,
       "flex_flow": null,
       "grid_area": null,
       "grid_auto_columns": null,
       "grid_auto_flow": null,
       "grid_auto_rows": null,
       "grid_column": null,
       "grid_gap": null,
       "grid_row": null,
       "grid_template_areas": null,
       "grid_template_columns": null,
       "grid_template_rows": null,
       "height": null,
       "justify_content": null,
       "justify_items": null,
       "left": null,
       "margin": null,
       "max_height": null,
       "max_width": null,
       "min_height": null,
       "min_width": null,
       "object_fit": null,
       "object_position": null,
       "order": null,
       "overflow": null,
       "padding": null,
       "right": null,
       "top": null,
       "visibility": null,
       "width": null
      }
     },
     "f090e3d3d6084e68a91f57a43b02ded9": {
      "model_module": "@jupyter-widgets/controls",
      "model_module_version": "2.0.0",
      "model_name": "FloatProgressModel",
      "state": {
       "_dom_classes": [],
       "_model_module": "@jupyter-widgets/controls",
       "_model_module_version": "2.0.0",
       "_model_name": "FloatProgressModel",
       "_view_count": null,
       "_view_module": "@jupyter-widgets/controls",
       "_view_module_version": "2.0.0",
       "_view_name": "ProgressView",
       "bar_style": "success",
       "description": "",
       "description_allow_html": false,
       "layout": "IPY_MODEL_6970b9cb5c5e40ba8222ff09486f6497",
       "max": 1,
       "min": 0,
       "orientation": "horizontal",
       "style": "IPY_MODEL_2fa660c2bec1416494deed7b9642fa52",
       "tabbable": null,
       "tooltip": null,
       "value": 1
      }
     },
     "f3051abf18464e7fb93029883c72a7d4": {
      "model_module": "@jupyter-widgets/controls",
      "model_module_version": "2.0.0",
      "model_name": "FloatProgressModel",
      "state": {
       "_dom_classes": [],
       "_model_module": "@jupyter-widgets/controls",
       "_model_module_version": "2.0.0",
       "_model_name": "FloatProgressModel",
       "_view_count": null,
       "_view_module": "@jupyter-widgets/controls",
       "_view_module_version": "2.0.0",
       "_view_name": "ProgressView",
       "bar_style": "success",
       "description": "",
       "description_allow_html": false,
       "layout": "IPY_MODEL_0d13acbae2dc4f48a9faae0681c90db3",
       "max": 3957900840,
       "min": 0,
       "orientation": "horizontal",
       "style": "IPY_MODEL_902902a168294e09a8e5ebfab454bc4d",
       "tabbable": null,
       "tooltip": null,
       "value": 3957900840
      }
     },
     "f363eab900d14928bbac3f1c6f51c2f3": {
      "model_module": "@jupyter-widgets/base",
      "model_module_version": "2.0.0",
      "model_name": "LayoutModel",
      "state": {
       "_model_module": "@jupyter-widgets/base",
       "_model_module_version": "2.0.0",
       "_model_name": "LayoutModel",
       "_view_count": null,
       "_view_module": "@jupyter-widgets/base",
       "_view_module_version": "2.0.0",
       "_view_name": "LayoutView",
       "align_content": null,
       "align_items": null,
       "align_self": null,
       "border_bottom": null,
       "border_left": null,
       "border_right": null,
       "border_top": null,
       "bottom": null,
       "display": null,
       "flex": null,
       "flex_flow": null,
       "grid_area": null,
       "grid_auto_columns": null,
       "grid_auto_flow": null,
       "grid_auto_rows": null,
       "grid_column": null,
       "grid_gap": null,
       "grid_row": null,
       "grid_template_areas": null,
       "grid_template_columns": null,
       "grid_template_rows": null,
       "height": null,
       "justify_content": null,
       "justify_items": null,
       "left": null,
       "margin": null,
       "max_height": null,
       "max_width": null,
       "min_height": null,
       "min_width": null,
       "object_fit": null,
       "object_position": null,
       "order": null,
       "overflow": null,
       "padding": null,
       "right": null,
       "top": null,
       "visibility": null,
       "width": null
      }
     },
     "f586770fa8a3476594c9b71865010ba0": {
      "model_module": "@jupyter-widgets/base",
      "model_module_version": "2.0.0",
      "model_name": "LayoutModel",
      "state": {
       "_model_module": "@jupyter-widgets/base",
       "_model_module_version": "2.0.0",
       "_model_name": "LayoutModel",
       "_view_count": null,
       "_view_module": "@jupyter-widgets/base",
       "_view_module_version": "2.0.0",
       "_view_name": "LayoutView",
       "align_content": null,
       "align_items": null,
       "align_self": null,
       "border_bottom": null,
       "border_left": null,
       "border_right": null,
       "border_top": null,
       "bottom": null,
       "display": null,
       "flex": null,
       "flex_flow": null,
       "grid_area": null,
       "grid_auto_columns": null,
       "grid_auto_flow": null,
       "grid_auto_rows": null,
       "grid_column": null,
       "grid_gap": null,
       "grid_row": null,
       "grid_template_areas": null,
       "grid_template_columns": null,
       "grid_template_rows": null,
       "height": null,
       "justify_content": null,
       "justify_items": null,
       "left": null,
       "margin": null,
       "max_height": null,
       "max_width": null,
       "min_height": null,
       "min_width": null,
       "object_fit": null,
       "object_position": null,
       "order": null,
       "overflow": null,
       "padding": null,
       "right": null,
       "top": null,
       "visibility": null,
       "width": "20px"
      }
     },
     "f9811f23b85e4b7187ea091efa4ac796": {
      "model_module": "@jupyter-widgets/controls",
      "model_module_version": "2.0.0",
      "model_name": "HTMLModel",
      "state": {
       "_dom_classes": [],
       "_model_module": "@jupyter-widgets/controls",
       "_model_module_version": "2.0.0",
       "_model_name": "HTMLModel",
       "_view_count": null,
       "_view_module": "@jupyter-widgets/controls",
       "_view_module_version": "2.0.0",
       "_view_name": "HTMLView",
       "description": "",
       "description_allow_html": false,
       "layout": "IPY_MODEL_0867cb2c16f148848c566fbdab6721da",
       "placeholder": "​",
       "style": "IPY_MODEL_d982caf7c3274284a77b66e147103537",
       "tabbable": null,
       "tooltip": null,
       "value": " 99.6M/99.6M [00:01&lt;00:00, 58.4MB/s]"
      }
     }
    },
    "version_major": 2,
    "version_minor": 0
   }
  }
 },
 "nbformat": 4,
 "nbformat_minor": 5
}
